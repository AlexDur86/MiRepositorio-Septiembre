{
 "cells": [
  {
   "cell_type": "code",
   "execution_count": 1,
   "id": "f47aa068-69d0-47ca-9498-96b0c0aaffea",
   "metadata": {},
   "outputs": [
    {
     "name": "stdout",
     "output_type": "stream",
     "text": [
      "Hello\n"
     ]
    }
   ],
   "source": [
    "# Programacion funcional\n",
    "\n",
    "print(\"Hello\")"
   ]
  },
  {
   "cell_type": "code",
   "execution_count": 3,
   "id": "ef5d6a9a-64e8-49e7-848c-24b1cb19148a",
   "metadata": {},
   "outputs": [
    {
     "name": "stdout",
     "output_type": "stream",
     "text": [
      "hola que tal hola que pasa que tal\n"
     ]
    }
   ],
   "source": [
    "l = ['hola','que','tal','hola','que','pasa','que','tal']\n",
    "\n",
    "string = ' '.join(l)\n",
    "print(string)"
   ]
  },
  {
   "cell_type": "code",
   "execution_count": 4,
   "id": "e8fc2f29-23c7-4d93-8384-4354f6c94977",
   "metadata": {},
   "outputs": [
    {
     "data": {
      "text/plain": [
       "('hola', 'que', 'tal', 'hola', 'que', 'pasa', 'que', 'tal')"
      ]
     },
     "execution_count": 4,
     "metadata": {},
     "output_type": "execute_result"
    }
   ],
   "source": [
    "tupla = tuple(l)\n",
    "tupla"
   ]
  },
  {
   "cell_type": "code",
   "execution_count": 5,
   "id": "92855214-37e3-4fbf-a859-1c5850e2fe55",
   "metadata": {},
   "outputs": [
    {
     "data": {
      "text/plain": [
       "{'hola', 'pasa', 'que', 'tal'}"
      ]
     },
     "execution_count": 5,
     "metadata": {},
     "output_type": "execute_result"
    }
   ],
   "source": [
    "set_l = set(l)\n",
    "set_l"
   ]
  },
  {
   "cell_type": "code",
   "execution_count": 7,
   "id": "13533e36-7b7f-42e1-b1e0-5c572b22d033",
   "metadata": {},
   "outputs": [
    {
     "data": {
      "text/plain": [
       "['hola', 'que', 'tal', 'hola', 'que', 'pasa', 'que', 'tal']"
      ]
     },
     "execution_count": 7,
     "metadata": {},
     "output_type": "execute_result"
    }
   ],
   "source": [
    "l"
   ]
  },
  {
   "cell_type": "code",
   "execution_count": 10,
   "id": "46592a57-f26a-4e40-b9df-372c295dce76",
   "metadata": {},
   "outputs": [
    {
     "data": {
      "text/plain": [
       "{'hola': 2, 'que': 3, 'tal': 2, 'pasa': 1}"
      ]
     },
     "execution_count": 10,
     "metadata": {},
     "output_type": "execute_result"
    }
   ],
   "source": [
    "repeticiones = {i:l.count(i) for i in l}\n",
    "repeticiones"
   ]
  },
  {
   "cell_type": "code",
   "execution_count": 15,
   "id": "adb17808-bb4f-40a7-8169-907cf3b4eef1",
   "metadata": {},
   "outputs": [
    {
     "data": {
      "text/plain": [
       "[['pasa', 1], ['que', 3], ['hola', 2], ['tal', 2]]"
      ]
     },
     "execution_count": 15,
     "metadata": {},
     "output_type": "execute_result"
    }
   ],
   "source": [
    "[[x,l.count(x)] for x in set(l)]"
   ]
  },
  {
   "cell_type": "code",
   "execution_count": 12,
   "id": "80652ca2-a709-4f42-a5c3-a52c14de4f9a",
   "metadata": {},
   "outputs": [
    {
     "data": {
      "text/plain": [
       "4"
      ]
     },
     "execution_count": 12,
     "metadata": {},
     "output_type": "execute_result"
    }
   ],
   "source": [
    "import random\n",
    "\n",
    "a = random.randint(0,5)\n",
    "a"
   ]
  },
  {
   "cell_type": "code",
   "execution_count": 16,
   "id": "f834cb40-202e-46c2-917e-0e7e31be5f51",
   "metadata": {},
   "outputs": [
    {
     "name": "stdout",
     "output_type": "stream",
     "text": [
      "5050\n"
     ]
    }
   ],
   "source": [
    "print(sum(range(1,101)))"
   ]
  },
  {
   "cell_type": "code",
   "execution_count": 17,
   "id": "40ad1b5b-f2cc-4319-ac07-35a455b528f7",
   "metadata": {},
   "outputs": [
    {
     "name": "stdout",
     "output_type": "stream",
     "text": [
      "1\n",
      "2\n",
      "4\n",
      "5\n"
     ]
    }
   ],
   "source": [
    "x = [1,2,3,4,5]\n",
    "for a in x:\n",
    "    print(a)\n",
    "    if a == 2:\n",
    "        x.remove(1)"
   ]
  },
  {
   "cell_type": "code",
   "execution_count": null,
   "id": "f8a1d1ea-bdfa-4654-8dc7-fea9b161ef97",
   "metadata": {},
   "outputs": [],
   "source": []
  }
 ],
 "metadata": {
  "kernelspec": {
   "display_name": "Python 3",
   "language": "python",
   "name": "python3"
  },
  "language_info": {
   "codemirror_mode": {
    "name": "ipython",
    "version": 3
   },
   "file_extension": ".py",
   "mimetype": "text/x-python",
   "name": "python",
   "nbconvert_exporter": "python",
   "pygments_lexer": "ipython3",
   "version": "3.8.8"
  }
 },
 "nbformat": 4,
 "nbformat_minor": 5
}
