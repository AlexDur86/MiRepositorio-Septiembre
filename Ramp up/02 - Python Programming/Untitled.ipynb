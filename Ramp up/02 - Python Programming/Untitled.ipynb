{
 "cells": [
  {
   "cell_type": "code",
   "execution_count": 4,
   "id": "9d14e6dc-29dd-4402-b90d-25ae03af7697",
   "metadata": {},
   "outputs": [],
   "source": [
    "import random \n",
    "import sys\n",
    "\n",
    "def piedra_papel_tijera():\n",
    "    \n",
    "    x = 3\n",
    "    while x > 0:\n",
    "        pc = random.choice([\"piedra\", \"pi\", \"tijera\", \"ti\", \"papel\", \"pa\"])\n",
    "        jugador = input(\"Elija una opción: \").lower()\n",
    "    \n",
    "        if jugador == \"piedra\" or jugador == \"pi\":\n",
    "            if pc == \"piedra\" or pc == \"pi\":\n",
    "                print(\"El ordenador elige piedra, Empate!\")\n",
    "                continue\n",
    "            elif pc == \"papel\" or pc == \"pa\":\n",
    "                print(\"El ordenador elige papel, pierdes\")\n",
    "                x -= 1\n",
    "            elif pc == \"tijera\" or pc == \"ti\":\n",
    "                print(\"El ordenador elije tijera, ganas\")\n",
    "                x -= 1\n",
    "                \n",
    "        elif jugador == \"tijera\" or jugador == \"ti\":\n",
    "            if pc == \"piedra\" or pc == \"pi\":\n",
    "                print(\"El ordenador elige piedra, pierdes\")\n",
    "                x -= 1\n",
    "            elif pc == \"papel\" or pc == \"pa\":\n",
    "                print(\"El ordenador elige papel, ganas\")\n",
    "                x -= 1\n",
    "            elif pc == \"tijera\" or pc == \"ti\":\n",
    "                print(\"El ordenador elije tijera, empate!\")\n",
    "                continue\n",
    "                \n",
    "        elif jugador == \"papel\" or jugador == \"pa\":\n",
    "            if pc == \"piedra\" or pc == \"pi\":\n",
    "                print(\"El ordenador elige piedra, ganas\")\n",
    "                x -= 1\n",
    "            elif pc == \"papel\" or pc == \"pa\":\n",
    "                print(\"El ordenador elige papel, empate\")\n",
    "                continue\n",
    "            elif pc == \"tijera\" or pc == \"ti\":\n",
    "                print(\"El ordenador elije tijera, pierdes\")\n",
    "                x -= 1\n",
    "                \n",
    "        else:\n",
    "            print(\"Introduzca una opción valida\")\n",
    "            \n",
    "                \n",
    "                \n",
    "\n",
    "       "
   ]
  },
  {
   "cell_type": "code",
   "execution_count": null,
   "id": "819f566b-951e-4797-bb4c-18b009dde408",
   "metadata": {},
   "outputs": [],
   "source": []
  },
  {
   "cell_type": "code",
   "execution_count": 5,
   "id": "3f11d61f-1bf4-4ca3-aa6e-9ef51f614370",
   "metadata": {},
   "outputs": [
    {
     "ename": "ModuleNotFoundError",
     "evalue": "No module named 'piedra_papel_tijera'",
     "output_type": "error",
     "traceback": [
      "\u001b[1;31m---------------------------------------------------------------------------\u001b[0m",
      "\u001b[1;31mModuleNotFoundError\u001b[0m                       Traceback (most recent call last)",
      "\u001b[1;32m<ipython-input-5-ff2bf82fdb30>\u001b[0m in \u001b[0;36m<module>\u001b[1;34m\u001b[0m\n\u001b[0;32m      1\u001b[0m \u001b[1;32mfrom\u001b[0m \u001b[0mrandom\u001b[0m \u001b[1;32mimport\u001b[0m \u001b[0mchoice\u001b[0m\u001b[1;33m\u001b[0m\u001b[1;33m\u001b[0m\u001b[0m\n\u001b[1;32m----> 2\u001b[1;33m \u001b[1;32mimport\u001b[0m \u001b[0mpiedra_papel_tijera\u001b[0m \u001b[1;32mas\u001b[0m \u001b[0mppt\u001b[0m\u001b[1;33m\u001b[0m\u001b[1;33m\u001b[0m\u001b[0m\n\u001b[0m\u001b[0;32m      3\u001b[0m \u001b[1;32mimport\u001b[0m \u001b[0msys\u001b[0m\u001b[1;33m\u001b[0m\u001b[1;33m\u001b[0m\u001b[0m\n\u001b[0;32m      4\u001b[0m \u001b[1;33m\u001b[0m\u001b[0m\n\u001b[0;32m      5\u001b[0m \u001b[1;32mdef\u001b[0m \u001b[0mresultado\u001b[0m\u001b[1;33m(\u001b[0m\u001b[1;33m)\u001b[0m\u001b[1;33m:\u001b[0m\u001b[1;33m\u001b[0m\u001b[1;33m\u001b[0m\u001b[0m\n",
      "\u001b[1;31mModuleNotFoundError\u001b[0m: No module named 'piedra_papel_tijera'"
     ]
    }
   ],
   "source": [
    "from random import choice\n",
    "import piedra_papel_tijera as ppt\n",
    "import sys\n",
    "\n",
    "def resultado():\n",
    "    jug_score = 0\n",
    "    pc_score = 0\n",
    "    x = 3\n",
    "\n",
    "    while x > 0:\n",
    "        pc = ppt.pc\n",
    "        jugador = ppt.jugador\n",
    "    \n",
    "        if jugador == \"piedra\" or jugador == \"pi\":\n",
    "            if pc == \"piedra\" or pc == \"pi\":\n",
    "                continue\n",
    "            elif pc == \"papel\" or pc == \"pa\":\n",
    "                x -= 1\n",
    "                pc_score += 1\n",
    "            elif pc == \"tijera\" or pc == \"ti\":\n",
    "                x -= 1\n",
    "                jug_score += 1\n",
    "  \n",
    "        elif jugador == \"tijera\" or jugador == \"ti\":\n",
    "            if pc == \"piedra\" or pc == \"pi\":\n",
    "                x -= 1\n",
    "                pc_score += 1\n",
    "            elif pc == \"papel\" or pc == \"pa\":\n",
    "                x -= 1\n",
    "                jug_score += 1\n",
    "            elif pc == \"tijera\" or pc == \"ti\":\n",
    "                continue\n",
    "                \n",
    "        elif jugador == \"papel\" or jugador == \"pa\":\n",
    "            if pc == \"piedra\" or pc == \"pi\":\n",
    "                x -= 1\n",
    "                jug_score += 1\n",
    "            elif pc == \"papel\" or pc == \"pa\":\n",
    "                continue\n",
    "            elif pc == \"tijera\" or pc == \"ti\":\n",
    "                x -= 1\n",
    "                pc_score += 1\n",
    "                \n",
    "        else:\n",
    "            print(\"Introduzca una opción valida\")\n",
    "            \n",
    "\n",
    "    if jug_score == 2:\n",
    "        print(\"El jugador gana la partida\")\n",
    "    else:\n",
    "        print(\"El ordenador gana la partida\")\n",
    "        \n",
    "resultado()"
   ]
  },
  {
   "cell_type": "code",
   "execution_count": 6,
   "id": "f05521ce-1a8d-4f85-9417-b03aa7702623",
   "metadata": {},
   "outputs": [
    {
     "name": "stdout",
     "output_type": "stream",
     "text": [
      "['C:\\\\Users\\\\34620\\\\Desktop\\\\Bootamp Data Science SEP\\\\Ramp up\\\\02 - Python Programming', 'C:\\\\Users\\\\34620\\\\anaconda3\\\\python38.zip', 'C:\\\\Users\\\\34620\\\\anaconda3\\\\DLLs', 'C:\\\\Users\\\\34620\\\\anaconda3\\\\lib', 'C:\\\\Users\\\\34620\\\\anaconda3', '', 'C:\\\\Users\\\\34620\\\\anaconda3\\\\lib\\\\site-packages', 'C:\\\\Users\\\\34620\\\\anaconda3\\\\lib\\\\site-packages\\\\locket-0.2.1-py3.8.egg', 'C:\\\\Users\\\\34620\\\\anaconda3\\\\lib\\\\site-packages\\\\win32', 'C:\\\\Users\\\\34620\\\\anaconda3\\\\lib\\\\site-packages\\\\win32\\\\lib', 'C:\\\\Users\\\\34620\\\\anaconda3\\\\lib\\\\site-packages\\\\Pythonwin', 'C:\\\\Users\\\\34620\\\\anaconda3\\\\lib\\\\site-packages\\\\IPython\\\\extensions', 'C:\\\\Users\\\\34620\\\\.ipython']\n"
     ]
    }
   ],
   "source": [
    "print(sys.path)"
   ]
  },
  {
   "cell_type": "code",
   "execution_count": 1,
   "id": "a4e42498-f159-4be3-9230-2da946a6fc91",
   "metadata": {},
   "outputs": [
    {
     "name": "stdout",
     "output_type": "stream",
     "text": [
      "[0, 1, 4, 9]\n"
     ]
    }
   ],
   "source": [
    "x = []\n",
    "\n",
    "for a in range(4):\n",
    "    x.append(a ** 2)\n",
    "    \n",
    "print(x)"
   ]
  },
  {
   "cell_type": "code",
   "execution_count": null,
   "id": "bd18f76a-e131-4080-b7d8-167482cf5068",
   "metadata": {},
   "outputs": [],
   "source": []
  },
  {
   "cell_type": "code",
   "execution_count": 10,
   "id": "82c7e4f3-682b-42d8-a9b4-58a9433b0178",
   "metadata": {},
   "outputs": [
    {
     "name": "stdout",
     "output_type": "stream",
     "text": [
      "6\n"
     ]
    }
   ],
   "source": [
    "players = [180, 172, 178, 185, 190, 195, 192, 200, 210, 190]\n",
    "\n",
    "mean = sum(players) / len(players)\n",
    "stdvar = (sum([(i - mean)**2 for i in players]) / len(players)) ** 0.5\n",
    "\n",
    "low = mean - stdvar\n",
    "high = mean + stdvar\n",
    "\n",
    "count = len([i for i in players if low < i < high])\n",
    "print(count)"
   ]
  },
  {
   "cell_type": "code",
   "execution_count": 5,
   "id": "ecf9ad6b-294d-4dfa-ab26-50e2b92106eb",
   "metadata": {},
   "outputs": [
    {
     "name": "stdout",
     "output_type": "stream",
     "text": [
      "178\n",
      "179\n",
      "180\n",
      "181\n",
      "182\n",
      "183\n",
      "184\n",
      "185\n",
      "186\n",
      "187\n",
      "188\n",
      "189\n",
      "190\n",
      "191\n",
      "192\n",
      "193\n",
      "194\n",
      "195\n",
      "196\n",
      "197\n",
      "198\n",
      "199\n"
     ]
    }
   ],
   "source": [
    "import statistics\n",
    "\n",
    "players = [180, 172, 178, 185, 190, 195, 192, 200, 210, 190]\n",
    "\n",
    "\n",
    "\n",
    "std = statistics.stdev(players)\n",
    "mean =  statistics.mean(players)\n",
    "\n",
    "for players in range(int(mean-std), int(mean+std)):\n",
    "    print(players)"
   ]
  },
  {
   "cell_type": "code",
   "execution_count": 16,
   "id": "b67203db-690c-4fe3-ad48-79ceed2c23e1",
   "metadata": {},
   "outputs": [
    {
     "name": "stdout",
     "output_type": "stream",
     "text": [
      "2\n",
      "9\n",
      "(3, 3)\n",
      "[2 4 6]\n"
     ]
    }
   ],
   "source": [
    "import numpy as np\n",
    "\n",
    "x = np.array ([[1, 2, 3], [4, 5, 6], [7, 8, 9]]) \n",
    " \n",
    "print(x.ndim) # 2\n",
    " \n",
    "print(x.size) # 9\n",
    " \n",
    "print(x.shape) # (3, 3)\n",
    "\n",
    "y = np.arange(2,8,2)\n",
    "print(y)\n"
   ]
  },
  {
   "cell_type": "code",
   "execution_count": 17,
   "id": "41335be6-b587-48ad-aa39-9da0b487084b",
   "metadata": {},
   "outputs": [
    {
     "name": "stdout",
     "output_type": "stream",
     "text": [
      "4\n"
     ]
    }
   ],
   "source": [
    "x = np.arange(1, 8, 3)\n",
    "z = x.reshape(3, 1)\n",
    "print(z[1][0])"
   ]
  },
  {
   "cell_type": "code",
   "execution_count": 21,
   "id": "1abbc1be-47e2-4712-b3f0-c502044654aa",
   "metadata": {},
   "outputs": [
    {
     "name": "stdout",
     "output_type": "stream",
     "text": [
      "[1 2 3]\n",
      "[1 2 3 4]\n"
     ]
    }
   ],
   "source": [
    "d = np.arange(1, 10)\n",
    "print(d[d < 4])\n",
    "print(d[d < 5]) and (d%2 == 0)"
   ]
  },
  {
   "cell_type": "code",
   "execution_count": 23,
   "id": "10d4005d-b48f-4c7f-8612-4fd30bb399aa",
   "metadata": {},
   "outputs": [
    {
     "name": "stdout",
     "output_type": "stream",
     "text": [
      "2\n",
      "[42 18]\n"
     ]
    }
   ],
   "source": [
    "x = np.array([11, 42, 8, 5, 18])\n",
    "z = x[x>15]\n",
    "print(z.size)\n",
    "print(z)"
   ]
  },
  {
   "cell_type": "code",
   "execution_count": 25,
   "id": "bdf44208-bcfe-4e74-9aae-d66ba7ab7ab7",
   "metadata": {},
   "outputs": [
    {
     "name": "stdout",
     "output_type": "stream",
     "text": [
      "[3 4 5 6 7 8]\n",
      "[[3 4 5]\n",
      " [6 7 8]]\n",
      "7\n"
     ]
    }
   ],
   "source": [
    "x = np.arange(3, 9)\n",
    "print(x)\n",
    "z = x.reshape(2, 3)\n",
    "print(z)\n",
    "print(z[1][1])"
   ]
  },
  {
   "cell_type": "code",
   "execution_count": 15,
   "id": "3a4c1b35-1c0c-4121-abd7-a785d825f312",
   "metadata": {},
   "outputs": [
    {
     "name": "stdout",
     "output_type": "stream",
     "text": [
      "3\n"
     ]
    }
   ],
   "source": [
    "x = np.arange(2, 8, 2)\n",
    "x = np.append(x, x.size)\n",
    "x = np.sort(x)\n",
    "print(x[1])"
   ]
  },
  {
   "cell_type": "code",
   "execution_count": 27,
   "id": "d84a95a0-0998-4f2c-8f67-4bf1c1d8ed67",
   "metadata": {},
   "outputs": [
    {
     "name": "stdout",
     "output_type": "stream",
     "text": [
      "[2 4 6 8]\n",
      "12\n"
     ]
    }
   ],
   "source": [
    "x = np.arange(1, 5)\n",
    "x = x*2\n",
    "print(x)\n",
    "print(x[:3].sum())"
   ]
  },
  {
   "cell_type": "code",
   "execution_count": 28,
   "id": "9be20df8-1105-4d6c-a3bf-09ce32c17e05",
   "metadata": {},
   "outputs": [
    {
     "name": "stdout",
     "output_type": "stream",
     "text": [
      "62.5\n"
     ]
    }
   ],
   "source": [
    "data = np.array([150000, 125000, 320000, 540000, 200000, 120000, 160000, 230000, 280000, 290000, 300000, 500000, 420000, 100000, 150000, 280000])\n",
    "\n",
    "mean = np.mean(data)\n",
    "std = np.std(data)\n",
    "low = mean-std\n",
    "high = mean+std\n",
    "count = 0\n",
    "\n",
    "for i in data:\n",
    "    if low < i < high:\n",
    "        count += 1\n",
    "\n",
    "result = (count / len(data))*100\n",
    "\n",
    "print(result)"
   ]
  },
  {
   "cell_type": "code",
   "execution_count": null,
   "id": "9dfecb4d-8719-4a75-9c62-7dd57bf1b4be",
   "metadata": {},
   "outputs": [],
   "source": []
  },
  {
   "cell_type": "code",
   "execution_count": 3,
   "id": "d06f9caa-402e-429c-98dd-c329e0693a5f",
   "metadata": {},
   "outputs": [
    {
     "name": "stdout",
     "output_type": "stream",
     "text": [
      "   a  b  c\n",
      "0  1  3  5\n",
      "1  2  4  6\n"
     ]
    }
   ],
   "source": [
    "import pandas as pd\n",
    "\n",
    "x = {\n",
    "'a': [1, 2],\n",
    "'b': [3, 4],\n",
    "'c': [5, 6]\n",
    "}\n",
    "df = pd.DataFrame(x)\n",
    "\n",
    "print(df)"
   ]
  },
  {
   "cell_type": "code",
   "execution_count": 4,
   "id": "55bffbae-6846-4361-8dc7-f70f64c96af4",
   "metadata": {},
   "outputs": [
    {
     "name": "stdout",
     "output_type": "stream",
     "text": [
      "7\n"
     ]
    }
   ],
   "source": [
    "import pandas as pd\n",
    "data = {\n",
    "    'a': [1, 2, 3],\n",
    "    'b': [5, 8, 4]\n",
    "}\n",
    "df = pd.DataFrame(data)\n",
    "df['c'] = df['a']+df['b']\n",
    "print(df.iloc[2]['c'])"
   ]
  },
  {
   "cell_type": "code",
   "execution_count": null,
   "id": "b795923c-524b-4fd2-a4d8-e69db7767118",
   "metadata": {},
   "outputs": [],
   "source": []
  },
  {
   "cell_type": "code",
   "execution_count": null,
   "id": "7d2bdd79-3712-4bce-b545-6f675ec51a67",
   "metadata": {},
   "outputs": [],
   "source": []
  }
 ],
 "metadata": {
  "kernelspec": {
   "display_name": "Python 3",
   "language": "python",
   "name": "python3"
  },
  "language_info": {
   "codemirror_mode": {
    "name": "ipython",
    "version": 3
   },
   "file_extension": ".py",
   "mimetype": "text/x-python",
   "name": "python",
   "nbconvert_exporter": "python",
   "pygments_lexer": "ipython3",
   "version": "3.8.8"
  }
 },
 "nbformat": 4,
 "nbformat_minor": 5
}
