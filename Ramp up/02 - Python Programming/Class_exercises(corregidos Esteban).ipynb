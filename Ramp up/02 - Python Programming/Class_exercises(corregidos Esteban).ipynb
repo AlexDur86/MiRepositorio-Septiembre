{
 "cells": [
  {
   "cell_type": "markdown",
   "id": "5763bd69-51fd-42cd-9f81-38cb8420de8a",
   "metadata": {},
   "source": [
    "<div style=\"text-align:center\"><img src=\"./images/python_ex.png\" /></div>"
   ]
  },
  {
   "cell_type": "markdown",
   "id": "140e6b38-c694-4a9b-9632-04efd53a14c1",
   "metadata": {},
   "source": [
    "<a href=\"00_cover_page.ipynb\"><p style=\"text-align:right;\" href=\"00_cover_page.ipynb\">Back To Cover Page</p></a> "
   ]
  },
  {
   "cell_type": "markdown",
   "id": "d73153e3-cea6-4b66-b1f2-a55e24abe9c9",
   "metadata": {},
   "source": [
    "<a id = \"IDX\"></a>\n",
    "# Class Exercises\n",
    "##### Index\n",
    "- [2. Variables in Python](#2.)\n",
    "- [3. Conditionals](#3.)\n",
    "- [4. Data Structures](#4.)\n",
    "- [5. Loops](#5.)\n",
    "- [6. Functions (I)](#6.)\n",
    "- [7. Modules](#7.)\n",
    "- [8. Functions (II)](#8.)\n",
    "- [9. Classes](#9.)\n",
    "- [Extra](#extra)"
   ]
  },
  {
   "cell_type": "markdown",
   "id": "2d0d028c-b49f-4148-9af9-e0b7e9bc0ab5",
   "metadata": {},
   "source": [
    "<a id = \"2.\"></a>\n",
    "<a href=\"#IDX\"><p style=\"text-align:right;\" href=\"#IDX\">Back To Index</p></a> \n",
    "## 2. Variables in Python"
   ]
  },
  {
   "cell_type": "markdown",
   "id": "e7313e69",
   "metadata": {},
   "source": [
    "#### Exercise 1.\n",
    "1. Write your address (street) in a variable.\n",
    "2. Write your address (number of building) in a variable.\n",
    "3. Write your address (city) in a variable.\n",
    "4. Write your address (postalcode) in a variable.\n",
    "5. Concatenate the previous variables into another one.\n",
    "6. Print it."
   ]
  },
  {
   "cell_type": "code",
   "execution_count": 13,
   "id": "5525dc58-506f-4a40-8761-3e5853e79d5a",
   "metadata": {},
   "outputs": [
    {
     "name": "stdout",
     "output_type": "stream",
     "text": [
      " Street: Principe Pio\n",
      " Building Number: 56\n",
      " City: Madrid\n",
      " Postcode: 28008\n"
     ]
    }
   ],
   "source": [
    "street = \"Principe Pio\"\n",
    "building_number = 56\n",
    "city = \"Madrid\"\n",
    "postalcode = \"28008\"\n",
    "info = (f\" Street: {street}\\n \"\n",
    "        f\"Building Number: {building_number}\\n \"\n",
    "        f\"City: {city}\\n \"\n",
    "        f\"Postcode: {postalcode}\")\n",
    "print(info)"
   ]
  },
  {
   "cell_type": "markdown",
   "id": "f0a213b1",
   "metadata": {},
   "source": [
    "#### Exercise 2.\n",
    "\n",
    "Which of the following are bad formed? why? and correct them.\n",
    "```python\n",
    "mi_variable = \"Economía\"\n",
    "otra_var = \"Ejercicio\n",
    "True = \"Ejercicio\"\n",
    "mi variab1e = \"Alpha\"\n",
    "exec = True\n",
    "import = 40\n",
    "81mi_variable = \"Agua\"\n",
    "mi_variable10 = 6\n",
    "```"
   ]
  },
  {
   "cell_type": "code",
   "execution_count": 5,
   "id": "739a9e72-c74c-49aa-bb7a-6f66e8d20c2a",
   "metadata": {},
   "outputs": [],
   "source": [
    "mi_variable = \"Economía\"\n",
    "otra_var = \"Ejercicio\"\n",
    "true = \"Ejercicio\"\n",
    "mi_variab1e = \"Alpha\"\n",
    "execution = True\n",
    "importa = 40\n",
    "mi_variable_81 = \"Agua\"\n",
    "mi_variable10 = 6"
   ]
  },
  {
   "cell_type": "code",
   "execution_count": 14,
   "id": "87d59d3d-3fd7-433d-b171-8962d3c70606",
   "metadata": {},
   "outputs": [],
   "source": [
    "exec(\"hola_mundo = 'HelloWorld'\")"
   ]
  },
  {
   "cell_type": "code",
   "execution_count": 15,
   "id": "a24d13ec-c733-45d0-bfd3-a570a3e86857",
   "metadata": {},
   "outputs": [
    {
     "data": {
      "text/plain": [
       "'HelloWorld'"
      ]
     },
     "execution_count": 15,
     "metadata": {},
     "output_type": "execute_result"
    }
   ],
   "source": [
    "hola_mundo"
   ]
  },
  {
   "cell_type": "code",
   "execution_count": 16,
   "id": "a5d8e578-f01e-447b-9261-93210c617177",
   "metadata": {},
   "outputs": [
    {
     "data": {
      "text/plain": [
       "15"
      ]
     },
     "execution_count": 16,
     "metadata": {},
     "output_type": "execute_result"
    }
   ],
   "source": [
    "eval(\"7 + 8\")"
   ]
  },
  {
   "cell_type": "markdown",
   "id": "147660ab",
   "metadata": {},
   "source": [
    "#### Exercise 3.\n",
    "Calculate the roots of any ecuation of second order with the following expression \\\\( ax^2 + bx + c = 0 \\\\)"
   ]
  },
  {
   "cell_type": "code",
   "execution_count": 20,
   "id": "89d88e14-9ac3-4917-994b-d5b204bfc59e",
   "metadata": {},
   "outputs": [
    {
     "data": {
      "text/plain": [
       "((-0.09999999999999967+5.476312628037227j),\n",
       " (-0.10000000000000034-5.476312628037227j))"
      ]
     },
     "execution_count": 20,
     "metadata": {},
     "output_type": "execute_result"
    }
   ],
   "source": [
    "a = 10\n",
    "b = 2\n",
    "c = 300\n",
    "x_plus = (-b + (b**2 - 4*a*c) ** .5)/(2*a)\n",
    "x_minus = (-b - (b**2 - 4*a*c) ** .5)/(2*a)\n",
    "x_plus, x_minus"
   ]
  },
  {
   "cell_type": "markdown",
   "id": "487368aa",
   "metadata": {},
   "source": [
    "#### Exercise 4.\n",
    "Create a workflow to calculate from farentheit to celsius"
   ]
  },
  {
   "cell_type": "code",
   "execution_count": 9,
   "id": "251010bf-e7b9-44f3-84b2-9e58c7a2149f",
   "metadata": {},
   "outputs": [
    {
     "name": "stdout",
     "output_type": "stream",
     "text": [
      "100 F = 37.78 C\n"
     ]
    }
   ],
   "source": [
    "farentheit = 100\n",
    "celsius = (farentheit - 32) * (5/9)\n",
    "print(f\"{farentheit} F = {round(celsius, 2)} C\")"
   ]
  },
  {
   "cell_type": "markdown",
   "id": "f54ad63f",
   "metadata": {},
   "source": [
    "#### Exercise 5.\n",
    "Decompose a division of two numbers in its parts and check that the numerator is calculated with the previous values."
   ]
  },
  {
   "cell_type": "code",
   "execution_count": 11,
   "id": "c561525f-98ca-456b-b9a6-13886233ce1c",
   "metadata": {},
   "outputs": [
    {
     "name": "stdout",
     "output_type": "stream",
     "text": [
      "True\n"
     ]
    }
   ],
   "source": [
    "num = 3\n",
    "den = 4\n",
    "rest = num % den\n",
    "div = 3 // 4\n",
    "print(num == div * den + rest)"
   ]
  },
  {
   "cell_type": "markdown",
   "id": "93defe60",
   "metadata": {},
   "source": [
    "#### Exercise 6.\n",
    "Given any word remove extra whitespaces at the beginning and at the end and uppercase the firts letter of the word."
   ]
  },
  {
   "cell_type": "code",
   "execution_count": 24,
   "id": "b06f517e-68e5-449e-bc94-119dafbd1995",
   "metadata": {},
   "outputs": [
    {
     "data": {
      "text/plain": [
       "'Hola Que Paaassaa Gentecilla!'"
      ]
     },
     "execution_count": 24,
     "metadata": {},
     "output_type": "execute_result"
    }
   ],
   "source": [
    "word = \"  Hola que paAassaa gentecilla!  \"\n",
    "w = word.strip()\n",
    "w.title()"
   ]
  },
  {
   "cell_type": "markdown",
   "id": "71d10274-47fb-4ee0-878c-222c6d75ebb1",
   "metadata": {},
   "source": [
    "<a id = \"3.\"></a>\n",
    "<a href=\"#IDX\"><p style=\"text-align:right;\" href=\"#IDX\">Back To Index</p></a> \n",
    "## 3. Conditionals"
   ]
  },
  {
   "cell_type": "markdown",
   "id": "879e55ba",
   "metadata": {},
   "source": [
    "#### Exercise 7.\n",
    "Given a sentence count the number of times that a word appears in the sentence. Previously checks if the word is in the sentence."
   ]
  },
  {
   "cell_type": "code",
   "execution_count": 30,
   "id": "14e71ced-c01d-4024-9dd1-6d8712f831b5",
   "metadata": {},
   "outputs": [],
   "source": [
    "word = \"o\""
   ]
  },
  {
   "cell_type": "code",
   "execution_count": 31,
   "id": "afd65965-c2f1-4432-bd07-4c9dce22fb0f",
   "metadata": {},
   "outputs": [
    {
     "name": "stdout",
     "output_type": "stream",
     "text": [
      "2\n"
     ]
    }
   ],
   "source": [
    "sentence = \"Hello World\"\n",
    "if isinstance(sentence, str):\n",
    "    print(sentence.lower().count(word.lower()))"
   ]
  },
  {
   "cell_type": "markdown",
   "id": "989d4650",
   "metadata": {},
   "source": [
    "#### Exercise 8.\n",
    "Is the following expression correct? Solve it if it is incorrect.\n",
    "```python\n",
    "var_num = 10\n",
    "if var_num <= 100:\n",
    "    print(f\"{var_num} <= 100\")\n",
    "elif var_num <= 10:\n",
    "    print(f\"{var_num} <= 10\")\n",
    "else:\n",
    "    print(\"Big number!\")\n",
    "```"
   ]
  },
  {
   "cell_type": "markdown",
   "id": "416137c1-54bd-4836-ae36-02ebda8185be",
   "metadata": {},
   "source": [
    "Cambiar el orden de los ifs."
   ]
  },
  {
   "cell_type": "markdown",
   "id": "120fa20c",
   "metadata": {},
   "source": [
    "#### Exercise 9.\n",
    "What we will get from the following expressions? Try to figure it out without execute code.\n",
    "1. True and True and False\n",
    "2. not(not (True or False)) or (True or False)\n",
    "3. (False or True or False or True) or False\n",
    "4. not True and True and True"
   ]
  },
  {
   "cell_type": "markdown",
   "id": "f8ff323d-5b3f-4a78-b796-c7534db648e5",
   "metadata": {},
   "source": [
    "1. True and True and False -> False\n",
    "2. not(not (True or False)) or (True or False) -> True\n",
    "3. (False or True or False or True) or False -> True\n",
    "4. not True and True and True -> False"
   ]
  },
  {
   "cell_type": "markdown",
   "id": "44ccd936",
   "metadata": {},
   "source": [
    "#### Exercise 10.\n",
    "Calculate the IRPF steps [see here](https://www.bankinter.com/blog/finanzas-personales/renta-tramos-irpf) for a given salary."
   ]
  },
  {
   "cell_type": "markdown",
   "id": "fad84c42-3e7e-4882-ab02-f509ead4c948",
   "metadata": {},
   "source": [
    "1. Primer tramo hasta 12.450 euros en el que se paga un 19%.\n",
    "2. Segundo tramo hasta 20.200 euros con tipo del 24%\n",
    "3. Tercer tramo hasta 35.200 euros con un 30%.\n",
    "4. Cuarto tramo hasta 60.000 euros con un 37%\n",
    "5. Quinto tramo hasta 300.000 euros con un 45%\n",
    "6. ¡Novedad! Sexto tramo a partir de 300.000 euros de 47%."
   ]
  },
  {
   "cell_type": "markdown",
   "id": "a1bcda33-839e-441e-a4c0-c6da5aaee470",
   "metadata": {},
   "source": [
    "salario_bruto = 30000\n",
    "irpf = 0\n",
    "\n"
   ]
  },
  {
   "cell_type": "markdown",
   "id": "f084bf17",
   "metadata": {},
   "source": [
    "#### Exercise 11.\n",
    "Write an if statement that asks for the user's name via variable. If the name is \"Bond\" make it print \"Welcome on board 007.\" Otherwise make it print \"Good morning NAME\". (Replace Name with user's name)"
   ]
  },
  {
   "cell_type": "code",
   "execution_count": 33,
   "id": "1d78eb44-b181-4d69-9956-095739490cbb",
   "metadata": {},
   "outputs": [
    {
     "name": "stdin",
     "output_type": "stream",
     "text": [
      "User:  bond\n"
     ]
    },
    {
     "name": "stdout",
     "output_type": "stream",
     "text": [
      "Welcome on board 007.\n"
     ]
    }
   ],
   "source": [
    "name = input(\"User: \")\n",
    "if name.capitalize() == \"Bond\":\n",
    "    print(\"Welcome on board 007.\")\n",
    "else:\n",
    "    print(f\"Good morning {name.capitalize()}\")"
   ]
  },
  {
   "cell_type": "markdown",
   "id": "d4328348",
   "metadata": {},
   "source": [
    "#### Exercise 12.\n",
    "A school has following rules for grading system:\n",
    "1. Below 25 - F\n",
    "2. 25 to 45 - E\n",
    "3. 45 to 50 - D\n",
    "4. 50 to 60 - C\n",
    "5. 60 to 80 - B\n",
    "6. Above 80 - A\n",
    "\n",
    "\n",
    "Ask user to enter marks and print the corresponding grade (via variable)."
   ]
  },
  {
   "cell_type": "code",
   "execution_count": 32,
   "id": "b8968c29-aebd-4920-800d-a3179938f134",
   "metadata": {},
   "outputs": [
    {
     "name": "stdout",
     "output_type": "stream",
     "text": [
      "Your score is F because of your mark 12\n"
     ]
    }
   ],
   "source": [
    "mark = 12\n",
    "\n",
    "if mark < 25:\n",
    "    print(f\"Your score is F because of your mark {mark}\")\n",
    "elif mark >= 25 and mark < 45:\n",
    "    print(f\"Your score is E because of your mark {mark}\")\n",
    "elif mark >= 45 and mark < 50:\n",
    "    print(f\"Your score is D because of your mark {mark}\")\n",
    "elif mark >= 50 and mark < 60:\n",
    "    print(f\"Your score is C because of your mark {mark}\")\n",
    "elif mark >= 60 and mark < 80:\n",
    "    print(f\"Your score is B because of your mark {mark}\")\n",
    "else:\n",
    "    print(f\"Your score is A because of your mark {mark}\")"
   ]
  },
  {
   "cell_type": "markdown",
   "id": "db5d961a",
   "metadata": {},
   "source": [
    "#### Exercies 13.\n",
    "Take values of length and breadth of a rectangle from user and check if it is square or not."
   ]
  },
  {
   "cell_type": "code",
   "execution_count": 29,
   "id": "ccdfa6df-6146-4f21-91d7-166f9eed63ec",
   "metadata": {},
   "outputs": [
    {
     "name": "stdout",
     "output_type": "stream",
     "text": [
      "It's a square!\n"
     ]
    }
   ],
   "source": [
    "l = 4\n",
    "b = 4\n",
    "if l*b == l**2\n",
    "    print(\"It's a square!\")\n",
    "else:\n",
    "    print(\"Is not a square!\")"
   ]
  },
  {
   "cell_type": "markdown",
   "id": "bb5537f6-129e-4c31-94e8-e26a4193e47a",
   "metadata": {},
   "source": [
    "<a id = \"4.\"></a>\n",
    "<a href=\"#IDX\"><p style=\"text-align:right;\" href=\"#IDX\">Back To Index</p></a> \n",
    "## 4. Data Structures"
   ]
  },
  {
   "cell_type": "markdown",
   "id": "769b600e",
   "metadata": {},
   "source": [
    "#### Exercise 14.\n",
    "1. Create a tuple with 3 elements\n",
    "2. Create a tuple with one element and check its type\n",
    "3. Create a tuple with elements of different types\n",
    "4. Print first and last element from previous tuple.\n",
    "5. Add one more element.\n",
    "6. Delete one element in a tuple.\n",
    "7. Transform the tuple into a list"
   ]
  },
  {
   "cell_type": "code",
   "execution_count": 40,
   "id": "3e4ff1cb-c663-4a0a-9c34-9f3a6b730441",
   "metadata": {},
   "outputs": [],
   "source": [
    "t = (1, 2, 3)"
   ]
  },
  {
   "cell_type": "code",
   "execution_count": 43,
   "id": "04ccebc4-48d5-4aa6-ad3f-83789e923053",
   "metadata": {},
   "outputs": [],
   "source": [
    "t = (1,)"
   ]
  },
  {
   "cell_type": "code",
   "execution_count": 44,
   "id": "27cc556a-d4f3-4078-8e44-911840a5b3f7",
   "metadata": {},
   "outputs": [
    {
     "data": {
      "text/plain": [
       "tuple"
      ]
     },
     "execution_count": 44,
     "metadata": {},
     "output_type": "execute_result"
    }
   ],
   "source": [
    "type(t)"
   ]
  },
  {
   "cell_type": "code",
   "execution_count": 45,
   "id": "e323ab32-ca7b-4102-9d5e-69c50c92d6b4",
   "metadata": {},
   "outputs": [],
   "source": [
    "t = (1, \"1\")"
   ]
  },
  {
   "cell_type": "code",
   "execution_count": 46,
   "id": "52cdf322-2d05-4564-88f8-6aaca678d44e",
   "metadata": {},
   "outputs": [
    {
     "data": {
      "text/plain": [
       "(1, '1')"
      ]
     },
     "execution_count": 46,
     "metadata": {},
     "output_type": "execute_result"
    }
   ],
   "source": [
    "t[0], t[-1]"
   ]
  },
  {
   "cell_type": "markdown",
   "id": "6cb84d70-d903-41bb-be50-e39ecec42c13",
   "metadata": {},
   "source": [
    "- You can't add elements to a tuple because of their immutable property. There's no append() or extend() method for tuples\n",
    "- You can't remove elements from a tuple, also because of their immutability. Tuples have no remove() or pop() method,"
   ]
  },
  {
   "cell_type": "code",
   "execution_count": 10,
   "id": "c97aa04c-ff61-4aa2-a1b1-a334d20e3a55",
   "metadata": {},
   "outputs": [
    {
     "data": {
      "text/plain": [
       "[1, '1']"
      ]
     },
     "execution_count": 10,
     "metadata": {},
     "output_type": "execute_result"
    }
   ],
   "source": [
    "list(t)"
   ]
  },
  {
   "cell_type": "code",
   "execution_count": null,
   "id": "52c0851c-fb50-4b97-b9a4-9af9c68b250f",
   "metadata": {},
   "outputs": [],
   "source": []
  },
  {
   "cell_type": "code",
   "execution_count": 48,
   "id": "5d849766-0b43-4faa-ac65-427598289e2b",
   "metadata": {},
   "outputs": [
    {
     "name": "stdout",
     "output_type": "stream",
     "text": [
      "None\n"
     ]
    }
   ],
   "source": [
    "tuple_1 =(1,2,3)\n",
    "tuple_1 = list(tuple_1)\n",
    "print(tuple_1.append(\"l\"))"
   ]
  },
  {
   "cell_type": "code",
   "execution_count": 49,
   "id": "edf5334c-dafa-48d5-a5f7-52f1020c3e65",
   "metadata": {},
   "outputs": [
    {
     "data": {
      "text/plain": [
       "[1, 2, 3, 'l']"
      ]
     },
     "execution_count": 49,
     "metadata": {},
     "output_type": "execute_result"
    }
   ],
   "source": [
    "tuple_1"
   ]
  },
  {
   "cell_type": "markdown",
   "id": "016f3458",
   "metadata": {},
   "source": [
    "#### Exercise 15.\n",
    "Count the unique elements from the following list:\n",
    "```python\n",
    "l = list(\"ahjhsfyajkasbiuashasbuasgbfsakyuasbdiaqwonvbythfppivbad\")\n",
    "```\n",
    "Hint: use `len()`"
   ]
  },
  {
   "cell_type": "code",
   "execution_count": 12,
   "id": "da37a6b5-95a6-45a4-9960-30646cb8583a",
   "metadata": {},
   "outputs": [
    {
     "data": {
      "text/plain": [
       "19"
      ]
     },
     "execution_count": 12,
     "metadata": {},
     "output_type": "execute_result"
    }
   ],
   "source": [
    "l = list(\"ahjhsfyajkasbiuashasbuasgbfsakyuasbdiaqwonvbythfppivbad\")\n",
    "len(set(l))"
   ]
  },
  {
   "cell_type": "markdown",
   "id": "27a584f2",
   "metadata": {},
   "source": [
    "#### Exercise 16.\n",
    "Create a dictionary that maps a number with its corresponding month name."
   ]
  },
  {
   "cell_type": "code",
   "execution_count": 6,
   "id": "c7f0f193-58d4-428a-84c8-5428d027607c",
   "metadata": {},
   "outputs": [],
   "source": [
    "months = {\n",
    "    1: \"Enero\",\n",
    "    2: \"Febrero\",\n",
    "    3: \"Marzo\",\n",
    "    4: \"Abril\",\n",
    "    5: \"Mayo\",\n",
    "    6: \"Junio\",\n",
    "    7: \"Julio\",\n",
    "    8: \"Agosto\",\n",
    "    9: \"Septiembre\",\n",
    "    10: \"Octubre\",\n",
    "    11: \"Noviembre\",\n",
    "    12: \"Diciembre\"\n",
    "}"
   ]
  },
  {
   "cell_type": "markdown",
   "id": "c06e8c87",
   "metadata": {},
   "source": [
    "#### Exercise 17.\n",
    "Create two list of the same length and then create a list of tuples with the previous lists.\n",
    "\n",
    "Hint: `zip()`"
   ]
  },
  {
   "cell_type": "code",
   "execution_count": 51,
   "id": "21dfdb2b-96ae-478a-ae40-b4d357b353fc",
   "metadata": {},
   "outputs": [
    {
     "data": {
      "text/plain": [
       "[(1, 3), (2, 4)]"
      ]
     },
     "execution_count": 51,
     "metadata": {},
     "output_type": "execute_result"
    }
   ],
   "source": [
    "l1 = [1, 2]\n",
    "l2 = [3, 4]\n",
    "list(zip(l1, l2))"
   ]
  },
  {
   "cell_type": "markdown",
   "id": "b79cf020",
   "metadata": {},
   "source": [
    "#### Exercise 18.\n",
    "Given the following sets\n",
    "```python\n",
    "first_set  = {57, 83, 29}\n",
    "second_set = {57, 83, 29, 67, 73, 43, 48}\n",
    "```\n",
    "Check if the first one is a subset of the second one"
   ]
  },
  {
   "cell_type": "code",
   "execution_count": 52,
   "id": "c4f5a6e6-28ad-4f08-b10e-54e64cf7273b",
   "metadata": {},
   "outputs": [
    {
     "data": {
      "text/plain": [
       "True"
      ]
     },
     "execution_count": 52,
     "metadata": {},
     "output_type": "execute_result"
    }
   ],
   "source": [
    "first_set  = {57, 83, 29}\n",
    "second_set = {57, 83, 29, 67, 73, 43, 48}\n",
    "first_set.issubset(second_set)"
   ]
  },
  {
   "cell_type": "code",
   "execution_count": 53,
   "id": "7ec47a21-3cbc-4c07-95df-04e9a33ca192",
   "metadata": {},
   "outputs": [
    {
     "data": {
      "text/plain": [
       "False"
      ]
     },
     "execution_count": 53,
     "metadata": {},
     "output_type": "execute_result"
    }
   ],
   "source": [
    "second_set.issubset(first_set)"
   ]
  },
  {
   "cell_type": "markdown",
   "id": "4f9bdd6f",
   "metadata": {},
   "source": [
    "#### Exercise 19.\n",
    "1. Create a dictionary where its keys are the days of the week (name) and values all set to 0.\n",
    "2. Change the week days for numbers\n",
    "3. Sum the total of the week\n",
    "4. Calculate the mean of the week and the mean of the weekdays.\n",
    "\n",
    "DO NOT HARDCODE NUMBERS LIKE 5 OR 7!"
   ]
  },
  {
   "cell_type": "code",
   "execution_count": 22,
   "id": "4f3c73c3-22df-464d-90b8-7c1984483b01",
   "metadata": {},
   "outputs": [],
   "source": [
    "weeknames = [\"M\", \"T\", \"W\", \"Th\", \"F\", \"S\", \"Sa\"]"
   ]
  },
  {
   "cell_type": "code",
   "execution_count": 23,
   "id": "d2ec4242-c0f5-480c-85ac-9da49daf2e3b",
   "metadata": {},
   "outputs": [],
   "source": [
    "weeks = dict.fromkeys(weeknames, 0)"
   ]
  },
  {
   "cell_type": "code",
   "execution_count": 24,
   "id": "61c934c8-84e1-4597-b5da-7effe05e52b7",
   "metadata": {},
   "outputs": [
    {
     "data": {
      "text/plain": [
       "{'M': 0, 'T': 0, 'W': 0, 'Th': 0, 'F': 0, 'S': 0, 'Sa': 0}"
      ]
     },
     "execution_count": 24,
     "metadata": {},
     "output_type": "execute_result"
    }
   ],
   "source": [
    "weeks"
   ]
  },
  {
   "cell_type": "code",
   "execution_count": 33,
   "id": "0396b547-8990-47a0-af6f-055f731caa40",
   "metadata": {},
   "outputs": [],
   "source": [
    "weeks[\"M\"] = 150\n",
    "weeks[\"T\"] = 150\n",
    "weeks[\"W\"] = 150\n",
    "weeks[\"Th\"] = 150\n",
    "weeks[\"F\"] = 150\n",
    "weeks[\"S\"] = 250\n",
    "weeks[\"Sa\"] = 300"
   ]
  },
  {
   "cell_type": "code",
   "execution_count": 34,
   "id": "3ef7af51-fdaf-4c07-9f09-5827dc759bc9",
   "metadata": {},
   "outputs": [
    {
     "data": {
      "text/plain": [
       "{'M': 150, 'T': 150, 'W': 150, 'Th': 150, 'F': 150, 'S': 250, 'Sa': 300}"
      ]
     },
     "execution_count": 34,
     "metadata": {},
     "output_type": "execute_result"
    }
   ],
   "source": [
    "weeks"
   ]
  },
  {
   "cell_type": "code",
   "execution_count": 35,
   "id": "c40607d7-c23a-4d81-a66e-80655cdba757",
   "metadata": {},
   "outputs": [
    {
     "data": {
      "text/plain": [
       "1300"
      ]
     },
     "execution_count": 35,
     "metadata": {},
     "output_type": "execute_result"
    }
   ],
   "source": [
    "sum(weeks.values())"
   ]
  },
  {
   "cell_type": "code",
   "execution_count": 36,
   "id": "933d7362-9a8f-423e-892d-b502966c0ee5",
   "metadata": {},
   "outputs": [
    {
     "data": {
      "text/plain": [
       "185.71428571428572"
      ]
     },
     "execution_count": 36,
     "metadata": {},
     "output_type": "execute_result"
    }
   ],
   "source": [
    "sum(weeks.values()) / len(weeks)"
   ]
  },
  {
   "cell_type": "code",
   "execution_count": 37,
   "id": "f4e05dbb-b8f2-4519-be69-6c5c4f2fd930",
   "metadata": {},
   "outputs": [
    {
     "data": {
      "text/plain": [
       "150.0"
      ]
     },
     "execution_count": 37,
     "metadata": {},
     "output_type": "execute_result"
    }
   ],
   "source": [
    "sum(list(weeks.values())[:5]) / len(list(weeks.keys())[:5])"
   ]
  },
  {
   "cell_type": "code",
   "execution_count": 39,
   "id": "6a33b5e6-c06a-4302-9885-043f08b3e842",
   "metadata": {},
   "outputs": [
    {
     "data": {
      "text/plain": [
       "275.0"
      ]
     },
     "execution_count": 39,
     "metadata": {},
     "output_type": "execute_result"
    }
   ],
   "source": [
    "sum(list(weeks.values())[5:7]) / len(list(weeks.keys())[5:7])"
   ]
  },
  {
   "cell_type": "markdown",
   "id": "c82bd148-aa5d-408a-9f06-fceac0dd94c2",
   "metadata": {},
   "source": [
    "<a id = \"5.\"></a>\n",
    "<a href=\"#IDX\"><p style=\"text-align:right;\" href=\"#IDX\">Back To Index</p></a> \n",
    "## 5. Loops"
   ]
  },
  {
   "cell_type": "markdown",
   "id": "bc34c76d",
   "metadata": {},
   "source": [
    "#### Exercise 20.\n",
    "Write a Python program to insert items into a list in sorted order."
   ]
  },
  {
   "cell_type": "code",
   "execution_count": 37,
   "id": "86c231ec-b415-4715-95f8-5f7fdb409c6c",
   "metadata": {},
   "outputs": [
    {
     "data": {
      "text/plain": [
       "[8, 7, 7, 6, 4, 3, 2, 1, 0]"
      ]
     },
     "execution_count": 37,
     "metadata": {},
     "output_type": "execute_result"
    }
   ],
   "source": [
    "l = sorted([_ for _ in [1,3, 8, 4, 6, 7, 7, 0, 2]], reverse=True)\n",
    "l"
   ]
  },
  {
   "cell_type": "markdown",
   "id": "27120a3d",
   "metadata": {},
   "source": [
    "#### Exercise 21.\n",
    "Using dict comprehension create other dictionary with the 3 first letter of the month name from the previous one"
   ]
  },
  {
   "cell_type": "code",
   "execution_count": 7,
   "id": "6611f3f9-64c1-46db-8a66-6eba8492b4f6",
   "metadata": {},
   "outputs": [],
   "source": [
    "months = {\n",
    "    1: \"Enero\",\n",
    "    2: \"Febrero\",\n",
    "    3: \"Marzo\",\n",
    "    4: \"Abril\",\n",
    "    5: \"Mayo\",\n",
    "    6: \"Junio\",\n",
    "    7: \"Julio\",\n",
    "    8: \"Agosto\",\n",
    "    9: \"Septiembre\",\n",
    "    10: \"Octubre\",\n",
    "    11: \"Noviembre\",\n",
    "    12: \"Diciembre\"\n",
    "}"
   ]
  },
  {
   "cell_type": "code",
   "execution_count": 8,
   "id": "06b3173c-2abf-4148-85bb-3c0b1779e448",
   "metadata": {},
   "outputs": [
    {
     "data": {
      "text/plain": [
       "{1: 'Ene',\n",
       " 2: 'Feb',\n",
       " 3: 'Mar',\n",
       " 4: 'Abr',\n",
       " 5: 'May',\n",
       " 6: 'Jun',\n",
       " 7: 'Jul',\n",
       " 8: 'Ago',\n",
       " 9: 'Sep',\n",
       " 10: 'Oct',\n",
       " 11: 'Nov',\n",
       " 12: 'Dic'}"
      ]
     },
     "execution_count": 8,
     "metadata": {},
     "output_type": "execute_result"
    }
   ],
   "source": [
    "mon = {k: v[0:3] for k, v in months.items()}\n",
    "mon"
   ]
  },
  {
   "cell_type": "markdown",
   "id": "457b3a76",
   "metadata": {},
   "source": [
    "#### Exercise 22.\n",
    "Write a Python program to find those numbers which are divisible by 7 and multiple of 5, between 1500 and 2700 (both included)"
   ]
  },
  {
   "cell_type": "code",
   "execution_count": 38,
   "id": "3cd7610d-f8df-4eef-981a-a5230ada1dae",
   "metadata": {},
   "outputs": [],
   "source": [
    "n = [_ for _ in range(1500, 2700 + 1) if (_ % 7 == 0) and (_ % 5 == 0)]"
   ]
  },
  {
   "cell_type": "code",
   "execution_count": 39,
   "id": "ca14e392-ab3f-4976-9102-52ac5660d138",
   "metadata": {
    "collapsed": true,
    "jupyter": {
     "outputs_hidden": true
    },
    "tags": []
   },
   "outputs": [
    {
     "data": {
      "text/plain": [
       "[1505,\n",
       " 1540,\n",
       " 1575,\n",
       " 1610,\n",
       " 1645,\n",
       " 1680,\n",
       " 1715,\n",
       " 1750,\n",
       " 1785,\n",
       " 1820,\n",
       " 1855,\n",
       " 1890,\n",
       " 1925,\n",
       " 1960,\n",
       " 1995,\n",
       " 2030,\n",
       " 2065,\n",
       " 2100,\n",
       " 2135,\n",
       " 2170,\n",
       " 2205,\n",
       " 2240,\n",
       " 2275,\n",
       " 2310,\n",
       " 2345,\n",
       " 2380,\n",
       " 2415,\n",
       " 2450,\n",
       " 2485,\n",
       " 2520,\n",
       " 2555,\n",
       " 2590,\n",
       " 2625,\n",
       " 2660,\n",
       " 2695]"
      ]
     },
     "execution_count": 39,
     "metadata": {},
     "output_type": "execute_result"
    }
   ],
   "source": [
    "n"
   ]
  },
  {
   "cell_type": "markdown",
   "id": "1a77abe2",
   "metadata": {},
   "source": [
    "#### Exercise 23.\n",
    "Write a Python program to count the number of even and odd numbers from a series of numbers"
   ]
  },
  {
   "cell_type": "code",
   "execution_count": 15,
   "id": "546e82ea-10ef-4895-bf9d-faa297563c8a",
   "metadata": {},
   "outputs": [],
   "source": [
    "# Trivial"
   ]
  },
  {
   "cell_type": "markdown",
   "id": "e0b0fd57",
   "metadata": {},
   "source": [
    "#### Exercise 24.\n",
    "Write a Python program that prints each item and its corresponding type from the following list.\n",
    "```python\n",
    "Sample List : datalist = [1452, 11.23, 1+2j, True, 'w3resource', (0, -1), [5, 12], {\"class\":'V', \"section\":'A'}]\n",
    "```"
   ]
  },
  {
   "cell_type": "code",
   "execution_count": 16,
   "id": "78a09c73-083e-4569-9e55-fe656c529ca7",
   "metadata": {},
   "outputs": [
    {
     "name": "stdout",
     "output_type": "stream",
     "text": [
      "1452 <class 'int'>\n",
      "11.23 <class 'float'>\n",
      "(1+2j) <class 'complex'>\n",
      "True <class 'bool'>\n",
      "w3resource <class 'str'>\n",
      "(0, -1) <class 'tuple'>\n",
      "[5, 12] <class 'list'>\n",
      "{'class': 'V', 'section': 'A'} <class 'dict'>\n"
     ]
    }
   ],
   "source": [
    "datalist = [1452, 11.23, 1+2j, True, 'w3resource', (0, -1), [5, 12], {\"class\":'V', \"section\":'A'}]\n",
    "for item in datalist:\n",
    "    print(item, type(item))"
   ]
  },
  {
   "cell_type": "markdown",
   "id": "42546760",
   "metadata": {},
   "source": [
    "#### Exercise 25.\n",
    "Write a Python program that accepts a string and calculate the number of digits and letters."
   ]
  },
  {
   "cell_type": "code",
   "execution_count": 18,
   "id": "f6463c59-95bb-4fc4-b6c2-e82b28cf6ec3",
   "metadata": {},
   "outputs": [
    {
     "data": {
      "text/plain": [
       "(1, 27)"
      ]
     },
     "execution_count": 18,
     "metadata": {},
     "output_type": "execute_result"
    }
   ],
   "source": [
    "string = \"Boooongo la, boooongo chachacha 2\"\n",
    "letters = 0\n",
    "numbers = 0\n",
    "for s in string:\n",
    "    if s.isdigit():\n",
    "        numbers += 1\n",
    "    elif s.isalpha():\n",
    "        letters += 1\n",
    "    else:\n",
    "        continue\n",
    "\n",
    "numbers, letters"
   ]
  },
  {
   "cell_type": "markdown",
   "id": "96b9b6e4",
   "metadata": {},
   "source": [
    "#### Exercise 26.\n",
    "Write a Python program to check the validity of password input by users. Validation:\n",
    "\n",
    "- At least 1 letter between [a-z] and 1 letter between [A-Z].\n",
    "- At least 1 number between [0-9].\n",
    "- At least 1 character from [$#@].\n",
    "- Minimum length 6 characters.\n",
    "- Maximum length 16 characters."
   ]
  },
  {
   "cell_type": "code",
   "execution_count": 41,
   "id": "360f44cc-12d0-4187-92d7-ce5857a87444",
   "metadata": {},
   "outputs": [
    {
     "name": "stdout",
     "output_type": "stream",
     "text": [
      "True\n"
     ]
    }
   ],
   "source": [
    "password = \"c@pt4injaguar66\"\n",
    "\n",
    "abc = \"abcdefghijklmnopqrstuvwxyz\"\n",
    "numbers = \"0123456789\"\n",
    "conditions = [abc, abc.upper(), numbers, \"$#@\"]\n",
    "check = False\n",
    "\n",
    "if (len(password) >= 6) and (len(password) <= 16):\n",
    "    # Comprobamos la longitud\n",
    "    for cond in conditions:\n",
    "        for c in cond:\n",
    "            if c in password:\n",
    "                check = True\n",
    "                break\n",
    "            else:\n",
    "                check = False\n",
    "                continue\n",
    "                \n",
    "        if not check:\n",
    "            print(f\"Password Bad Formed - At least one of {' '.join(cond)}.\")\n",
    "            break\n",
    "else:\n",
    "    print(f\"Password Bad Formed - Length should be between 6 and 16.\")\n",
    "\n",
    "print(check)"
   ]
  },
  {
   "cell_type": "markdown",
   "id": "c11dcb68",
   "metadata": {},
   "source": [
    "#### Exercise 27.\n",
    "Write a Python program to create the multiplication table (from 1 to 10) of a number."
   ]
  },
  {
   "cell_type": "code",
   "execution_count": 24,
   "id": "fda67bfc-f27d-457b-9ef6-35263ca03ff1",
   "metadata": {},
   "outputs": [
    {
     "name": "stdout",
     "output_type": "stream",
     "text": [
      "1 x 10 = 10\n",
      "2 x 10 = 20\n",
      "3 x 10 = 30\n",
      "4 x 10 = 40\n",
      "5 x 10 = 50\n",
      "6 x 10 = 60\n",
      "7 x 10 = 70\n",
      "8 x 10 = 80\n",
      "9 x 10 = 90\n",
      "10 x 10 = 100\n"
     ]
    }
   ],
   "source": [
    "for _ in range(1, 11):\n",
    "    print(f\"{_} x 10 = {_ * 10}\")"
   ]
  },
  {
   "cell_type": "markdown",
   "id": "57210090",
   "metadata": {},
   "source": [
    "#### Exercise 28.\n",
    "Using list comprehension create a list of prime numbers less than 1000."
   ]
  },
  {
   "cell_type": "code",
   "execution_count": 32,
   "id": "61dd3f4f-8a83-4422-bde3-4d9cc2322339",
   "metadata": {},
   "outputs": [
    {
     "name": "stdout",
     "output_type": "stream",
     "text": [
      "[1, 11, 13, 17, 19, 23, 29, 31, 37, 41, 43, 47, 53, 59, 61, 67, 71, 73, 79, 83, 89, 97, 101, 103, 107, 109, 113, 121, 127, 131, 137, 139, 143, 149, 151, 157, 163, 167, 169, 173, 179, 181, 187, 191, 193, 197, 199, 209, 211, 221, 223, 227, 229, 233, 239, 241, 247, 251, 253, 257, 263, 269, 271, 277, 281, 283, 289, 293, 299, 307, 311, 313, 317, 319, 323, 331, 337, 341, 347, 349, 353, 359, 361, 367, 373, 377, 379, 383, 389, 391, 397, 401, 403, 407, 409, 419, 421, 431, 433, 437, 439, 443, 449, 451, 457, 461, 463, 467, 473, 479, 481, 487, 491, 493, 499, 503, 509, 517, 521, 523, 527, 529, 533, 541, 547, 551, 557, 559, 563, 569, 571, 577, 583, 587, 589, 593, 599, 601, 607, 611, 613, 617, 619, 629, 631, 641, 643, 647, 649, 653, 659, 661, 667, 671, 673, 677, 683, 689, 691, 697, 701, 703, 709, 713, 719, 727, 731, 733, 737, 739, 743, 751, 757, 761, 767, 769, 773, 779, 781, 787, 793, 797, 799, 803, 809, 811, 817, 821, 823, 827, 829, 839, 841, 851, 853, 857, 859, 863, 869, 871, 877, 881, 883, 887, 893, 899, 901, 907, 911, 913, 919, 923, 929, 937, 941, 943, 947, 949, 953, 961, 967, 971, 977, 979, 983, 989, 991, 997]\n"
     ]
    }
   ],
   "source": [
    "prime = []\n",
    "for _ in range(1001):\n",
    "    if _ <= 2:\n",
    "        prime.append(_) if _ % 2 != 0 else None\n",
    "    elif _ <= 3:\n",
    "        prime.append(_) if _ % 3 != 0 else None\n",
    "    elif _ <= 5:\n",
    "        prime.append(_) if (_ % 5 != 0) and (_ % 2 != 0) else None\n",
    "    else:\n",
    "        prime.append(_) if (_ % 5 != 0) and (_ % 2 != 0) and (_ % 3 != 0) and (_ % 7 != 0) else None\n",
    "print(prime)"
   ]
  },
  {
   "cell_type": "markdown",
   "id": "cf9e73fe",
   "metadata": {},
   "source": [
    "#### Exercise 29.\n",
    "Use a dictionary comprehension to count the length of each word in a sentence"
   ]
  },
  {
   "cell_type": "code",
   "execution_count": 33,
   "id": "fa042290-2d88-4f40-8e9d-dcac49291a1e",
   "metadata": {},
   "outputs": [
    {
     "data": {
      "text/plain": [
       "{'Boooongo': 8, 'la,': 3, 'boooongo': 8, 'chachacha': 9, '2': 1}"
      ]
     },
     "execution_count": 33,
     "metadata": {},
     "output_type": "execute_result"
    }
   ],
   "source": [
    "string = \"Boooongo la, boooongo chachacha 2\"\n",
    "d = {k: len(k) for k in string.split(\" \")}\n",
    "d"
   ]
  },
  {
   "cell_type": "markdown",
   "id": "21aa90fa",
   "metadata": {},
   "source": [
    "#### Exercise 30.\n",
    "Find all of the words in a string that are less than 5 letters"
   ]
  },
  {
   "cell_type": "code",
   "execution_count": 35,
   "id": "e49de5e3-2651-43d3-b4c4-2f2ffdc43b3f",
   "metadata": {},
   "outputs": [
    {
     "data": {
      "text/plain": [
       "['la,', '2']"
      ]
     },
     "execution_count": 35,
     "metadata": {},
     "output_type": "execute_result"
    }
   ],
   "source": [
    "less5 = [s for s in string.split(\" \") if len(s) < 5]\n",
    "less5"
   ]
  },
  {
   "cell_type": "markdown",
   "id": "1b610764-75ca-41ba-83b9-a31c74d6572a",
   "metadata": {},
   "source": [
    "<a id = \"6.\"></a>\n",
    "<a href=\"#IDX\"><p style=\"text-align:right;\" href=\"#IDX\">Back To Index</p></a> \n",
    "## 6. Functions (I)"
   ]
  },
  {
   "cell_type": "markdown",
   "id": "cfd15216",
   "metadata": {},
   "source": [
    "#### Exercise 31.\n",
    "Create a function that given a year returns you a True if is a leap year\n",
    "[Hint](https://docs.microsoft.com/en-us/office/troubleshoot/excel/determine-a-leap-year)"
   ]
  },
  {
   "cell_type": "code",
   "execution_count": 37,
   "id": "9e25309a-70be-4be9-8917-a5c04972eafb",
   "metadata": {},
   "outputs": [
    {
     "data": {
      "text/plain": [
       "True"
      ]
     },
     "execution_count": 37,
     "metadata": {},
     "output_type": "execute_result"
    }
   ],
   "source": [
    "def is_leap(year):\n",
    "    \"\"\"...\"\"\"\n",
    "    if not year % 4:\n",
    "        if not year % 100:\n",
    "            if not year % 400:\n",
    "                ret = True\n",
    "            else:\n",
    "                ret = False\n",
    "        else:\n",
    "            ret = True\n",
    "    else:\n",
    "        ret = False\n",
    "    return ret\n",
    "is_leap(2016)"
   ]
  },
  {
   "cell_type": "code",
   "execution_count": 35,
   "id": "54dfd65d-aa35-42c7-a24b-998cb1a34d04",
   "metadata": {},
   "outputs": [
    {
     "data": {
      "text/plain": [
       "'The 2016 is not a leap year'"
      ]
     },
     "execution_count": 35,
     "metadata": {},
     "output_type": "execute_result"
    }
   ],
   "source": [
    "def year_type(year):\n",
    "    if year % 4 == 0:\n",
    "        if year % 100 == 0:\n",
    "            if year % 400 == 0:\n",
    "                mensaje = (f\"The {year} is a leap year\")\n",
    "            else:\n",
    "                mensaje = (f\"The {year} is not a leap year\")\n",
    "        else:\n",
    "            mensaje = (f\"The {year} is not a leap year\")\n",
    "    else:\n",
    "        mensaje = (f\"The {year} is not a leap year\")\n",
    "    return mensaje\n",
    "year_type(2016)"
   ]
  },
  {
   "cell_type": "markdown",
   "id": "500d5ea0",
   "metadata": {},
   "source": [
    "#### Exercise 32.\n",
    "Given a sentence count the number of times that a word appears in the sentence."
   ]
  },
  {
   "cell_type": "code",
   "execution_count": 1,
   "id": "fb46703a-a510-4bfa-a3c8-ca0f1521fc8d",
   "metadata": {},
   "outputs": [],
   "source": [
    "def sumar(r, p):\n",
    "    return r + p"
   ]
  },
  {
   "cell_type": "code",
   "execution_count": 2,
   "id": "59f839f6-0508-49cd-8962-ff4e5638ccea",
   "metadata": {},
   "outputs": [
    {
     "data": {
      "text/plain": [
       "3"
      ]
     },
     "execution_count": 2,
     "metadata": {},
     "output_type": "execute_result"
    }
   ],
   "source": [
    "sumar(1, 2)"
   ]
  },
  {
   "cell_type": "code",
   "execution_count": 3,
   "id": "31475493-ff82-487b-9007-c0290bdae83a",
   "metadata": {},
   "outputs": [
    {
     "data": {
      "text/plain": [
       "5"
      ]
     },
     "execution_count": 3,
     "metadata": {},
     "output_type": "execute_result"
    }
   ],
   "source": [
    "w = 1\n",
    "f = 4\n",
    "sumar(w, f)"
   ]
  },
  {
   "cell_type": "code",
   "execution_count": 4,
   "id": "290ca59f-7df0-4c31-857d-f5d970d9b6f5",
   "metadata": {},
   "outputs": [
    {
     "data": {
      "text/plain": [
       "5"
      ]
     },
     "execution_count": 4,
     "metadata": {},
     "output_type": "execute_result"
    }
   ],
   "source": [
    "r = 1\n",
    "p = 4\n",
    "sumar(r, p)"
   ]
  },
  {
   "cell_type": "code",
   "execution_count": 5,
   "id": "7003c7d0-e1ec-4f36-9f8e-beae685c2bde",
   "metadata": {},
   "outputs": [],
   "source": [
    "def sumar(r, p):\n",
    "    r = 1\n",
    "    p = 19\n",
    "    return r + p"
   ]
  },
  {
   "cell_type": "code",
   "execution_count": 6,
   "id": "db537920-46e8-4e1e-b3cf-60e7c84fef4a",
   "metadata": {},
   "outputs": [
    {
     "data": {
      "text/plain": [
       "20"
      ]
     },
     "execution_count": 6,
     "metadata": {},
     "output_type": "execute_result"
    }
   ],
   "source": [
    "sumar(12, 5)"
   ]
  },
  {
   "cell_type": "code",
   "execution_count": null,
   "id": "467c6070-6c9e-41e3-b54e-b1fafa9063ac",
   "metadata": {},
   "outputs": [],
   "source": []
  },
  {
   "cell_type": "code",
   "execution_count": 22,
   "id": "447c71f4-671c-4dd5-a768-9caa6af0b40a",
   "metadata": {},
   "outputs": [],
   "source": [
    "def sentence(a, b):\n",
    "    l = a.split(\" \")\n",
    "    for _ in l:\n",
    "        if _ == b:\n",
    "            ...\n",
    "    c = a.count(b)\n",
    "    return c"
   ]
  },
  {
   "cell_type": "code",
   "execution_count": null,
   "id": "6c954cbf-eed0-47be-aa38-527912689a4a",
   "metadata": {},
   "outputs": [],
   "source": [
    "x = sentence(a, b)\n",
    "print(f\"las veces que aparece la palabra {b} son {x}\")"
   ]
  },
  {
   "cell_type": "code",
   "execution_count": 39,
   "id": "701c9195-4f83-462f-b1a5-fe808d7835a1",
   "metadata": {},
   "outputs": [
    {
     "name": "stdin",
     "output_type": "stream",
     "text": [
      "Escriba aquí una frase el caballo blanco de santiago\n",
      "Escriba aquí la palabra que desea buscar em\n"
     ]
    },
    {
     "name": "stdout",
     "output_type": "stream",
     "text": [
      "las veces que aparece la palabra em son 0\n"
     ]
    }
   ],
   "source": [
    "def sentence(a, b):\n",
    "    a = input(\"Escriba aquí una frase\")\n",
    "    b = input(\"Escriba aquí la palabra que desea buscar\")\n",
    "    c = a.count(b)\n",
    "    print(f\"las veces que aparece la palabra {b} son {c}\")\n",
    "sentence(a, b)"
   ]
  },
  {
   "cell_type": "markdown",
   "id": "53585a5e",
   "metadata": {},
   "source": [
    "#### Exercise 33.\n",
    "Create a function to calculate income/spending between two list with the same length and return a new list with the results. I case there was any problem use try/except statements."
   ]
  },
  {
   "cell_type": "code",
   "execution_count": 8,
   "id": "ebeeb65d-3813-47eb-9492-a8c931085aa7",
   "metadata": {},
   "outputs": [],
   "source": [
    "def profit(l1, l2):\n",
    "    l3 = []\n",
    "    for a, b in zip(l1, l2):\n",
    "        try:\n",
    "            l3.append(a/b)\n",
    "        except Exception as e:\n",
    "            print(e)\n",
    "            l3.append(\"NAN\")\n",
    "    return l3"
   ]
  },
  {
   "cell_type": "code",
   "execution_count": 12,
   "id": "a9826ed0-7cb0-4395-bb51-650155274ffd",
   "metadata": {},
   "outputs": [],
   "source": [
    "k = 0\n",
    "j = 7\n",
    "def sumar():\n",
    "    return k + j"
   ]
  },
  {
   "cell_type": "code",
   "execution_count": 13,
   "id": "1e0f9772-ab18-4a8e-ae50-367432e1e063",
   "metadata": {},
   "outputs": [
    {
     "data": {
      "text/plain": [
       "7"
      ]
     },
     "execution_count": 13,
     "metadata": {},
     "output_type": "execute_result"
    }
   ],
   "source": [
    "sumar()"
   ]
  },
  {
   "cell_type": "code",
   "execution_count": 10,
   "id": "a856444b-532b-405b-9427-38e9c11308b4",
   "metadata": {},
   "outputs": [
    {
     "data": {
      "text/plain": [
       "[-1, -3, 1]"
      ]
     },
     "execution_count": 10,
     "metadata": {},
     "output_type": "execute_result"
    }
   ],
   "source": [
    "def ing_gas_(ing, gas):\n",
    "    long_lista = len(ing)\n",
    "    lista_result = []\n",
    "    for i in range(0, long_lista):\n",
    "        lista_result.append(ing[i] - gas[i])\n",
    "    return lista_result\n",
    "ing = [0, 1, 2]\n",
    "gas = [1, 4, 1]\n",
    "ing_gas_(ing, gas)"
   ]
  },
  {
   "cell_type": "code",
   "execution_count": 11,
   "id": "92992a83-cb33-4e89-be54-fff132d0c367",
   "metadata": {},
   "outputs": [
    {
     "data": {
      "text/plain": [
       "[0.0, 0.25, 2.0]"
      ]
     },
     "execution_count": 11,
     "metadata": {},
     "output_type": "execute_result"
    }
   ],
   "source": [
    "profit(ing, gas)"
   ]
  },
  {
   "cell_type": "markdown",
   "id": "5d9cb622",
   "metadata": {},
   "source": [
    "#### Exercise 34.\n",
    "1. A function to calculate square/rectangle area.\n",
    "2. A function to calculate triangle area.\n",
    "3. A function to calculate sphere area."
   ]
  },
  {
   "cell_type": "code",
   "execution_count": 28,
   "id": "ea1feab0-a979-4e68-95c1-0dd9ef7fbd4b",
   "metadata": {},
   "outputs": [],
   "source": [
    "def rectangle(a, b):\n",
    "    \"\"\"...\"\"\"\n",
    "    return a*b\n",
    "\n",
    "def triangle(a, b):\n",
    "    return rectangle(a, b) / 2\n",
    "\n",
    "def sphere(r):\n",
    "    return 4 * 3.1415 * r **2"
   ]
  },
  {
   "cell_type": "code",
   "execution_count": 33,
   "id": "bd409ebf-c84f-4504-adbc-d85d0dd0e5ca",
   "metadata": {},
   "outputs": [
    {
     "data": {
      "text/plain": [
       "20"
      ]
     },
     "execution_count": 33,
     "metadata": {},
     "output_type": "execute_result"
    }
   ],
   "source": [
    "rectangle(4, 5)"
   ]
  },
  {
   "cell_type": "code",
   "execution_count": 34,
   "id": "2646dbda-af7e-4052-9b97-14a300077f09",
   "metadata": {},
   "outputs": [
    {
     "data": {
      "text/plain": [
       "10.0"
      ]
     },
     "execution_count": 34,
     "metadata": {},
     "output_type": "execute_result"
    }
   ],
   "source": [
    "triangle(4, 5)"
   ]
  },
  {
   "cell_type": "code",
   "execution_count": 32,
   "id": "a7b19fbe-a301-467d-a032-0e9c1e4380b6",
   "metadata": {},
   "outputs": [
    {
     "data": {
      "text/plain": [
       "4.0"
      ]
     },
     "execution_count": 32,
     "metadata": {},
     "output_type": "execute_result"
    }
   ],
   "source": [
    "sphere(3.1415 ** -.5)"
   ]
  },
  {
   "cell_type": "markdown",
   "id": "4474c464",
   "metadata": {},
   "source": [
    "#### Exercise 35.\n",
    "Write a function called return_day. This function takes in one parameter (a number from 1-7) and returns the day of the week (1 is Sunday, 2 is Monday etc.). If the number is less than 1 or greater than 7, the function should return None."
   ]
  },
  {
   "cell_type": "code",
   "execution_count": 15,
   "id": "ed544415-c8e9-44b0-b671-c77866e2409a",
   "metadata": {},
   "outputs": [],
   "source": [
    "def return_day(numday):\n",
    "    \"\"\"...\"\"\"\n",
    "    d = {k: v for k, v in enumerate([\"Sunday\", \"Monday\", \"Tuesday\", \"Wednesday\", \"Thursday\", \"Friday\", \"Saturday\"], start=1)}\n",
    "    return d.get(numday)"
   ]
  },
  {
   "cell_type": "code",
   "execution_count": 16,
   "id": "2300cf17-0db7-42e7-a779-f92ef542cd07",
   "metadata": {},
   "outputs": [
    {
     "data": {
      "text/plain": [
       "'Sunday'"
      ]
     },
     "execution_count": 16,
     "metadata": {},
     "output_type": "execute_result"
    }
   ],
   "source": [
    "return_day(1)"
   ]
  },
  {
   "cell_type": "code",
   "execution_count": 18,
   "id": "a9748197-7f7f-49d0-a3a5-e84aa018fb73",
   "metadata": {},
   "outputs": [
    {
     "name": "stdout",
     "output_type": "stream",
     "text": [
      "None\n"
     ]
    }
   ],
   "source": [
    "print(return_day(19))"
   ]
  },
  {
   "cell_type": "markdown",
   "id": "e3ec2db4",
   "metadata": {},
   "source": [
    "#### Exercise 36.\n",
    "Write a function called sma (Simple Moving Average) to calculate the moving average of a list given two parameters, a list and the moving window. [Hint](https://www.investopedia.com/terms/s/sma.asp)."
   ]
  },
  {
   "cell_type": "code",
   "execution_count": 19,
   "id": "828db32d-2175-4501-ad3c-17f4b72865f3",
   "metadata": {},
   "outputs": [],
   "source": [
    "def sma(lista, window):\n",
    "    \"\"\"...\"\"\"\n",
    "    length_list = len(lista)\n",
    "    result = []\n",
    "    for _ in range(length_list):\n",
    "        sma_value = sum(lista[_:_+window]) / window\n",
    "        result.append(sma_value)\n",
    "        \n",
    "    return result"
   ]
  },
  {
   "cell_type": "code",
   "execution_count": 20,
   "id": "d99eed8e-9510-49a2-85af-ff5d81998468",
   "metadata": {},
   "outputs": [
    {
     "data": {
      "text/plain": [
       "[0.5, 1.5, 2.5, 3.5, 4.5, 5.5, 7.5]"
      ]
     },
     "execution_count": 20,
     "metadata": {},
     "output_type": "execute_result"
    }
   ],
   "source": [
    "sma([1, 2, 3, 4, 5, 6, 9], 2)"
   ]
  },
  {
   "cell_type": "markdown",
   "id": "c491e266",
   "metadata": {},
   "source": [
    "#### Exercise 37.\n",
    "Write a function called ema (Exponential Moving Average) to calculate it as the previous exercises. [Hint](https://www.investopedia.com/ask/answers/122314/what-exponential-moving-average-ema-formula-and-how-ema-calculated.asp)."
   ]
  },
  {
   "cell_type": "code",
   "execution_count": 21,
   "id": "82d05e97-def0-4b7d-9098-4154dfbdb188",
   "metadata": {},
   "outputs": [
    {
     "data": {
      "text/plain": [
       "2.4"
      ]
     },
     "execution_count": 21,
     "metadata": {},
     "output_type": "execute_result"
    }
   ],
   "source": [
    "1 * 0.2 + 2*0.2 + 3*0.6"
   ]
  },
  {
   "cell_type": "code",
   "execution_count": 23,
   "id": "b7543d36-2541-47c2-b93f-92cfd7ec2cd3",
   "metadata": {},
   "outputs": [],
   "source": [
    "def ema(lista, window):\n",
    "    ema = [sum(lista[:window]) / window]\n",
    "    \n",
    "    for value in lista[window:]:\n",
    "        ema.append((value * (2 / (1 + window))) + ema[-1] * (1 - (2 / (1 + window))))\n",
    "    return ema[::-1]"
   ]
  },
  {
   "cell_type": "code",
   "execution_count": 25,
   "id": "203ab237-7eeb-4ae3-9ea9-fd83755c8807",
   "metadata": {},
   "outputs": [
    {
     "data": {
      "text/plain": [
       "[1.5041152263374487,\n",
       " 2.5123456790123457,\n",
       " 3.537037037037037,\n",
       " 4.611111111111112,\n",
       " 5.833333333333334,\n",
       " 7.5]"
      ]
     },
     "execution_count": 25,
     "metadata": {},
     "output_type": "execute_result"
    }
   ],
   "source": [
    "ema([1, 2, 3, 4, 5, 6, 9], 2)"
   ]
  },
  {
   "cell_type": "markdown",
   "id": "156bcf1c-9f46-40fa-ad3a-c819b29905ca",
   "metadata": {},
   "source": [
    "<a id = \"7.\"></a>\n",
    "<a href=\"#IDX\"><p style=\"text-align:right;\" href=\"#IDX\">Back To Index</p></a> \n",
    "## 7. Modules"
   ]
  },
  {
   "cell_type": "markdown",
   "id": "ad9dd22c",
   "metadata": {},
   "source": [
    "#### Exercise 38.\n",
    "Create a function that return a random number between 1 and given integer."
   ]
  },
  {
   "cell_type": "code",
   "execution_count": 1,
   "id": "2d0176ae-cb5b-49fa-94fe-cb6eb06bb053",
   "metadata": {},
   "outputs": [],
   "source": [
    "import numpy as np"
   ]
  },
  {
   "cell_type": "code",
   "execution_count": 2,
   "id": "47ce81ad-3d5c-46d8-b2eb-4b2cbaafe9c5",
   "metadata": {},
   "outputs": [],
   "source": [
    "def random_number(n):\n",
    "    \"\"\"...\"\"\"\n",
    "    return np.random.randint(low=0, high=n+1)"
   ]
  },
  {
   "cell_type": "code",
   "execution_count": 57,
   "id": "c8cb59f5-ead3-49cd-9e9a-0521348f06a9",
   "metadata": {},
   "outputs": [
    {
     "data": {
      "text/plain": [
       "3"
      ]
     },
     "execution_count": 57,
     "metadata": {},
     "output_type": "execute_result"
    }
   ],
   "source": [
    "np.random.seed(1234)\n",
    "random_number(5)"
   ]
  },
  {
   "cell_type": "code",
   "execution_count": 4,
   "id": "379c85d7-3c7d-4061-9138-37ab499872db",
   "metadata": {},
   "outputs": [
    {
     "data": {
      "text/plain": [
       "0"
      ]
     },
     "execution_count": 4,
     "metadata": {},
     "output_type": "execute_result"
    }
   ],
   "source": [
    "random_number(5)"
   ]
  },
  {
   "cell_type": "code",
   "execution_count": null,
   "id": "6dc001bf-c160-4d92-9d03-22fa42458f7b",
   "metadata": {},
   "outputs": [],
   "source": []
  },
  {
   "cell_type": "markdown",
   "id": "d1d960a1",
   "metadata": {},
   "source": [
    "#### Exercise 39.\n",
    "Multiply the following matrixes with matrix mutiplication.\n",
    "```python\n",
    "import numpy as np\n",
    "matrix1 = np.array([[1, 0], [0, -1]])\n",
    "matrix2 = np.array([[3, 2], [1, 1]])\n",
    "```"
   ]
  },
  {
   "cell_type": "code",
   "execution_count": 58,
   "id": "5ff1939c-70b3-4fbd-87fa-cea4e4d958d8",
   "metadata": {},
   "outputs": [],
   "source": [
    "import numpy as np\n",
    "matrix1 = np.array([[1, 0], [0, -1]])\n",
    "matrix2 = np.array([[3, 2], [1, 1]])"
   ]
  },
  {
   "cell_type": "code",
   "execution_count": 60,
   "id": "955ac39b-c49d-4114-97d0-78faefdaac81",
   "metadata": {},
   "outputs": [
    {
     "data": {
      "text/plain": [
       "(array([[ 1,  0],\n",
       "        [ 0, -1]]),\n",
       " array([[3, 2],\n",
       "        [1, 1]]))"
      ]
     },
     "execution_count": 60,
     "metadata": {},
     "output_type": "execute_result"
    }
   ],
   "source": [
    "matrix1, matrix2"
   ]
  },
  {
   "cell_type": "code",
   "execution_count": 61,
   "id": "7818e973-bf7b-4860-bf41-e0911978e8e2",
   "metadata": {},
   "outputs": [
    {
     "data": {
      "text/plain": [
       "array([[ 3,  2],\n",
       "       [-1, -1]])"
      ]
     },
     "execution_count": 61,
     "metadata": {},
     "output_type": "execute_result"
    }
   ],
   "source": [
    "matrix1.dot(matrix2)"
   ]
  },
  {
   "cell_type": "code",
   "execution_count": 59,
   "id": "a7226a2b-1c38-4b2c-b9bf-4a0a34dff81b",
   "metadata": {},
   "outputs": [
    {
     "data": {
      "text/plain": [
       "array([[ 3,  0],\n",
       "       [ 0, -1]])"
      ]
     },
     "execution_count": 59,
     "metadata": {},
     "output_type": "execute_result"
    }
   ],
   "source": [
    "matrix1 * matrix2"
   ]
  },
  {
   "cell_type": "markdown",
   "id": "ddd3f076",
   "metadata": {},
   "source": [
    "#### Exercise 40.\n",
    "Write a function to select a random element from a given list."
   ]
  },
  {
   "cell_type": "code",
   "execution_count": 62,
   "id": "307d28fb-1ef2-4e73-a9ac-692d5f78e846",
   "metadata": {},
   "outputs": [],
   "source": [
    "import random"
   ]
  },
  {
   "cell_type": "code",
   "execution_count": 63,
   "id": "b9358b6e-4526-4c9e-b124-922889bc1da8",
   "metadata": {},
   "outputs": [],
   "source": [
    "def sample(x):\n",
    "    \"\"\"...\"\"\"\n",
    "    return random.choice(x)"
   ]
  },
  {
   "cell_type": "code",
   "execution_count": 84,
   "id": "cc2d01d3-749f-4c7f-9f05-80de4a8559d9",
   "metadata": {},
   "outputs": [
    {
     "data": {
      "text/plain": [
       "'4'"
      ]
     },
     "execution_count": 84,
     "metadata": {},
     "output_type": "execute_result"
    }
   ],
   "source": [
    "sample([str(_) for _ in range(1, 7)])"
   ]
  },
  {
   "cell_type": "markdown",
   "id": "5d3e7481-7b54-46aa-80da-a8c51c64fe44",
   "metadata": {},
   "source": [
    "<a id = \"8.\"></a>\n",
    "<a href=\"#IDX\"><p style=\"text-align:right;\" href=\"#IDX\">Back To Index</p></a> \n",
    "## 8. Functions (II)"
   ]
  },
  {
   "cell_type": "markdown",
   "id": "dc62b387",
   "metadata": {},
   "source": [
    "#### Exercise 41.\n",
    "Create an anonymous function to check if a string starts with a given argument."
   ]
  },
  {
   "cell_type": "code",
   "execution_count": 85,
   "id": "fee5ba62-691f-43df-9d43-f62b37def029",
   "metadata": {},
   "outputs": [],
   "source": [
    "result = lambda arg, example: example.startswith(arg)"
   ]
  },
  {
   "cell_type": "code",
   "execution_count": 86,
   "id": "fb405b45-6671-4b0c-85b7-d07b5dcc3e20",
   "metadata": {},
   "outputs": [
    {
     "data": {
      "text/plain": [
       "True"
      ]
     },
     "execution_count": 86,
     "metadata": {},
     "output_type": "execute_result"
    }
   ],
   "source": [
    "result(\"Co\", \"Covid sucks!\")"
   ]
  },
  {
   "cell_type": "markdown",
   "id": "6c509216",
   "metadata": {},
   "source": [
    "#### Exercise 42.\n",
    "Write a Python program to find palindromes in a given list of strings using Lambda."
   ]
  },
  {
   "cell_type": "code",
   "execution_count": 87,
   "id": "9ada2fae-75f1-42f0-ab55-28f82b4a3741",
   "metadata": {},
   "outputs": [
    {
     "data": {
      "text/plain": [
       "['oso', 'ojo', 'radar']"
      ]
     },
     "execution_count": 87,
     "metadata": {},
     "output_type": "execute_result"
    }
   ],
   "source": [
    "lista = [\"oso\", \"nebrija\", \"ojo\", \"ojeras\", \"radar\"]\n",
    "list(filter(lambda a: a == a[::-1], lista))"
   ]
  },
  {
   "cell_type": "markdown",
   "id": "e98e4842-7f5e-4a47-90a9-02a60cad77a0",
   "metadata": {},
   "source": [
    "<a id = \"9.\"></a>\n",
    "<a href=\"#IDX\"><p style=\"text-align:right;\" href=\"#IDX\">Back To Index</p></a> \n",
    "## 9. Classes"
   ]
  },
  {
   "cell_type": "markdown",
   "id": "0f8fb617",
   "metadata": {},
   "source": [
    "#### Exercise 43.\n",
    "Write a Python class named Converter\n",
    "1. Add a method from integer to a roman numeral.\n",
    "2. Add method from roman numeral to integer."
   ]
  },
  {
   "cell_type": "code",
   "execution_count": 76,
   "id": "c7864465-7d1e-4894-b009-98ea5d1b04c1",
   "metadata": {},
   "outputs": [],
   "source": [
    "class Converter:\n",
    "    def __init__(self):\n",
    "        self.ir = {1: \"I\", 5: \"V\"}\n",
    "        self.ri = {\"I\": 1, \"V\": 5}\n",
    "        \n",
    "    def integer_to_roman(self, n):\n",
    "        if n <= 3:\n",
    "            ret = n * self.ir.get(1)\n",
    "        else:\n",
    "            if n < 5:\n",
    "                ret = f\"{self.ir.get(1)}{self.ir.get(5)}\"\n",
    "            else:\n",
    "                if n <= 8:\n",
    "                    ret = f\"{self.ir.get(5)}{self.ir.get(1)*(n - 5)}\"\n",
    "                else:\n",
    "                    ret = \"Not coded Num\"\n",
    "        return ret\n",
    "    \n",
    "    def roman_to_integer(self, roman):\n",
    "        prev_letter = \"\"\n",
    "        value = 0\n",
    "        for letter in roman:\n",
    "            if prev_letter == letter or prev_letter == \"\":\n",
    "                value += self.ri.get(letter)\n",
    "                prev_letter = letter\n",
    "            else:\n",
    "                if self.ri.get(prev_letter) < self.ri.get(letter):\n",
    "                    value -= self.ri.get(prev_letter)\n",
    "                    value += self.ri.get(letter) - self.ri.get(prev_letter)\n",
    "                    prev_letter = letter\n",
    "                else:\n",
    "                    value += self.ri.get(letter)\n",
    "                    prev_letter = letter\n",
    "        return value\n",
    "            \n",
    "            \n",
    "        "
   ]
  },
  {
   "cell_type": "code",
   "execution_count": 77,
   "id": "462c22fd-6d3e-4c19-bcd4-3f00816ca71e",
   "metadata": {},
   "outputs": [],
   "source": [
    "conv = Converter()"
   ]
  },
  {
   "cell_type": "code",
   "execution_count": 78,
   "id": "fc8b9587-2d41-409d-9bc8-c2ac848c00e8",
   "metadata": {},
   "outputs": [
    {
     "data": {
      "text/plain": [
       "'VIII'"
      ]
     },
     "execution_count": 78,
     "metadata": {},
     "output_type": "execute_result"
    }
   ],
   "source": [
    "conv.integer_to_roman(8)"
   ]
  },
  {
   "cell_type": "code",
   "execution_count": 79,
   "id": "cceb2e94-2e23-4267-ade8-6b6a47f08b84",
   "metadata": {},
   "outputs": [
    {
     "data": {
      "text/plain": [
       "4"
      ]
     },
     "execution_count": 79,
     "metadata": {},
     "output_type": "execute_result"
    }
   ],
   "source": [
    "conv.roman_to_integer(\"IV\")"
   ]
  },
  {
   "cell_type": "markdown",
   "id": "c98e7473",
   "metadata": {},
   "source": [
    "#### Exercise 44.\n",
    "Write a Python class which has two methods set_string and print_string. get_string accept a string from the user and print_string print the string in upper case."
   ]
  },
  {
   "cell_type": "code",
   "execution_count": 87,
   "id": "a7136280-144e-4c12-bda9-50348f4274c8",
   "metadata": {},
   "outputs": [],
   "source": [
    "class String:\n",
    "    def __init__(self, s):\n",
    "        self.s = s\n",
    "        \n",
    "    def print_string(self):\n",
    "        print(self.s.upper())"
   ]
  },
  {
   "cell_type": "code",
   "execution_count": 88,
   "id": "5cf68681-01c6-463c-b8f5-f77766698068",
   "metadata": {},
   "outputs": [
    {
     "name": "stdin",
     "output_type": "stream",
     "text": [
      "Dime algo: Hola\n"
     ]
    },
    {
     "name": "stdout",
     "output_type": "stream",
     "text": [
      "HOLA\n"
     ]
    }
   ],
   "source": [
    "var = input(\"Dime algo:\")\n",
    "s = String(var)\n",
    "s.print_string()"
   ]
  },
  {
   "cell_type": "code",
   "execution_count": 89,
   "id": "fe2822e1-fe66-4c8c-b48a-aee9b160f688",
   "metadata": {},
   "outputs": [
    {
     "data": {
      "text/plain": [
       "'Hola'"
      ]
     },
     "execution_count": 89,
     "metadata": {},
     "output_type": "execute_result"
    }
   ],
   "source": [
    "var"
   ]
  },
  {
   "cell_type": "code",
   "execution_count": 86,
   "id": "ef74e7dd-0794-46e3-b89a-2a8c411e21b5",
   "metadata": {},
   "outputs": [
    {
     "name": "stdout",
     "output_type": "stream",
     "text": [
      "AMANDA ME DA MIEDO\n"
     ]
    }
   ],
   "source": [
    "s.print_string()"
   ]
  },
  {
   "cell_type": "markdown",
   "id": "0c5bad6e",
   "metadata": {},
   "source": [
    "#### Exercise 45.\n",
    "Create a Vehicle class with max_speed and mileage instance attributes."
   ]
  },
  {
   "cell_type": "code",
   "execution_count": 90,
   "id": "99aad273-341d-40cd-8a20-4c4dfbbe609e",
   "metadata": {},
   "outputs": [],
   "source": [
    "class Vehicle:\n",
    "    def __init__(self):\n",
    "        self.max_speed = 180\n",
    "        self.mileage = 50000\n",
    "        \n",
    "    def v_info(self):\n",
    "        print(self.max_speed)\n",
    "        print(self.mileage)"
   ]
  },
  {
   "cell_type": "markdown",
   "id": "3ba15d95",
   "metadata": {},
   "source": [
    "#### Exercise 46.\n",
    "Create a child class Bus that will inherit all of the variables and methods of the Vehicle class and display it."
   ]
  },
  {
   "cell_type": "code",
   "execution_count": 70,
   "id": "8192bfd7-96fb-4ac4-956b-307f0184b796",
   "metadata": {},
   "outputs": [],
   "source": [
    "class Bus(Vehicle):\n",
    "    def __init__(self):\n",
    "        super().__init__()\n",
    "    \n",
    "    def info(self):\n",
    "        print(self.max_speed)\n",
    "        print(self.mileage)"
   ]
  },
  {
   "cell_type": "code",
   "execution_count": 71,
   "id": "3dcce5bf-e89c-4ad0-bcbe-2cf181abcdd7",
   "metadata": {},
   "outputs": [],
   "source": [
    "bus = Bus()"
   ]
  },
  {
   "cell_type": "code",
   "execution_count": 72,
   "id": "3631faa9-0af4-41d5-8b47-015f46241791",
   "metadata": {},
   "outputs": [
    {
     "name": "stdout",
     "output_type": "stream",
     "text": [
      "180\n",
      "50000\n"
     ]
    }
   ],
   "source": [
    "bus.info()"
   ]
  },
  {
   "cell_type": "markdown",
   "id": "8d367827",
   "metadata": {},
   "source": [
    "#### Exercise 47.\n",
    "Create a Bus class that inherits from the Vehicle class. Give the capacity argument of Bus.seating_capacity() a default value of 50."
   ]
  },
  {
   "cell_type": "code",
   "execution_count": 91,
   "id": "5c295cab-39f9-4170-8952-2b0c79fb4d4d",
   "metadata": {},
   "outputs": [],
   "source": [
    "class Bus(Vehicle):\n",
    "    def __init__(self):\n",
    "        super().__init__()\n",
    "        self.seating_capacity = 50\n",
    "    \n",
    "    def info(self):\n",
    "        super().v_info()\n",
    "        print(self.seating_capacity)"
   ]
  },
  {
   "cell_type": "code",
   "execution_count": 92,
   "id": "ece78f39-e2d8-4437-9947-8039317ed245",
   "metadata": {},
   "outputs": [],
   "source": [
    "bus = Bus()"
   ]
  },
  {
   "cell_type": "code",
   "execution_count": 93,
   "id": "01e6a6e6-f1d0-4f2e-b32b-c61429348d53",
   "metadata": {},
   "outputs": [
    {
     "name": "stdout",
     "output_type": "stream",
     "text": [
      "180\n",
      "50000\n",
      "50\n"
     ]
    }
   ],
   "source": [
    "bus.info()"
   ]
  },
  {
   "cell_type": "markdown",
   "id": "76f2d7c5-d457-43d3-a899-814bde7a8a91",
   "metadata": {},
   "source": [
    "<a id = \"extra\"></a>\n",
    "<a href=\"#IDX\"><p style=\"text-align:right;\" href=\"#IDX\">Back To Index</p></a> \n",
    "## Extra"
   ]
  },
  {
   "cell_type": "markdown",
   "id": "75685af0-48ab-42fa-8aec-77ecc31cb710",
   "metadata": {},
   "source": [
    "Sign in into [Codewars](https://www.codewars.com/) to have a huge amount of different code challenges."
   ]
  }
 ],
 "metadata": {
  "kernelspec": {
   "display_name": "Python 3",
   "language": "python",
   "name": "python3"
  },
  "language_info": {
   "codemirror_mode": {
    "name": "ipython",
    "version": 3
   },
   "file_extension": ".py",
   "mimetype": "text/x-python",
   "name": "python",
   "nbconvert_exporter": "python",
   "pygments_lexer": "ipython3",
   "version": "3.8.8"
  }
 },
 "nbformat": 4,
 "nbformat_minor": 5
}
