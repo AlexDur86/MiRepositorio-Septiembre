{
 "cells": [
  {
   "cell_type": "markdown",
   "id": "5763bd69-51fd-42cd-9f81-38cb8420de8a",
   "metadata": {},
   "source": [
    "<div style=\"text-align:center\"><img src=\"./images/python_ex.png\" /></div>"
   ]
  },
  {
   "cell_type": "markdown",
   "id": "140e6b38-c694-4a9b-9632-04efd53a14c1",
   "metadata": {},
   "source": [
    "<a href=\"00_cover_page.ipynb\"><p style=\"text-align:right;\" href=\"00_cover_page.ipynb\">Back To Cover Page</p></a> "
   ]
  },
  {
   "cell_type": "markdown",
   "id": "d73153e3-cea6-4b66-b1f2-a55e24abe9c9",
   "metadata": {},
   "source": [
    "<a id = \"IDX\"></a>\n",
    "# Class Exercises\n",
    "##### Index\n",
    "- [2. Variables in Python](#2.)\n",
    "- [3. Conditionals](#3.)\n",
    "- [4. Data Structures](#4.)\n",
    "- [5. Loops](#5.)\n",
    "- [6. Functions (I)](#6.)\n",
    "- [7. Modules](#7.)\n",
    "- [8. Functions (II)](#8.)\n",
    "- [9. Classes](#9.)\n",
    "- [Extra](#extra)"
   ]
  },
  {
   "cell_type": "markdown",
   "id": "2d0d028c-b49f-4148-9af9-e0b7e9bc0ab5",
   "metadata": {},
   "source": [
    "<a id = \"2.\"></a>\n",
    "<a href=\"#IDX\"><p style=\"text-align:right;\" href=\"#IDX\">Back To Index</p></a> \n",
    "## 2. Variables in Python"
   ]
  },
  {
   "cell_type": "markdown",
   "id": "e7313e69",
   "metadata": {},
   "source": [
    "#### Exercise 1.\n",
    "1. Write your address (street) in a variable.\n",
    "2. Write your address (number of building) in a variable.\n",
    "3. Write your address (city) in a variable.\n",
    "4. Write your address (postalcode) in a variable.\n",
    "5. Concatenate the previous variables into another one.\n",
    "6. Print it."
   ]
  },
  {
   "cell_type": "code",
   "execution_count": 1,
   "id": "47988775-3c8c-4e3c-9b8d-b087c3ded18d",
   "metadata": {},
   "outputs": [],
   "source": [
    "street = \"Acacias\"\n",
    "number = 50\n",
    "city = \"Rivas Vaciamadrid\"\n",
    "postal_code = 28522"
   ]
  },
  {
   "cell_type": "code",
   "execution_count": 2,
   "id": "62e9c0a8-5e6e-4626-84bf-ecbdb30483ae",
   "metadata": {},
   "outputs": [
    {
     "name": "stdout",
     "output_type": "stream",
     "text": [
      "Acacias 50 Rivas Vaciamadrid 28522\n"
     ]
    }
   ],
   "source": [
    "address = street + ' ' + str(number) + ' ' + city + ' ' + str(postal_code)\n",
    "print(address)"
   ]
  },
  {
   "cell_type": "markdown",
   "id": "f0a213b1",
   "metadata": {},
   "source": [
    "#### Exercise 2.\n",
    "\n",
    "Which of the following are bad formed? why? and correct them.\n",
    "```python\n",
    "mi_variable = \"Economía\"\n",
    "otra_var = \"Ejercicio\n",
    "True = \"Ejercicio\"\n",
    "mi variab1e = \"Alpha\"\n",
    "exec = True\n",
    "import = 40\n",
    "81mi_variable = \"Agua\"\n",
    "mi_variable10 = 6\n",
    "```"
   ]
  },
  {
   "cell_type": "code",
   "execution_count": 3,
   "id": "7b9c5637-d4ce-419b-a360-ff7678cc421c",
   "metadata": {},
   "outputs": [],
   "source": [
    "# mi_variable : bien\n",
    "# otra_var : mal    tiene que todo comillas \n",
    "# True : mal  nos cargariamos True\n",
    "# mi variable : mal  no se debe utilizar espacios para nombrar variables\n",
    "# exec e import : mal  son palabras reservadas\n",
    "# 81mi_variable : mal   no hay que empezar variables con numeros\n",
    "# mi_variable : bien\n",
    "\n",
    "otra_var = \"Ejercicio\"\n",
    "true = \"Ejercicio\"\n",
    "mi_variable = \"Alpha\"\n",
    "exect = True\n",
    "importado = 40\n",
    "mi_variable81 = \"Agua\""
   ]
  },
  {
   "cell_type": "markdown",
   "id": "147660ab",
   "metadata": {},
   "source": [
    "#### Exercise 3.\n",
    "Calculate the roots of any ecuation of second order with the following expression \\\\( ax^2 + bx + c = 0 \\\\)"
   ]
  },
  {
   "cell_type": "code",
   "execution_count": 4,
   "id": "d29c6b30-220a-4ba8-b4b1-b8aae6065f9d",
   "metadata": {},
   "outputs": [],
   "source": [
    "a = 3\n",
    "b = -8\n",
    "c = -2\n",
    "\n",
    "x1 = (-b + (b**2 - 4 * a * c)**0.5) / (2 * a)\n",
    "\n",
    "x2 = (-b - (b**2 - 4 * a * c)**0.5) / (2 * a)"
   ]
  },
  {
   "cell_type": "code",
   "execution_count": 5,
   "id": "81ce8cb2-78bf-4131-9ed9-99213564e189",
   "metadata": {},
   "outputs": [
    {
     "name": "stdout",
     "output_type": "stream",
     "text": [
      "2.897\n",
      "-0.23013858660780992\n"
     ]
    }
   ],
   "source": [
    "print(round(x1,3))\n",
    "print(x2)"
   ]
  },
  {
   "cell_type": "markdown",
   "id": "487368aa",
   "metadata": {},
   "source": [
    "#### Exercise 4.\n",
    "Create a workflow to calculate from farentheit to celsius"
   ]
  },
  {
   "cell_type": "code",
   "execution_count": 6,
   "id": "3aab9a26-0d8d-49dc-a247-3379608ce29e",
   "metadata": {},
   "outputs": [],
   "source": [
    "Farenheit = 85\n",
    "\n",
    "Celsius = (Farenheit - 32) * (5 / 9)"
   ]
  },
  {
   "cell_type": "code",
   "execution_count": 7,
   "id": "17a965a1-57e9-4bf0-bf68-8c3692f20a0a",
   "metadata": {},
   "outputs": [
    {
     "name": "stdout",
     "output_type": "stream",
     "text": [
      "29.44\n"
     ]
    }
   ],
   "source": [
    "print(round(Celsius,2))"
   ]
  },
  {
   "cell_type": "markdown",
   "id": "f54ad63f",
   "metadata": {},
   "source": [
    "#### Exercise 5.\n",
    "Decompose a division of two numbers in its parts and check that the numerator is calculated with the previous values."
   ]
  },
  {
   "cell_type": "code",
   "execution_count": 8,
   "id": "040f8a6f-213e-45e2-8ddc-686d2c24186c",
   "metadata": {},
   "outputs": [
    {
     "name": "stdout",
     "output_type": "stream",
     "text": [
      "True\n"
     ]
    }
   ],
   "source": [
    "a = 8\n",
    "b = 10\n",
    "\n",
    "rest = a % b\n",
    "div = a / b\n",
    "flo = a // b\n",
    "\n",
    "print(a == flo * b + rest)"
   ]
  },
  {
   "cell_type": "markdown",
   "id": "93defe60",
   "metadata": {},
   "source": [
    "#### Exercise 6.\n",
    "Given any word remove extra whitespaces at the beginning and at the end and uppercase the firts letter of the word."
   ]
  },
  {
   "cell_type": "code",
   "execution_count": 9,
   "id": "5449d6db-e66d-4bd3-9761-2ce49041c2e3",
   "metadata": {},
   "outputs": [
    {
     "data": {
      "text/plain": [
       "'Marmitako pa la people'"
      ]
     },
     "execution_count": 9,
     "metadata": {},
     "output_type": "execute_result"
    }
   ],
   "source": [
    "word = \"  marmitako pa la people \"\n",
    "\n",
    "word.strip().capitalize()\n",
    "\n"
   ]
  },
  {
   "cell_type": "markdown",
   "id": "71d10274-47fb-4ee0-878c-222c6d75ebb1",
   "metadata": {},
   "source": [
    "<a id = \"3.\"></a>\n",
    "<a href=\"#IDX\"><p style=\"text-align:right;\" href=\"#IDX\">Back To Index</p></a> \n",
    "## 3. Conditionals"
   ]
  },
  {
   "cell_type": "markdown",
   "id": "879e55ba",
   "metadata": {},
   "source": [
    "#### Exercise 7.\n",
    "Given a sentence count the number of times that a word appears in the sentence. Previously checks if the word is in the sentence."
   ]
  },
  {
   "cell_type": "code",
   "execution_count": 10,
   "id": "0da77bc6-b342-408f-b41e-af66e72f00a4",
   "metadata": {},
   "outputs": [
    {
     "name": "stdout",
     "output_type": "stream",
     "text": [
      "The word is in the sentence\n",
      "4\n"
     ]
    }
   ],
   "source": [
    "sentence = \"La parte contratante de la primera parte es igual a la parte contratante de la segunda parte\"\n",
    "\n",
    "word = \"parte\"\n",
    "\n",
    "\n",
    "if word in sentence:\n",
    "    print(\"The word is in the sentence\")\n",
    "    print(sentence.count(word))\n",
    "    \n",
    "\n",
    "        \n",
    "else:\n",
    "    print(\"Word don´t appears in the sentence\")\n",
    "\n"
   ]
  },
  {
   "cell_type": "code",
   "execution_count": 11,
   "id": "492330f0-950e-431b-80d8-2156af31c6ed",
   "metadata": {},
   "outputs": [
    {
     "name": "stdout",
     "output_type": "stream",
     "text": [
      "2\n"
     ]
    }
   ],
   "source": [
    "word = \"o\"\n",
    "\n",
    "sentence = \"hello world\"\n",
    "\n",
    "if isinstance(sentence, str):\n",
    "    print(sentence.lower().count(word.lower()))"
   ]
  },
  {
   "cell_type": "markdown",
   "id": "989d4650",
   "metadata": {},
   "source": [
    "#### Exercise 8.\n",
    "Is the following expression correct? Solve it if it is incorrect.\n",
    "```python\n",
    "var_num = 10\n",
    "if var_num <= 100:\n",
    "    print(f\"{var_num} <= 100\")\n",
    "elif var_num <= 10:\n",
    "    print(f\"{var_num} <= 10\")\n",
    "else:\n",
    "    print(\"Big number!\")\n",
    "```"
   ]
  },
  {
   "cell_type": "code",
   "execution_count": 12,
   "id": "2a2f62a6-7c13-4fca-a292-1605c8a5eefe",
   "metadata": {},
   "outputs": [
    {
     "name": "stdout",
     "output_type": "stream",
     "text": [
      "85 <= 100\n"
     ]
    }
   ],
   "source": [
    "var_num = 85\n",
    "if var_num <= 10:\n",
    "    print(f\"{var_num} <= 10\")\n",
    "elif var_num <= 100:\n",
    "    print(f\"{var_num} <= 100\")\n",
    "else:\n",
    "    print(\"Big number!\")"
   ]
  },
  {
   "cell_type": "markdown",
   "id": "120fa20c",
   "metadata": {},
   "source": [
    "#### Exercise 9.\n",
    "What we will get from the following expressions? Try to gigure it out without execute code.\n",
    "1. True and True and False\n",
    "2. not(not (True or False)) or (True or False)\n",
    "3. (False or True or False or True) or False\n",
    "4. not True and True and True"
   ]
  },
  {
   "cell_type": "code",
   "execution_count": 13,
   "id": "6a25b9c8-8d65-47a6-b10f-09f84990a278",
   "metadata": {},
   "outputs": [
    {
     "data": {
      "text/plain": [
       "False"
      ]
     },
     "execution_count": 13,
     "metadata": {},
     "output_type": "execute_result"
    }
   ],
   "source": [
    "True and True and False"
   ]
  },
  {
   "cell_type": "code",
   "execution_count": 14,
   "id": "2698b4d5-20c6-4ebb-a58c-03e93d709e3e",
   "metadata": {},
   "outputs": [
    {
     "data": {
      "text/plain": [
       "True"
      ]
     },
     "execution_count": 14,
     "metadata": {},
     "output_type": "execute_result"
    }
   ],
   "source": [
    "not(not (True or False)) or (True or False)"
   ]
  },
  {
   "cell_type": "code",
   "execution_count": 15,
   "id": "3da282d6-59f6-4e20-9f10-5a515ad9e37d",
   "metadata": {},
   "outputs": [
    {
     "data": {
      "text/plain": [
       "True"
      ]
     },
     "execution_count": 15,
     "metadata": {},
     "output_type": "execute_result"
    }
   ],
   "source": [
    "(False or True or False or True) or False"
   ]
  },
  {
   "cell_type": "code",
   "execution_count": 16,
   "id": "5e141c80-7252-4acf-ba80-b20f8ad79a71",
   "metadata": {},
   "outputs": [
    {
     "data": {
      "text/plain": [
       "False"
      ]
     },
     "execution_count": 16,
     "metadata": {},
     "output_type": "execute_result"
    }
   ],
   "source": [
    "not True and True and True"
   ]
  },
  {
   "cell_type": "markdown",
   "id": "44ccd936",
   "metadata": {},
   "source": [
    "#### Exercise 10.\n",
    "Calculate the IRPF steps [see here](https://www.bankinter.com/blog/finanzas-personales/renta-tramos-irpf) for a given salary."
   ]
  },
  {
   "cell_type": "code",
   "execution_count": 17,
   "id": "d17b276b-138d-4d3b-b343-c14897eeea3c",
   "metadata": {},
   "outputs": [
    {
     "name": "stdout",
     "output_type": "stream",
     "text": [
      "el IRPF a pagar es de 7500.0 euros anuales\n"
     ]
    }
   ],
   "source": [
    "salary = 25000\n",
    "\n",
    "if salary <= 12450:\n",
    "    IRPF = salary * 0.19\n",
    "    \n",
    "elif salary <= 20200:\n",
    "    IRPF = salary * 0.24\n",
    "    \n",
    "elif salary <= 35200:\n",
    "    IRPF = salary * 0.3\n",
    "    \n",
    "elif salary <= 60000:\n",
    "    IRPF = salary * 0.37\n",
    "    \n",
    "elif salary <= 300000:\n",
    "    IRPF = salary * 0.45\n",
    "    \n",
    "elif salary > 300000:\n",
    "    IRPF = salary * 0.47\n",
    "    \n",
    "else:\n",
    "    print(\"El salario no requiere de IRPF\")\n",
    "    \n",
    "print(f\"el IRPF a pagar es de {IRPF} euros anuales\")\n",
    "    "
   ]
  },
  {
   "cell_type": "markdown",
   "id": "f084bf17",
   "metadata": {},
   "source": [
    "#### Exercise 11.\n",
    "Write an if statement that asks for the user's name via variable. If the name is \"Bond\" make it print \"Welcome on board 007.\" Otherwise make it print \"Good morning NAME\". (Replace Name with user's name)"
   ]
  },
  {
   "cell_type": "code",
   "execution_count": 18,
   "id": "96623cec-2484-44d1-9210-1f14680ed98c",
   "metadata": {},
   "outputs": [
    {
     "name": "stdin",
     "output_type": "stream",
     "text": [
      "insert user name:  Bond\n"
     ]
    },
    {
     "name": "stdout",
     "output_type": "stream",
     "text": [
      "Welcome on board 007\n"
     ]
    }
   ],
   "source": [
    "name = input(\"insert user name: \")\n",
    "\n",
    "if name.capitalize() == \"Bond\":\n",
    "    print(\"Welcome on board 007\")\n",
    "    \n",
    "else:\n",
    "    print(f\"Good morning {name}, replace name with user name\")"
   ]
  },
  {
   "cell_type": "markdown",
   "id": "d4328348",
   "metadata": {},
   "source": [
    "#### Exercise 12.\n",
    "A school has following rules for grading system:\n",
    "1. Below 25 - F\n",
    "2. 25 to 45 - E\n",
    "3. 45 to 50 - D\n",
    "4. 50 to 60 - C\n",
    "5. 60 to 80 - B\n",
    "6. Above 80 - A\n",
    "\n",
    "\n",
    "Ask user to enter marks and print the corresponding grade (via variable)."
   ]
  },
  {
   "cell_type": "code",
   "execution_count": 19,
   "id": "a8fcc105-40cb-4aa6-a2c8-297fa3d72214",
   "metadata": {},
   "outputs": [
    {
     "name": "stdin",
     "output_type": "stream",
     "text": [
      "Insert your mark please:  75\n"
     ]
    },
    {
     "name": "stdout",
     "output_type": "stream",
     "text": [
      "A\n"
     ]
    }
   ],
   "source": [
    "user = int(input(\"Insert your mark please: \"))\n",
    "\n",
    "if user < 25:\n",
    "    print(\"F\")\n",
    "    \n",
    "elif user <= 25 and user < 45:\n",
    "    print(\"E\")\n",
    "    \n",
    "elif user <= 45 and user < 50:\n",
    "    print(\"D\")\n",
    "    \n",
    "elif user <= 50 and user < 60:\n",
    "    print(\"C\")\n",
    "    \n",
    "elif user <= 60 and user < 80:    \n",
    "    print(\"B\")\n",
    "    \n",
    "else:\n",
    "    print(\"A\")"
   ]
  },
  {
   "cell_type": "markdown",
   "id": "db5d961a",
   "metadata": {},
   "source": [
    "#### Exercies 13.\n",
    "Take values of length and breadth of a rectangle from user and check if it is square or not."
   ]
  },
  {
   "cell_type": "code",
   "execution_count": null,
   "id": "bc5794c9-8d56-4163-8306-3da424e6e0a0",
   "metadata": {},
   "outputs": [],
   "source": [
    "base = 10\n",
    "altura = 20\n",
    "\n",
    "if base == altura:\n",
    "    print(\"Is a square\")\n",
    "    \n",
    "else:\n",
    "    print(\"Is not a square\")"
   ]
  },
  {
   "cell_type": "markdown",
   "id": "bb5537f6-129e-4c31-94e8-e26a4193e47a",
   "metadata": {},
   "source": [
    "<a id = \"4.\"></a>\n",
    "<a href=\"#IDX\"><p style=\"text-align:right;\" href=\"#IDX\">Back To Index</p></a> \n",
    "## 4. Data Structures"
   ]
  },
  {
   "cell_type": "markdown",
   "id": "769b600e",
   "metadata": {},
   "source": [
    "#### Exercise 14.\n",
    "1. Create a tuple with 3 elements\n",
    "2. Create a tuple with one element and check its type\n",
    "3. Create a tuple with elements of different types\n",
    "4. Print first and last element from previous tuple.\n",
    "5. Add one more element.\n",
    "6. Delete one element in a tuple.\n",
    "7. Transform the tuple into a list"
   ]
  },
  {
   "cell_type": "code",
   "execution_count": null,
   "id": "4bb6adcc-f5c2-4fd7-af95-01b5f7dc70f2",
   "metadata": {},
   "outputs": [],
   "source": [
    "tupla = (1,2,3)\n",
    "tupla1 = (4,)\n",
    "print(type(tupla1))"
   ]
  },
  {
   "cell_type": "code",
   "execution_count": 22,
   "id": "3e7c6391-1e59-4575-873b-34dd68eb47dd",
   "metadata": {},
   "outputs": [
    {
     "name": "stdout",
     "output_type": "stream",
     "text": [
      "Hello\n",
      "8\n"
     ]
    }
   ],
   "source": [
    "tupla2 = (\"Hello\", 4.5, [True, 3, \"world\"], 8)\n",
    "print(tupla2[0])\n",
    "print(tupla2[-1])"
   ]
  },
  {
   "cell_type": "code",
   "execution_count": 23,
   "id": "9dfa2d52-ee5b-4059-84f8-1d4f0c3fe4a2",
   "metadata": {},
   "outputs": [
    {
     "name": "stdout",
     "output_type": "stream",
     "text": [
      "('Hello', 4.5, [True, 3, 'world'], 8, 'Roosted')\n"
     ]
    }
   ],
   "source": [
    "tupla3 = (\"Roosted\",)\n",
    "\n",
    "tupla4 = tupla2 + tupla3\n",
    "print(tupla4)"
   ]
  },
  {
   "cell_type": "code",
   "execution_count": 24,
   "id": "f78f1fdb-4bd7-4f15-8f42-2601c04523a4",
   "metadata": {},
   "outputs": [
    {
     "name": "stdout",
     "output_type": "stream",
     "text": [
      "('Hello', 4.5, [True, 3, 'world'], 8)\n"
     ]
    }
   ],
   "source": [
    "tupla5 = tupla2\n",
    "\n",
    "print(tupla5)"
   ]
  },
  {
   "cell_type": "code",
   "execution_count": 25,
   "id": "95b0af67-5906-4c40-a4e8-84c3b51160be",
   "metadata": {},
   "outputs": [
    {
     "data": {
      "text/plain": [
       "['Hello', 4.5, [True, 3, 'world'], 8]"
      ]
     },
     "execution_count": 25,
     "metadata": {},
     "output_type": "execute_result"
    }
   ],
   "source": [
    "list(tupla5)"
   ]
  },
  {
   "cell_type": "markdown",
   "id": "016f3458",
   "metadata": {},
   "source": [
    "#### Exercise 15.\n",
    "Count the unique elements from the following list:\n",
    "```python\n",
    "l = list(\"ahjhsfyajkasbiuashasbuasgbfsakyuasbdiaqwonvbythfppivbad\")\n",
    "```\n",
    "Hint: use `len()`"
   ]
  },
  {
   "cell_type": "code",
   "execution_count": 26,
   "id": "4510c92f-8286-4c5c-85b3-aade3590d7ff",
   "metadata": {},
   "outputs": [
    {
     "data": {
      "text/plain": [
       "19"
      ]
     },
     "execution_count": 26,
     "metadata": {},
     "output_type": "execute_result"
    }
   ],
   "source": [
    "l = list(\"ahjhsfyajkasbiuashasbuasgbfsakyuasbdiaqwonvbythfppivbad\")\n",
    "\n",
    "len(set(l))"
   ]
  },
  {
   "cell_type": "markdown",
   "id": "27a584f2",
   "metadata": {},
   "source": [
    "#### Exercise 16.\n",
    "Create a dictionary that maps a number with its corresponding month name."
   ]
  },
  {
   "cell_type": "code",
   "execution_count": 27,
   "id": "edb55d20-0035-4fb0-8ec5-ba4fb79ae4f8",
   "metadata": {},
   "outputs": [
    {
     "name": "stdout",
     "output_type": "stream",
     "text": [
      "{1: 'Enero', 2: 'Febrero', 3: 'Marzo', 4: 'Abril', 5: 'Mayo', 6: 'Junio', 7: 'Julio', 8: 'Agosto', 9: 'Septiembre', 10: 'Octubre', 11: 'Noviembre', 12: 'Diciembre'}\n"
     ]
    }
   ],
   "source": [
    "dict_mes = {1: \"Enero\",  \n",
    "            2: \"Febrero\",  \n",
    "            3: \"Marzo\", \n",
    "            4: \"Abril\",  \n",
    "            5: \"Mayo\",  \n",
    "            6: \"Junio\",  \n",
    "            7: \"Julio\",  \n",
    "            8: \"Agosto\",  \n",
    "            9: \"Septiembre\",  \n",
    "            10: \"Octubre\",  \n",
    "            11: \"Noviembre\",  \n",
    "            12: \"Diciembre\"}\n",
    "\n",
    "print(dict_mes)"
   ]
  },
  {
   "cell_type": "markdown",
   "id": "c06e8c87",
   "metadata": {},
   "source": [
    "#### Exercise 17.\n",
    "Create two list of the same length and then create a list of tuples with the previous lists.\n",
    "\n",
    "Hint: `zip()`"
   ]
  },
  {
   "cell_type": "code",
   "execution_count": 28,
   "id": "e4b18c36-4d2e-4a76-9390-20bfcc6d376d",
   "metadata": {},
   "outputs": [
    {
     "name": "stdout",
     "output_type": "stream",
     "text": [
      "[(1, 2, 3, 4, 5), (6, 7, 8, 9, 10)]\n"
     ]
    }
   ],
   "source": [
    "lista1 = [1, 2, 3, 4, 5]\n",
    "lista2 = [6, 7, 8, 9, 10]\n",
    "\n",
    "tupla1 = tuple(lista1)\n",
    "tupla2 = tuple(lista2)\n",
    "\n",
    "lista3 = [tupla1, tupla2]\n",
    "print(lista3)"
   ]
  },
  {
   "cell_type": "code",
   "execution_count": 29,
   "id": "1f2359f7-d814-461a-bd11-09a73cba5c52",
   "metadata": {},
   "outputs": [
    {
     "data": {
      "text/plain": [
       "[(1, 6), (2, 7), (3, 8), (4, 9), (5, 10)]"
      ]
     },
     "execution_count": 29,
     "metadata": {},
     "output_type": "execute_result"
    }
   ],
   "source": [
    "list(zip(lista1, lista2))"
   ]
  },
  {
   "cell_type": "markdown",
   "id": "b79cf020",
   "metadata": {},
   "source": [
    "#### Exercise 18.\n",
    "Given the following sets\n",
    "```python\n",
    "first_set  = {57, 83, 29}\n",
    "second_set = {57, 83, 29, 67, 73, 43, 48}\n",
    "```\n",
    "Check if the first one is a subset of the second one"
   ]
  },
  {
   "cell_type": "code",
   "execution_count": 30,
   "id": "5d97ed0f-947e-4392-9bf7-ef8b7c8efa5f",
   "metadata": {},
   "outputs": [
    {
     "data": {
      "text/plain": [
       "{29, 43, 48, 57, 67, 73, 83}"
      ]
     },
     "execution_count": 30,
     "metadata": {},
     "output_type": "execute_result"
    }
   ],
   "source": [
    "first_set  = {57, 83, 29}\n",
    "second_set = {57, 83, 29, 67, 73, 43, 48}\n",
    "\n",
    "first_set.union(second_set)\n"
   ]
  },
  {
   "cell_type": "code",
   "execution_count": 31,
   "id": "19ae433b-b4f5-4474-8ef3-f06483a47f19",
   "metadata": {},
   "outputs": [
    {
     "data": {
      "text/plain": [
       "True"
      ]
     },
     "execution_count": 31,
     "metadata": {},
     "output_type": "execute_result"
    }
   ],
   "source": [
    "first_set.issubset(second_set)"
   ]
  },
  {
   "cell_type": "code",
   "execution_count": 32,
   "id": "b3250428-ecdd-4f71-ba21-74cf00047fb7",
   "metadata": {},
   "outputs": [
    {
     "data": {
      "text/plain": [
       "False"
      ]
     },
     "execution_count": 32,
     "metadata": {},
     "output_type": "execute_result"
    }
   ],
   "source": [
    "second_set.issubset(first_set)"
   ]
  },
  {
   "cell_type": "markdown",
   "id": "4f9bdd6f",
   "metadata": {},
   "source": [
    "#### Exercise 19.\n",
    "1. Create a dictionary where its keys are the days of the week (name) and values all set to 0.\n",
    "2. Change the week days for numbers\n",
    "3. Sum the total of the week\n",
    "4. Calculate the mean of the week and the mean of the weekdays.\n",
    "\n",
    "DO NOT HARDCODE NUMBERS LIKE 5 OR 7!"
   ]
  },
  {
   "cell_type": "code",
   "execution_count": 33,
   "id": "728c18c5-8914-4b14-90ef-e311ff44de7d",
   "metadata": {},
   "outputs": [],
   "source": [
    "weeknames = [\"L\", \"M\", \"Mi\", \"J\", \"V\", \"S\", \"D\" ]"
   ]
  },
  {
   "cell_type": "code",
   "execution_count": 34,
   "id": "9b683617-e822-4199-ad75-436c3f05b132",
   "metadata": {},
   "outputs": [
    {
     "data": {
      "text/plain": [
       "{'L': 0, 'M': 0, 'Mi': 0, 'J': 0, 'V': 0, 'S': 0, 'D': 0}"
      ]
     },
     "execution_count": 34,
     "metadata": {},
     "output_type": "execute_result"
    }
   ],
   "source": [
    "weeks = dict.fromkeys(weeknames, 0)\n",
    "weeks"
   ]
  },
  {
   "cell_type": "code",
   "execution_count": 35,
   "id": "9cd2100f-86d9-41e2-8613-c354cc0777b6",
   "metadata": {},
   "outputs": [
    {
     "data": {
      "text/plain": [
       "{'L': 150, 'M': 158, 'Mi': 137, 'J': 172, 'V': 221, 'S': 302, 'D': 369}"
      ]
     },
     "execution_count": 35,
     "metadata": {},
     "output_type": "execute_result"
    }
   ],
   "source": [
    "weeks[\"L\"] = 150\n",
    "weeks[\"M\"] = 158\n",
    "weeks[\"Mi\"] = 137\n",
    "weeks[\"J\"] = 172\n",
    "weeks[\"V\"] = 221\n",
    "weeks[\"S\"] = 302\n",
    "weeks[\"D\"] = 369\n",
    "\n",
    "weeks"
   ]
  },
  {
   "cell_type": "code",
   "execution_count": 36,
   "id": "bda21d20-96be-4ff1-ba8d-cd602b47618b",
   "metadata": {},
   "outputs": [
    {
     "data": {
      "text/plain": [
       "1509"
      ]
     },
     "execution_count": 36,
     "metadata": {},
     "output_type": "execute_result"
    }
   ],
   "source": [
    "suma = sum(weeks.values())\n",
    "suma"
   ]
  },
  {
   "cell_type": "code",
   "execution_count": 37,
   "id": "1a67741d-6f34-4fd2-8473-d0062388dde3",
   "metadata": {},
   "outputs": [
    {
     "data": {
      "text/plain": [
       "215.57142857142858"
      ]
     },
     "execution_count": 37,
     "metadata": {},
     "output_type": "execute_result"
    }
   ],
   "source": [
    "media = suma / len(weeks)\n",
    "media"
   ]
  },
  {
   "cell_type": "code",
   "execution_count": 38,
   "id": "437e6ecd-5f92-4a6b-9a05-03297948e960",
   "metadata": {},
   "outputs": [
    {
     "data": {
      "text/plain": [
       "167.6"
      ]
     },
     "execution_count": 38,
     "metadata": {},
     "output_type": "execute_result"
    }
   ],
   "source": [
    "media_dia = sum(list(weeks.values())[:5]) / len(list(weeks.keys())[:5])\n",
    "media_dia"
   ]
  },
  {
   "cell_type": "code",
   "execution_count": 39,
   "id": "c7147747-6751-440f-9ff7-3b27b8f291ef",
   "metadata": {},
   "outputs": [
    {
     "data": {
      "text/plain": [
       "335.5"
      ]
     },
     "execution_count": 39,
     "metadata": {},
     "output_type": "execute_result"
    }
   ],
   "source": [
    "media_finde = sum(list(weeks.values())[5:7]) / len(list(weeks.keys())[5:7])\n",
    "media_finde"
   ]
  },
  {
   "cell_type": "markdown",
   "id": "c82bd148-aa5d-408a-9f06-fceac0dd94c2",
   "metadata": {},
   "source": [
    "<a id = \"5.\"></a>\n",
    "<a href=\"#IDX\"><p style=\"text-align:right;\" href=\"#IDX\">Back To Index</p></a> \n",
    "## 5. Loops"
   ]
  },
  {
   "cell_type": "markdown",
   "id": "bc34c76d",
   "metadata": {},
   "source": [
    "#### Exercise 20.\n",
    "Write a Python program to insert items into a list in sorted order."
   ]
  },
  {
   "cell_type": "code",
   "execution_count": 40,
   "id": "82bf6f9e-1393-40b0-a513-27fa3a5fbdb6",
   "metadata": {},
   "outputs": [
    {
     "name": "stdout",
     "output_type": "stream",
     "text": [
      "[0, 1, 2, 3, 4, 5, 6, 7, 8]\n"
     ]
    }
   ],
   "source": [
    "lista = []\n",
    "\n",
    "for i in range(0,9):\n",
    "    lista.append(i)\n",
    "\n",
    "print(lista)"
   ]
  },
  {
   "cell_type": "code",
   "execution_count": 41,
   "id": "cded3a42-da0e-4bc6-987e-e2f35ae72551",
   "metadata": {},
   "outputs": [
    {
     "data": {
      "text/plain": [
       "[0, 1, 2, 3, 4, 6, 7, 7, 8]"
      ]
     },
     "execution_count": 41,
     "metadata": {},
     "output_type": "execute_result"
    }
   ],
   "source": [
    "l = sorted([x for x in [1,3,8,4,6,7,7,0,2]])\n",
    "l"
   ]
  },
  {
   "cell_type": "markdown",
   "id": "27120a3d",
   "metadata": {},
   "source": [
    "#### Exercise 21.\n",
    "Using dict comprehension create other dictionary with the 3 first letter of the month name from the previous one"
   ]
  },
  {
   "cell_type": "code",
   "execution_count": 42,
   "id": "83c38f28-73d8-40b8-860a-e4db26476aac",
   "metadata": {},
   "outputs": [],
   "source": [
    "dict_mes = {1: \"Enero\",  \n",
    "            2: \"Febrero\",  \n",
    "            3: \"Marzo\", \n",
    "            4: \"Abril\",  \n",
    "            5: \"Mayo\",  \n",
    "            6: \"Junio\",  \n",
    "            7: \"Julio\",  \n",
    "            8: \"Agosto\",  \n",
    "            9: \"Septiembre\",  \n",
    "            10: \"Octubre\",  \n",
    "            11: \"Noviembre\",  \n",
    "            12: \"Diciembre\"}"
   ]
  },
  {
   "cell_type": "code",
   "execution_count": 43,
   "id": "ee0edfe1-abb2-40c5-b819-5823c0b0400d",
   "metadata": {},
   "outputs": [
    {
     "data": {
      "text/plain": [
       "{1: 'Ene',\n",
       " 2: 'Feb',\n",
       " 3: 'Mar',\n",
       " 4: 'Abr',\n",
       " 5: 'May',\n",
       " 6: 'Jun',\n",
       " 7: 'Jul',\n",
       " 8: 'Ago',\n",
       " 9: 'Sep',\n",
       " 10: 'Oct',\n",
       " 11: 'Nov',\n",
       " 12: 'Dic'}"
      ]
     },
     "execution_count": 43,
     "metadata": {},
     "output_type": "execute_result"
    }
   ],
   "source": [
    "meses = {k: v[0:3] for k, v in dict_mes.items()}\n",
    "meses"
   ]
  },
  {
   "cell_type": "markdown",
   "id": "457b3a76",
   "metadata": {},
   "source": [
    "#### Exercise 22.\n",
    "Write a Python program to find those numbers which are divisible by 7 and multiple of 5, between 1500 and 2700 (both included)"
   ]
  },
  {
   "cell_type": "code",
   "execution_count": 44,
   "id": "6abc7d09-7022-4993-bf2f-98a26047a7ec",
   "metadata": {},
   "outputs": [
    {
     "name": "stdout",
     "output_type": "stream",
     "text": [
      "1505\n",
      "1540\n",
      "1575\n",
      "1610\n",
      "1645\n",
      "1680\n",
      "1715\n",
      "1750\n",
      "1785\n",
      "1820\n",
      "1855\n",
      "1890\n",
      "1925\n",
      "1960\n",
      "1995\n",
      "2030\n",
      "2065\n",
      "2100\n",
      "2135\n",
      "2170\n",
      "2205\n",
      "2240\n",
      "2275\n",
      "2310\n",
      "2345\n",
      "2380\n",
      "2415\n",
      "2450\n",
      "2485\n",
      "2520\n",
      "2555\n",
      "2590\n",
      "2625\n",
      "2660\n",
      "2695\n"
     ]
    }
   ],
   "source": [
    "for i in range(1500, 2701):\n",
    "    if i % 7 == 0 and i % 5 == 0:\n",
    "        print(i)"
   ]
  },
  {
   "cell_type": "code",
   "execution_count": 45,
   "id": "9b055b3e-fa50-46d9-b9b1-81ccb3b6af12",
   "metadata": {},
   "outputs": [
    {
     "data": {
      "text/plain": [
       "[1505,\n",
       " 1540,\n",
       " 1575,\n",
       " 1610,\n",
       " 1645,\n",
       " 1680,\n",
       " 1715,\n",
       " 1750,\n",
       " 1785,\n",
       " 1820,\n",
       " 1855,\n",
       " 1890,\n",
       " 1925,\n",
       " 1960,\n",
       " 1995,\n",
       " 2030,\n",
       " 2065,\n",
       " 2100,\n",
       " 2135,\n",
       " 2170,\n",
       " 2205,\n",
       " 2240,\n",
       " 2275,\n",
       " 2310,\n",
       " 2345,\n",
       " 2380,\n",
       " 2415,\n",
       " 2450,\n",
       " 2485,\n",
       " 2520,\n",
       " 2555,\n",
       " 2590,\n",
       " 2625,\n",
       " 2660,\n",
       " 2695]"
      ]
     },
     "execution_count": 45,
     "metadata": {},
     "output_type": "execute_result"
    }
   ],
   "source": [
    "n = [i for i in range(1500, 2701) if (i % 7 == 0) and (i % 5 == 0)]\n",
    "n"
   ]
  },
  {
   "cell_type": "markdown",
   "id": "1a77abe2",
   "metadata": {},
   "source": [
    "#### Exercise 23.\n",
    "Write a Python program to count the number of even and odd numbers from a series of numbers"
   ]
  },
  {
   "cell_type": "code",
   "execution_count": 46,
   "id": "ba9efbda-4a6f-4e19-91ad-791c3ad56a19",
   "metadata": {},
   "outputs": [
    {
     "name": "stdout",
     "output_type": "stream",
     "text": [
      "[0, 2, 4, 6, 8, 10, 12, 14, 16, 18, 20]\n",
      "[1, 3, 5, 7, 9, 11, 13, 15, 17, 19]\n"
     ]
    }
   ],
   "source": [
    "lista1 = list(range(0,21))\n",
    "list_even = []\n",
    "list_odd = []\n",
    "\n",
    "for i in lista1:\n",
    "    if i % 2 == 0:\n",
    "        list_even.append(i)\n",
    "    elif i % 2 != 0:\n",
    "        list_odd.append(i)\n",
    "        \n",
    "print(list_even)\n",
    "print(list_odd)\n",
    "    "
   ]
  },
  {
   "cell_type": "markdown",
   "id": "e0b0fd57",
   "metadata": {},
   "source": [
    "#### Exercise 24.\n",
    "Write a Python program that prints each item and its corresponding type from the following list.\n",
    "```python\n",
    "Sample List : datalist = [1452, 11.23, 1+2j, True, 'w3resource', (0, -1), [5, 12], {\"class\":'V', \"section\":'A'}]\n",
    "```"
   ]
  },
  {
   "cell_type": "code",
   "execution_count": 47,
   "id": "1bcb75c7-8fee-473e-9cba-255d6bb76dc6",
   "metadata": {},
   "outputs": [
    {
     "name": "stdout",
     "output_type": "stream",
     "text": [
      "1452 <class 'int'>\n",
      "11.23 <class 'float'>\n",
      "(1+2j) <class 'complex'>\n",
      "True <class 'bool'>\n",
      "w3resource <class 'str'>\n",
      "(0, -1) <class 'tuple'>\n",
      "[5, 12] <class 'list'>\n",
      "{'class': 'V', 'section': 'A'} <class 'dict'>\n"
     ]
    }
   ],
   "source": [
    "datalist = [1452, 11.23, 1+2j, True, 'w3resource', (0, -1), [5, 12], {\"class\":'V', \"section\":'A'}]\n",
    "\n",
    "for i in datalist:\n",
    "    print(i,type(i))"
   ]
  },
  {
   "cell_type": "markdown",
   "id": "42546760",
   "metadata": {},
   "source": [
    "#### Exercise 25.\n",
    "Write a Python program that accepts a string and calculate the number of digits and letters."
   ]
  },
  {
   "cell_type": "code",
   "execution_count": 48,
   "id": "4db5bcbe-62a1-4386-b2ab-4d5adf23d2a0",
   "metadata": {},
   "outputs": [
    {
     "name": "stdout",
     "output_type": "stream",
     "text": [
      "36\n",
      "1\n"
     ]
    }
   ],
   "source": [
    "string = \"A quien madruga patada en los cojones 3 veces\"\n",
    "\n",
    "letters = 0\n",
    "numbers = 0\n",
    "\n",
    "for i in string:\n",
    "    if i.isdigit():\n",
    "        numbers += 1\n",
    "    elif i.isalpha():\n",
    "        letters += 1\n",
    "    else:\n",
    "        continue\n",
    "        \n",
    "print(letters)\n",
    "print(numbers)"
   ]
  },
  {
   "cell_type": "markdown",
   "id": "96b9b6e4",
   "metadata": {},
   "source": [
    "#### Exercise 26.\n",
    "Write a Python program to check the validity of password input by users. Validation:\n",
    "\n",
    "- At least 1 letter between [a-z] and 1 letter between [A-Z].\n",
    "- At least 1 number between [0-9].\n",
    "- At least 1 character from [$#@].\n",
    "- Minimum length 6 characters.\n",
    "- Maximum length 16 characters."
   ]
  },
  {
   "cell_type": "code",
   "execution_count": 49,
   "id": "b1c5d7c7-d317-4bf4-9780-c824f400ca8b",
   "metadata": {},
   "outputs": [
    {
     "name": "stdin",
     "output_type": "stream",
     "text": [
      "Enter pasword:  MaLAkIaS54@\n"
     ]
    },
    {
     "name": "stdout",
     "output_type": "stream",
     "text": [
      "True\n"
     ]
    }
   ],
   "source": [
    "user = input(\"Enter pasword: \")\n",
    "\n",
    "abc = \"abcdefghijklmnopqrstuvwxyz\"\n",
    "numbers = \"0123456789\"\n",
    "conditions = [abc, abc.upper(), numbers, \"$#@\"]\n",
    "check = False\n",
    "\n",
    "if (len(user) >= 6 and (len(user)) <= 16):\n",
    "    for cond in conditions:\n",
    "        for c in cond:\n",
    "            if c in user:\n",
    "                check = True\n",
    "                break\n",
    "            else:\n",
    "                check = False\n",
    "                continue\n",
    "                \n",
    "    if not check:\n",
    "        print(f\"Pasword bad former, al least one of {' '.join(cond)}.\")\n",
    "        \n",
    "        \n",
    "else:\n",
    "    print(f\"Password bad, leght must be between 6 and 16 characters\")\n",
    "        \n",
    "print(check)"
   ]
  },
  {
   "cell_type": "markdown",
   "id": "c11dcb68",
   "metadata": {},
   "source": [
    "#### Exercise 27.\n",
    "Write a Python program to create the multiplication table (from 1 to 10) of a number."
   ]
  },
  {
   "cell_type": "code",
   "execution_count": 50,
   "id": "595a1156-f1d5-4711-be3e-4ce219d4ab13",
   "metadata": {},
   "outputs": [
    {
     "name": "stdout",
     "output_type": "stream",
     "text": [
      "5\n",
      "10\n",
      "15\n",
      "20\n",
      "25\n",
      "30\n",
      "35\n",
      "40\n",
      "45\n",
      "50\n"
     ]
    }
   ],
   "source": [
    "c = 5\n",
    "\n",
    "for i in range(1,11):\n",
    "    print(i * c)\n",
    "    "
   ]
  },
  {
   "cell_type": "markdown",
   "id": "57210090",
   "metadata": {},
   "source": [
    "#### Exercise 28.\n",
    "Using list comprehension create a list of prime numbers less than 1000."
   ]
  },
  {
   "cell_type": "code",
   "execution_count": 51,
   "id": "da81cb95-e374-4a78-90f1-49892b413840",
   "metadata": {},
   "outputs": [
    {
     "name": "stdout",
     "output_type": "stream",
     "text": [
      "[1, 11, 13, 17, 19, 23, 29, 31, 37, 41, 43, 47, 53, 59, 61, 67, 71, 73, 79, 83, 89, 97, 101, 103, 107, 109, 113, 121, 127, 131, 137, 139, 143, 149, 151, 157, 163, 167, 169, 173, 179, 181, 187, 191, 193, 197, 199, 209, 211, 221, 223, 227, 229, 233, 239, 241, 247, 251, 253, 257, 263, 269, 271, 277, 281, 283, 289, 293, 299, 307, 311, 313, 317, 319, 323, 331, 337, 341, 347, 349, 353, 359, 361, 367, 373, 377, 379, 383, 389, 391, 397, 401, 403, 407, 409, 419, 421, 431, 433, 437, 439, 443, 449, 451, 457, 461, 463, 467, 473, 479, 481, 487, 491, 493, 499, 503, 509, 517, 521, 523, 527, 529, 533, 541, 547, 551, 557, 559, 563, 569, 571, 577, 583, 587, 589, 593, 599, 601, 607, 611, 613, 617, 619, 629, 631, 641, 643, 647, 649, 653, 659, 661, 667, 671, 673, 677, 683, 689, 691, 697, 701, 703, 709, 713, 719, 727, 731, 733, 737, 739, 743, 751, 757, 761, 767, 769, 773, 779, 781, 787, 793, 797, 799, 803, 809, 811, 817, 821, 823, 827, 829, 839, 841, 851, 853, 857, 859, 863, 869, 871, 877, 881, 883, 887, 893, 899, 901, 907, 911, 913, 919, 923, 929, 937, 941, 943, 947, 949, 953, 961, 967, 971, 977, 979, 983, 989, 991, 997]\n"
     ]
    }
   ],
   "source": [
    "prime = []\n",
    "\n",
    "for i in range(1001):\n",
    "    if i <= 2:\n",
    "        prime.append(i) if i % 2 != 0 else None\n",
    "    elif i <= 3:\n",
    "        prime.append(i) if i % 3 != 0 else None\n",
    "    elif i <= 5:\n",
    "        prime.append(i) if i % 5 != 0 and i % 2 != 0 else None\n",
    "    else:\n",
    "        prime.append(i) if (i % 7 != 0) and (i % 5 != 0) and (i % 3 != 0) and (i % 2 != 0) else None\n",
    "        \n",
    "print(prime)\n",
    "    \n",
    "    "
   ]
  },
  {
   "cell_type": "markdown",
   "id": "cf9e73fe",
   "metadata": {},
   "source": [
    "#### Exercise 29.\n",
    "Use a dictionary comprehension to count the length of each word in a sentence"
   ]
  },
  {
   "cell_type": "code",
   "execution_count": 52,
   "id": "8c7d8f21-fce2-45b3-aa80-46b6e9956d06",
   "metadata": {},
   "outputs": [
    {
     "name": "stdout",
     "output_type": "stream",
     "text": [
      "{'A': 1, 'quien': 5, 'madruga': 7, 'patada': 6, 'en': 2, 'los': 3, 'cojones': 7}\n"
     ]
    }
   ],
   "source": [
    "string = \"A quien madruga patada en los cojones\"\n",
    "\n",
    "d = {k: len(k) for k in string.split(\" \")}\n",
    "print(d)"
   ]
  },
  {
   "cell_type": "markdown",
   "id": "21aa90fa",
   "metadata": {},
   "source": [
    "#### Exercise 30.\n",
    "Find all of the words in a string that are less than 5 letters"
   ]
  },
  {
   "cell_type": "code",
   "execution_count": 53,
   "id": "0f0c8f33-0484-4ae0-bdfc-00a8f66d37b7",
   "metadata": {},
   "outputs": [
    {
     "data": {
      "text/plain": [
       "['A', 'en', 'los']"
      ]
     },
     "execution_count": 53,
     "metadata": {},
     "output_type": "execute_result"
    }
   ],
   "source": [
    "less5 = [s for s in string.split(\" \") if len(s) < 5]\n",
    "\n",
    "less5"
   ]
  },
  {
   "cell_type": "markdown",
   "id": "1b610764-75ca-41ba-83b9-a31c74d6572a",
   "metadata": {},
   "source": [
    "<a id = \"6.\"></a>\n",
    "<a href=\"#IDX\"><p style=\"text-align:right;\" href=\"#IDX\">Back To Index</p></a> \n",
    "## 6. Functions (I)"
   ]
  },
  {
   "cell_type": "markdown",
   "id": "cfd15216",
   "metadata": {},
   "source": [
    "#### Exercise 31.\n",
    "Create a function that given a year returns you a True if is a leap year\n",
    "[Hint](https://docs.microsoft.com/en-us/office/troubleshoot/excel/determine-a-leap-year)"
   ]
  },
  {
   "cell_type": "code",
   "execution_count": 54,
   "id": "107881ac-1e5c-40ff-b88f-ce32a66958d1",
   "metadata": {},
   "outputs": [
    {
     "name": "stdout",
     "output_type": "stream",
     "text": [
      "The year 2016 is a leap year\n"
     ]
    }
   ],
   "source": [
    "def año_bi(año):\n",
    "    if año % 4 != 0:\n",
    "        print(f\"The year {año} is not a leap year\")\n",
    "    elif año % 100 != 0:\n",
    "        print(f\"The year {año} is a leap year\")\n",
    "    elif año % 400 == 0:\n",
    "        print(f\"The year {año} is a leap year\")\n",
    "    elif año % 400 != 0:\n",
    "        print(f\"The year {año} is not a leap year\")\n",
    "         \n",
    "año_bi(2016)"
   ]
  },
  {
   "cell_type": "code",
   "execution_count": 55,
   "id": "89a1c886-8331-492f-82b7-1d095d12d255",
   "metadata": {},
   "outputs": [
    {
     "data": {
      "text/plain": [
       "True"
      ]
     },
     "execution_count": 55,
     "metadata": {},
     "output_type": "execute_result"
    }
   ],
   "source": [
    "def year_type(year):\n",
    "    if year % 4 == 0:\n",
    "        if year % 100 == 0:\n",
    "            if year % 400 == 0:\n",
    "                return True\n",
    "            else:\n",
    "                return False\n",
    "        else:\n",
    "            return True\n",
    "    else:\n",
    "        return False\n",
    "   \n",
    "year_type(2016)"
   ]
  },
  {
   "cell_type": "code",
   "execution_count": 56,
   "id": "0eb191d4-3c95-4cee-a96b-503621f3f4b5",
   "metadata": {},
   "outputs": [
    {
     "data": {
      "text/plain": [
       "True"
      ]
     },
     "execution_count": 56,
     "metadata": {},
     "output_type": "execute_result"
    }
   ],
   "source": [
    "def is_leap(year):\n",
    "    if not year % 4:\n",
    "        if not year % 100:\n",
    "            if not year % 400:\n",
    "                return True\n",
    "            else:\n",
    "                return False\n",
    "        else:\n",
    "            return True\n",
    "    else:\n",
    "        return False\n",
    "    \n",
    "is_leap(2016)"
   ]
  },
  {
   "cell_type": "markdown",
   "id": "500d5ea0",
   "metadata": {},
   "source": [
    "#### Exercise 32.\n",
    "Given a sentence count the number of times that a word appears in the sentence."
   ]
  },
  {
   "cell_type": "code",
   "execution_count": 57,
   "id": "eb843b18-ed2c-436b-a2c9-abb148e935e5",
   "metadata": {},
   "outputs": [
    {
     "data": {
      "text/plain": [
       "3"
      ]
     },
     "execution_count": 57,
     "metadata": {},
     "output_type": "execute_result"
    }
   ],
   "source": [
    "def palabra(sentence, word):\n",
    "    c = 0\n",
    "    for i in sentence.split():\n",
    "        if i == word:\n",
    "            c += 1\n",
    "    return c\n",
    "\n",
    "palabra(\"En un lugar de la Mancha de cuyo nombre salen exploradores de sitios\", \"de\")"
   ]
  },
  {
   "cell_type": "code",
   "execution_count": 58,
   "id": "cbfa47b9-90a9-48bd-8fe3-b10d5475cea4",
   "metadata": {},
   "outputs": [
    {
     "data": {
      "text/plain": [
       "3"
      ]
     },
     "execution_count": 58,
     "metadata": {},
     "output_type": "execute_result"
    }
   ],
   "source": [
    "def contador(texto,letra):\n",
    "    texto = texto.lower()\n",
    "    return texto.count(letra.lower())\n",
    "\n",
    "palabra(\"En un lugar de la Mancha de cuyo nombre salen exploradores de sitios\", \"de\")"
   ]
  },
  {
   "cell_type": "code",
   "execution_count": 59,
   "id": "ddb65043-2907-4ef4-a4a8-999859ebbbe5",
   "metadata": {},
   "outputs": [
    {
     "name": "stdout",
     "output_type": "stream",
     "text": [
      "las veces que aparece la palabra diga son 2\n"
     ]
    }
   ],
   "source": [
    "def sentence(a, b):\n",
    "    c = a.count(b)\n",
    "    return print(f\"las veces que aparece la palabra {b} son {c}\")\n",
    "\n",
    "sentence(\"Señor Paco diga que diga lo que quiera\", \"diga\")"
   ]
  },
  {
   "cell_type": "markdown",
   "id": "53585a5e",
   "metadata": {},
   "source": [
    "#### Exercise 33.\n",
    "Create a function to calculate income/spending between two list with the same length and return a new list with the results. I case there was any problem use try/except statements."
   ]
  },
  {
   "cell_type": "code",
   "execution_count": 60,
   "id": "1603a31d-e405-4fb3-8524-876fbc67b8bc",
   "metadata": {},
   "outputs": [
    {
     "data": {
      "text/plain": [
       "[2.398425196850394,\n",
       " 1.8638968481375358,\n",
       " 'Is not posible',\n",
       " 'Error',\n",
       " 3.1121495327102804]"
      ]
     },
     "execution_count": 60,
     "metadata": {},
     "output_type": "execute_result"
    }
   ],
   "source": [
    "income = [1523, 1301, 1845, \"---\", 999]\n",
    "spending = [635, 698, 0, 425, 321]\n",
    "inc_spend = []\n",
    "\n",
    "\n",
    "def calculate():     ##### HACER FUNCION CON ARGUMENTOS\n",
    "    \n",
    "    for i in range(len(income)):\n",
    "        \n",
    "        try:\n",
    "            inc_spend.append(income[i]/spending[i])\n",
    "            \n",
    "        except ZeroDivisionError:\n",
    "            inc_spend.append(\"Is not posible\")\n",
    "            \n",
    "        except TypeError:\n",
    "            inc_spend.append(\"Error\")\n",
    "            \n",
    "    return inc_spend\n",
    "            \n",
    "            \n",
    "calculate()"
   ]
  },
  {
   "cell_type": "code",
   "execution_count": 61,
   "id": "0ae174df-dcba-4871-a044-cf3da41fd40f",
   "metadata": {},
   "outputs": [
    {
     "data": {
      "text/plain": [
       "[-1, -3, 1]"
      ]
     },
     "execution_count": 61,
     "metadata": {},
     "output_type": "execute_result"
    }
   ],
   "source": [
    "def ing_gas_(ing, gas):\n",
    "    long_lista = len(ing)\n",
    "    lista_result = []\n",
    "    for i in range(0, long_lista):\n",
    "        lista_result.append(ing[i] - gas[i])\n",
    "    return lista_result\n",
    "ing = [0, 1, 2]\n",
    "gas = [1, 4, 1]\n",
    "ing_gas_(ing, gas)"
   ]
  },
  {
   "cell_type": "code",
   "execution_count": 62,
   "id": "4b9e9257-8954-44e3-a9bb-9634c3b409e2",
   "metadata": {},
   "outputs": [
    {
     "data": {
      "text/plain": [
       "[0.0, 0.25, 2.0]"
      ]
     },
     "execution_count": 62,
     "metadata": {},
     "output_type": "execute_result"
    }
   ],
   "source": [
    "def profit(l1, l2):\n",
    "    l3 = []\n",
    "    for a, b in zip(l1,l2):\n",
    "        try:\n",
    "            l3.append(a/b)\n",
    "        except Exception as e:\n",
    "            print(e)\n",
    "            l3.append(\"NAN\")\n",
    "    return l3\n",
    "    \n",
    "profit(ing, gas)"
   ]
  },
  {
   "cell_type": "markdown",
   "id": "5d9cb622",
   "metadata": {},
   "source": [
    "#### Exercise 34.\n",
    "1. A function to calculate square/rectangle area.\n",
    "2. A function to calculate triangle area.\n",
    "3. A function to calculate sphere area."
   ]
  },
  {
   "cell_type": "code",
   "execution_count": 63,
   "id": "44ae03ab-1400-4060-a543-dc771c86ef57",
   "metadata": {},
   "outputs": [],
   "source": [
    "import math\n",
    "\n",
    "\n",
    "def square(base, altura):\n",
    "    a_sq = base * altura\n",
    "    return a_sq\n",
    "\n",
    "def triangle(base, altura):\n",
    "    a_st = square(base, altura) / 2\n",
    "    return a_st\n",
    "\n",
    "def sphere(radio):\n",
    "    a_sp = math.pi * radio**2\n",
    "    return a_sp"
   ]
  },
  {
   "cell_type": "code",
   "execution_count": 64,
   "id": "70a72427-8a76-416d-9fb7-0b95c435bf13",
   "metadata": {},
   "outputs": [
    {
     "data": {
      "text/plain": [
       "15"
      ]
     },
     "execution_count": 64,
     "metadata": {},
     "output_type": "execute_result"
    }
   ],
   "source": [
    "square(5, 3)"
   ]
  },
  {
   "cell_type": "code",
   "execution_count": 65,
   "id": "66fe6aa3-27b0-4700-a632-64ef3c393218",
   "metadata": {},
   "outputs": [
    {
     "data": {
      "text/plain": [
       "5.0"
      ]
     },
     "execution_count": 65,
     "metadata": {},
     "output_type": "execute_result"
    }
   ],
   "source": [
    "triangle(5, 2)"
   ]
  },
  {
   "cell_type": "code",
   "execution_count": 66,
   "id": "c8c6b47c-fe83-488d-a2f9-33d54f07ee05",
   "metadata": {},
   "outputs": [
    {
     "data": {
      "text/plain": [
       "113.09733552923255"
      ]
     },
     "execution_count": 66,
     "metadata": {},
     "output_type": "execute_result"
    }
   ],
   "source": [
    "sphere(6)"
   ]
  },
  {
   "cell_type": "markdown",
   "id": "4474c464",
   "metadata": {},
   "source": [
    "#### Exercise 35.\n",
    "Write a function called return_day. This function takes in one parameter (a number from 1-7) and returns the day of the week (1 is Sunday, 2 is Monday etc.). If the number is less than 1 or greater than 7, the function should return None."
   ]
  },
  {
   "cell_type": "code",
   "execution_count": 67,
   "id": "d2d582d0-133c-474e-b36b-ddba93bd01b8",
   "metadata": {},
   "outputs": [
    {
     "name": "stdout",
     "output_type": "stream",
     "text": [
      "Friday\n"
     ]
    }
   ],
   "source": [
    "def return_day(day):\n",
    "    if day == 1:\n",
    "        return \"Sunday\"  \n",
    "    \n",
    "    elif day == 2:\n",
    "        return \"Monday\"\n",
    "    \n",
    "    elif day == 3:\n",
    "        return \"Tuesday\"\n",
    "    \n",
    "    elif day == 4:\n",
    "        return \"Wednesday\"\n",
    "    \n",
    "    elif day == 5:\n",
    "        return \"Thursday\"\n",
    "    \n",
    "    elif day == 6:\n",
    "        return \"Friday\"\n",
    "    \n",
    "    elif day == 7:\n",
    "        return \"Saturday\"\n",
    "    \n",
    "    else:\n",
    "        return None\n",
    "    \n",
    "\n",
    "print(return_day(6))"
   ]
  },
  {
   "cell_type": "code",
   "execution_count": null,
   "id": "0f4d0b3f-6a7b-43c3-95d5-4e675d91e972",
   "metadata": {},
   "outputs": [],
   "source": []
  },
  {
   "cell_type": "markdown",
   "id": "e3ec2db4",
   "metadata": {},
   "source": [
    "#### Exercise 36.\n",
    "Write a function called sma (Simple Moving Average) to calculate the moving average of a list given two parameters, a list and the moving window. [Hint](https://www.investopedia.com/terms/s/sma.asp)."
   ]
  },
  {
   "cell_type": "code",
   "execution_count": 68,
   "id": "9f2e201d-bbeb-40a3-976b-043274acdff5",
   "metadata": {},
   "outputs": [
    {
     "data": {
      "text/plain": [
       "[1321.0, 1299.0, 970.6666666666666, 419.3333333333333]"
      ]
     },
     "execution_count": 68,
     "metadata": {},
     "output_type": "execute_result"
    }
   ],
   "source": [
    "def sma(lista, window):\n",
    "    \"\"\"...\"\"\"\n",
    "    length_list = len(lista)\n",
    "    result = []\n",
    "    for _ in range(length_list):\n",
    "        sma_value = sum(lista[::-1][_:_+window]) / window    \n",
    "        result.append(sma_value)\n",
    "    return result\n",
    "\n",
    "sma([1258,1654,985,1324], 3)"
   ]
  },
  {
   "cell_type": "markdown",
   "id": "c491e266",
   "metadata": {},
   "source": [
    "#### Exercise 37.\n",
    "Write a function called ema (Exponential Moving Average) to calculate it as the previous exercises. [Hint](https://www.investopedia.com/ask/answers/122314/what-exponential-moving-average-ema-formula-and-how-ema-calculated.asp)."
   ]
  },
  {
   "cell_type": "code",
   "execution_count": 69,
   "id": "0c7338af-d6dd-4246-9600-5ca475257d36",
   "metadata": {},
   "outputs": [
    {
     "ename": "SyntaxError",
     "evalue": "unexpected EOF while parsing (<ipython-input-69-be49f1ef5348>, line 2)",
     "output_type": "error",
     "traceback": [
      "\u001b[1;36m  File \u001b[1;32m\"<ipython-input-69-be49f1ef5348>\"\u001b[1;36m, line \u001b[1;32m2\u001b[0m\n\u001b[1;33m    \u001b[0m\n\u001b[1;37m    ^\u001b[0m\n\u001b[1;31mSyntaxError\u001b[0m\u001b[1;31m:\u001b[0m unexpected EOF while parsing\n"
     ]
    }
   ],
   "source": [
    "def ema(lista, window):\n",
    "    "
   ]
  },
  {
   "cell_type": "code",
   "execution_count": null,
   "id": "9a4a312e-9bfd-49ce-8a52-e2cfd87e999a",
   "metadata": {},
   "outputs": [],
   "source": []
  },
  {
   "cell_type": "markdown",
   "id": "156bcf1c-9f46-40fa-ad3a-c819b29905ca",
   "metadata": {},
   "source": [
    "<a id = \"7.\"></a>\n",
    "<a href=\"#IDX\"><p style=\"text-align:right;\" href=\"#IDX\">Back To Index</p></a> \n",
    "## 7. Modules"
   ]
  },
  {
   "cell_type": "markdown",
   "id": "ad9dd22c",
   "metadata": {},
   "source": [
    "#### Exercise 38.\n",
    "Create a function that return a random number between 1 and given integer."
   ]
  },
  {
   "cell_type": "code",
   "execution_count": 1,
   "id": "fd8ab513-ff0d-40c6-bbbc-de64e858be40",
   "metadata": {},
   "outputs": [
    {
     "name": "stdout",
     "output_type": "stream",
     "text": [
      "Random number return\n"
     ]
    },
    {
     "data": {
      "text/plain": [
       "4"
      ]
     },
     "execution_count": 1,
     "metadata": {},
     "output_type": "execute_result"
    }
   ],
   "source": [
    "import random \n",
    "\n",
    "def retran():\n",
    "    return random.randint(1, 8)\n",
    "\n",
    "print(\"Random number return\")\n",
    "retran()\n",
    "    "
   ]
  },
  {
   "cell_type": "code",
   "execution_count": 2,
   "id": "b106b7a1-bc48-4cfe-8b69-884421b7c6d5",
   "metadata": {},
   "outputs": [
    {
     "data": {
      "text/plain": [
       "2"
      ]
     },
     "execution_count": 2,
     "metadata": {},
     "output_type": "execute_result"
    }
   ],
   "source": [
    "import numpy as np\n",
    "\n",
    "def random_number(n):\n",
    "    return np.random.randint(low=0, high=n+1)\n",
    "\n",
    "random_number(6)"
   ]
  },
  {
   "cell_type": "markdown",
   "id": "d1d960a1",
   "metadata": {},
   "source": [
    "#### Exercise 39.\n",
    "Multiply the following matrixes with matrix mutiplication.\n",
    "```python\n",
    "import numpy as np\n",
    "matrix1 = np.array([[1, 0], [0, -1]])\n",
    "matrix2 = np.array([[3, 2], [1, 1]])\n",
    "```"
   ]
  },
  {
   "cell_type": "code",
   "execution_count": 3,
   "id": "4bdb86b1-a2b4-417b-a892-6fa9f54dc081",
   "metadata": {},
   "outputs": [
    {
     "data": {
      "text/plain": [
       "(array([[ 1,  0],\n",
       "        [ 0, -1]]),\n",
       " array([[3, 2],\n",
       "        [1, 1]]))"
      ]
     },
     "execution_count": 3,
     "metadata": {},
     "output_type": "execute_result"
    }
   ],
   "source": [
    "import numpy as np\n",
    "matrix1 = np.array([[1, 0], [0, -1]])\n",
    "matrix2 = np.array([[3, 2], [1, 1]])\n",
    "\n",
    "matrix1, matrix2"
   ]
  },
  {
   "cell_type": "code",
   "execution_count": 4,
   "id": "7861d05f-c14b-4285-8bcc-3d5f0d9246ff",
   "metadata": {},
   "outputs": [
    {
     "data": {
      "text/plain": [
       "array([[ 3,  2],\n",
       "       [-1, -1]])"
      ]
     },
     "execution_count": 4,
     "metadata": {},
     "output_type": "execute_result"
    }
   ],
   "source": [
    "matrix1.dot(matrix2)"
   ]
  },
  {
   "cell_type": "markdown",
   "id": "ddd3f076",
   "metadata": {},
   "source": [
    "#### Exercise 40.\n",
    "Write a function to select a random element from a given list."
   ]
  },
  {
   "cell_type": "code",
   "execution_count": 5,
   "id": "0cf0f027-14bc-45b1-baf0-dfd126a82802",
   "metadata": {},
   "outputs": [
    {
     "data": {
      "text/plain": [
       "1"
      ]
     },
     "execution_count": 5,
     "metadata": {},
     "output_type": "execute_result"
    }
   ],
   "source": [
    "import random \n",
    "\n",
    "list1 = [1,5,3,9,7,11,6,7]\n",
    "\n",
    "def random_element():\n",
    "    random_index = random.randrange(len(list1))\n",
    "    return list1[random_index]\n",
    "\n",
    "random_element()"
   ]
  },
  {
   "cell_type": "code",
   "execution_count": 8,
   "id": "2baae962-22db-4324-baae-ca71476207c8",
   "metadata": {},
   "outputs": [
    {
     "data": {
      "text/plain": [
       "'si'"
      ]
     },
     "execution_count": 8,
     "metadata": {},
     "output_type": "execute_result"
    }
   ],
   "source": [
    "def sample(x):\n",
    "    return random.choice(x)\n",
    "\n",
    "sample([\"si\",\"no\",\"quizas\"])"
   ]
  },
  {
   "cell_type": "code",
   "execution_count": 11,
   "id": "b1536516-bdad-46cb-a8c4-66a650636f0e",
   "metadata": {},
   "outputs": [
    {
     "data": {
      "text/plain": [
       "'5'"
      ]
     },
     "execution_count": 11,
     "metadata": {},
     "output_type": "execute_result"
    }
   ],
   "source": [
    "sample([str(d) for d in range(1, 7)])"
   ]
  },
  {
   "cell_type": "markdown",
   "id": "5d3e7481-7b54-46aa-80da-a8c51c64fe44",
   "metadata": {},
   "source": [
    "<a id = \"8.\"></a>\n",
    "<a href=\"#IDX\"><p style=\"text-align:right;\" href=\"#IDX\">Back To Index</p></a> \n",
    "## 8. Functions (II)"
   ]
  },
  {
   "cell_type": "markdown",
   "id": "dc62b387",
   "metadata": {},
   "source": [
    "#### Exercise 41.\n",
    "Create an anonymous function to check if a string starts with a given argument."
   ]
  },
  {
   "cell_type": "code",
   "execution_count": 12,
   "id": "173a63df-4b29-4cfa-b9fb-88f86e042a64",
   "metadata": {},
   "outputs": [
    {
     "data": {
      "text/plain": [
       "True"
      ]
     },
     "execution_count": 12,
     "metadata": {},
     "output_type": "execute_result"
    }
   ],
   "source": [
    "result = lambda arg, example: example.startswith(arg)\n",
    "\n",
    "result(\"co\", \"covid sucks!\")"
   ]
  },
  {
   "cell_type": "markdown",
   "id": "6c509216",
   "metadata": {},
   "source": [
    "#### Exercise 42.\n",
    "Write a Python program to find palindromes in a given list of strings using Lambda."
   ]
  },
  {
   "cell_type": "code",
   "execution_count": 13,
   "id": "0d7cba5f-bed8-40c6-b2bf-53748e0d6714",
   "metadata": {},
   "outputs": [
    {
     "data": {
      "text/plain": [
       "['oso', 'ojo', 'radar']"
      ]
     },
     "execution_count": 13,
     "metadata": {},
     "output_type": "execute_result"
    }
   ],
   "source": [
    "lista = [\"oso\", \"ojo\", \"ojeras\",  \"radar\"]\n",
    "\n",
    "list(filter(lambda a: a == a[::-1], lista))\n",
    "   "
   ]
  },
  {
   "cell_type": "markdown",
   "id": "e98e4842-7f5e-4a47-90a9-02a60cad77a0",
   "metadata": {},
   "source": [
    "<a id = \"9.\"></a>\n",
    "<a href=\"#IDX\"><p style=\"text-align:right;\" href=\"#IDX\">Back To Index</p></a> \n",
    "## 9. Classes"
   ]
  },
  {
   "cell_type": "markdown",
   "id": "0f8fb617",
   "metadata": {},
   "source": [
    "#### Exercise 43.\n",
    "Write a Python class named Converter\n",
    "1. Add a method from integer to a roman numeral.\n",
    "2. Add method from roman numeral to integer."
   ]
  },
  {
   "cell_type": "code",
   "execution_count": null,
   "id": "d2b859e0-20b1-4c63-8549-2414166ee786",
   "metadata": {
    "tags": []
   },
   "outputs": [],
   "source": [
    "class Converter:\n",
    "    '''....'''\n",
    "        \n",
    "    def roman_to_int(self, s):\n",
    "        rom_val = {'I': 1, 'V': 5, 'X': 10, 'L': 50, 'C': 100, 'D': 500, 'M': 1000}\n",
    "        int_val = 0\n",
    "        for i in range(len(s)):\n",
    "            if i > 0 and rom_val[s[i]] > rom_val[s[i - 1]]:\n",
    "                int_val += rom_val[s[i]] - 2 * rom_val[s[i - 1]]\n",
    "            else:\n",
    "                int_val += rom_val[s[i]]\n",
    "        return int_val\n",
    "    \n",
    "Converter().roman_to_int(\"XI\")"
   ]
  },
  {
   "cell_type": "code",
   "execution_count": null,
   "id": "969335fb-74fc-49ca-85c3-a4e6f7cb23ef",
   "metadata": {},
   "outputs": [],
   "source": []
  },
  {
   "cell_type": "markdown",
   "id": "c98e7473",
   "metadata": {},
   "source": [
    "#### Exercise 44.\n",
    "Write a Python class which has two methods get_string and print_string. get_string accept a string from the user and print_string print the string in upper case."
   ]
  },
  {
   "cell_type": "code",
   "execution_count": null,
   "id": "10bd868c-de89-491c-ac1f-71b6632c118a",
   "metadata": {},
   "outputs": [],
   "source": [
    "class PyClass:\n",
    "    '''...'''\n",
    "    \n",
    "    def __init__(self):\n",
    "        self.s = \"\"\n",
    "    \n",
    "    def get_str(self, string):\n",
    "        self.s = string\n",
    "    \n",
    "    def print_str(self):\n",
    "        print(self.s.upper())\n",
    "        \n",
    "\n",
    "s = PyClass()\n",
    "s.print_str()\n",
    "        "
   ]
  },
  {
   "cell_type": "markdown",
   "id": "0c5bad6e",
   "metadata": {},
   "source": [
    "#### Exercise 45.\n",
    "Create a Vehicle class with max_speed and mileage instance attributes."
   ]
  },
  {
   "cell_type": "code",
   "execution_count": null,
   "id": "cecb5a29-1f7a-4f3c-80ee-03dd1d5dad11",
   "metadata": {},
   "outputs": [],
   "source": [
    "class Vehicle:\n",
    "    \n",
    "    def __init__(self, max_speed, km):\n",
    "        self.max_speed = 225\n",
    "        self.km = 96000\n",
    "        \n",
    "    \n"
   ]
  },
  {
   "cell_type": "markdown",
   "id": "3ba15d95",
   "metadata": {},
   "source": [
    "#### Exercise 46.\n",
    "Create a child class Bus that will inherit all of the variables and methods of the Vehicle class and display it."
   ]
  },
  {
   "cell_type": "code",
   "execution_count": null,
   "id": "df12e307-db9c-43b8-9b1c-5198a18e9107",
   "metadata": {},
   "outputs": [],
   "source": [
    "class Bus(Vehicle):\n",
    "    \n",
    "    def __init__(self):\n",
    "        super().__init__()\n",
    "        "
   ]
  },
  {
   "cell_type": "markdown",
   "id": "8d367827",
   "metadata": {},
   "source": [
    "#### Exercise 47.\n",
    "Create a Bus class that inherits from the Vehicle class. Give the capacity argument of Bus.seating_capacity() a default value of 50."
   ]
  },
  {
   "cell_type": "code",
   "execution_count": null,
   "id": "bfaf9655-b97e-47b6-a7a4-300c2284c637",
   "metadata": {},
   "outputs": [],
   "source": []
  },
  {
   "cell_type": "markdown",
   "id": "76f2d7c5-d457-43d3-a899-814bde7a8a91",
   "metadata": {},
   "source": [
    "<a id = \"extra\"></a>\n",
    "<a href=\"#IDX\"><p style=\"text-align:right;\" href=\"#IDX\">Back To Index</p></a> \n",
    "## Extra"
   ]
  },
  {
   "cell_type": "markdown",
   "id": "75685af0-48ab-42fa-8aec-77ecc31cb710",
   "metadata": {},
   "source": [
    "Sign in into [Codewars](https://www.codewars.com/) to have a huge amount of different code challenges."
   ]
  }
 ],
 "metadata": {
  "kernelspec": {
   "display_name": "Python 3",
   "language": "python",
   "name": "python3"
  },
  "language_info": {
   "codemirror_mode": {
    "name": "ipython",
    "version": 3
   },
   "file_extension": ".py",
   "mimetype": "text/x-python",
   "name": "python",
   "nbconvert_exporter": "python",
   "pygments_lexer": "ipython3",
   "version": "3.8.8"
  }
 },
 "nbformat": 4,
 "nbformat_minor": 5
}
