{
 "cells": [
  {
   "cell_type": "markdown",
   "id": "c0eb5010",
   "metadata": {},
   "source": [
    "### Exercise 1.\n",
    "Write a function (spin_words) that takes in a string of one or more words, and returns the same string, but with all five or more letter words reversed (like the name of this kata).\n",
    "\n",
    "- Strings passed in will consist of only letters and spaces.\n",
    "- Spaces will be included only when more than one word is present.\n",
    "\n",
    "#### Example\n",
    "```\n",
    "spin_words(\"Hey fellow warriors\") => \"Hey wollef sroirraw\" \n",
    "spin_words(\"This is a test\") => \"This is a test\" \n",
    "spin_words(\"This is another test\") => \"This is rehtona test\"\n",
    "```"
   ]
  },
  {
   "cell_type": "markdown",
   "id": "87304385",
   "metadata": {},
   "source": [
    "### Exercise 2.\n",
    "Some numbers have funny properties. For example:\n",
    "```\n",
    "89 --> 8¹ + 9² = 89 * 1\n",
    "\n",
    "695 --> 6² + 9³ + 5⁴= 1390 = 695 * 2\n",
    "\n",
    "46288 --> 4³ + 6⁴+ 2⁵ + 8⁶ + 8⁷ = 2360688 = 46288 * 51\n",
    "```\n",
    "Given a positive integer n written as abcd... (a, b, c, d... being digits) and a positive integer p\n",
    "\n",
    "we want to find a positive integer k, if it exists, such as the sum of the digits of n taken to the successive powers of p is equal to k * n.\n",
    "In other words:\n",
    "\n",
    "Is there an integer k such as : (a ^ p + b ^ (p+1) + c ^(p+2) + d ^ (p+3) + ...) = n * k\n",
    "\n",
    "If it is the case we will return k, if not return -1.\n",
    "\n",
    "**Note**: n and p will always be given as strictly positive integers.\n",
    "#### Example.\n",
    "```\n",
    "dig_pow(89, 1) should return 1 since 8¹ + 9² = 89 = 89 * 1\n",
    "dig_pow(92, 1) should return -1 since there is no k such as 9¹ + 2² equals 92 * k\n",
    "dig_pow(695, 2) should return 2 since 6² + 9³ + 5⁴= 1390 = 695 * 2\n",
    "dig_pow(46288, 3) should return 51 since 4³ + 6⁴+ 2⁵ + 8⁶ + 8⁷ = 2360688 = 46288 * 51\n",
    "```"
   ]
  },
  {
   "cell_type": "markdown",
   "id": "7ba95475",
   "metadata": {},
   "source": [
    "### Exercise 3.\n",
    "A pangram is a sentence that contains every single letter of the alphabet at least once. For example, the sentence \"The quick brown fox jumps over the lazy dog\" is a pangram, because it uses the letters A-Z at least once (case is irrelevant).\n",
    "\n",
    "Given a string, detect whether or not it is a pangram. Return True if it is, False if not. Ignore numbers and punctuation.\n"
   ]
  },
  {
   "cell_type": "markdown",
   "id": "9fb555aa",
   "metadata": {},
   "source": [
    "### Exercise 4.\n",
    "The marketing team is spending way too much time typing in hashtags.\n",
    "Let's help them with our own Hashtag Generator!\n",
    "\n",
    "Here's the deal:\n",
    "\n",
    "1. It must start with a hashtag (#).\n",
    "2. All words must have their first letter capitalized.\n",
    "3. If the final result is longer than 140 chars it must return false.\n",
    "4. If the input or the result is an empty string it must return false.\n",
    "\n",
    "#### Example\n",
    "```\n",
    "\" Hello there thanks for trying my Kata\"  =>  \"#HelloThereThanksForTryingMyKata\"\n",
    "\"    Hello     World   \"                  =>  \"#HelloWorld\"\n",
    "\"\"                                        =>  false\n",
    "```"
   ]
  },
  {
   "cell_type": "markdown",
   "id": "40d6b2de",
   "metadata": {},
   "source": [
    "### Exercise 5.\n",
    "ROT13 is a simple letter substitution cipher that replaces a letter with the letter 13 letters after it in the alphabet. ROT13 is an example of the Caesar cipher.\n",
    "\n",
    "Create a function that takes a string and returns the string ciphered with Rot13. If there are numbers or special characters included in the string, they should be returned as they are. Only letters from the latin/english alphabet should be shifted, like in the original Rot13 \"implementation\".\n",
    "\n",
    "Please note that using `encode` is considered cheating."
   ]
  },
  {
   "cell_type": "markdown",
   "id": "cba87f20",
   "metadata": {},
   "source": [
    "### Exercise 6.\n",
    "> In computing, a hex dump is a hexadecimal view (on screen or paper) of computer data, from RAM or from a file or storage device. Looking at a hex dump of data is commonly done as a part of debugging, or of reverse engineering. In a hex dump, each byte (8-bits) is represented as a two-digit hexadecimal number. Hex dumps are commonly organized into rows of 8 or 16 bytes, sometimes separated by whitespaces. Some hex dumps have the hexadecimal memory address at the beginning and/or a checksum byte at the end of each line.\n",
    "\n",
    "*(source: https://en.wikipedia.org/wiki/Hex_dump)*\n",
    "\n",
    "Your task is to complete the functions `hexdump` and `dehex`:\n",
    "\n",
    "`hexdump` takes a binary input (a bytes object) and returns a hex dump (as a string) in the following format:\n",
    "\n",
    "- the memory address displayed as an 8-digit hexadecimal number (starting from `00000000`), followed by a colon (`:`) and a space,\n",
    "- 16 bytes displayed as 2-digit hexadecimal numbers, separated by a space,\n",
    "- two spaces,\n",
    "- the ASCII translation of the bytes if the ASCII values are between 32 and 126 (both included), otherwise a full stop (`.`)\n",
    "**Note**: all hexadecimal values (data and addresses) should be presented in lowercase\n",
    "\n",
    "If the last line is shorter than 16 bytes, then replace the byte values with spaces, but trim the trailing spaces from the end of the line.\n",
    "#### Example\n",
    "```\n",
    "00000000: 1d c4 15 25 91 e6 09 59 04 99 15 29 0a 45 21 29  ...%...Y...).E!)\n",
    "00000010: 26 8e 74 a0 1a be 75 68 06 dd 70 33 a4 77 7a 5d  &.t...uh..p3.wz]\n",
    "00000020: b1 ba 22 a7 cf cc f7 ef b1 e3 13 ed f1 89 ad ad  ..\".............\n",
    "00000030: b8 2a 52 32 65 79 43 99 6f c8 d3 8e b2 5f 50 c9  .*R2eyC.o...._P.\n",
    "00000040: 08 4a 12 25 79 c2 dd 31 6b b8 77 74 4b 68 4b d4  .J.%y..1k.wtKhK.\n",
    "00000050: db 4e 92 09 d5 4c 9f 0b fd a9 d1                 .N...L.....\n",
    "```\n",
    "`dehex` takes a string input, in the same format as the output described above, and returns binary output.\n",
    "\n",
    "**Note**: all inputs will be valid, so validating it is not necessary."
   ]
  }
 ],
 "metadata": {
  "kernelspec": {
   "display_name": "Python 3",
   "language": "python",
   "name": "python3"
  },
  "language_info": {
   "codemirror_mode": {
    "name": "ipython",
    "version": 3
   },
   "file_extension": ".py",
   "mimetype": "text/x-python",
   "name": "python",
   "nbconvert_exporter": "python",
   "pygments_lexer": "ipython3",
   "version": "3.8.10"
  }
 },
 "nbformat": 4,
 "nbformat_minor": 5
}
