{
 "cells": [
  {
   "cell_type": "markdown",
   "id": "5763bd69-51fd-42cd-9f81-38cb8420de8a",
   "metadata": {},
   "source": [
    "<div style=\"text-align:center\"><img src=\"./images/python_ex.png\" /></div>"
   ]
  },
  {
   "cell_type": "markdown",
   "id": "140e6b38-c694-4a9b-9632-04efd53a14c1",
   "metadata": {},
   "source": [
    "<a href=\"00_cover_page.ipynb\"><p style=\"text-align:right;\" href=\"00_cover_page.ipynb\">Back To Cover Page</p></a> "
   ]
  },
  {
   "cell_type": "markdown",
   "id": "d73153e3-cea6-4b66-b1f2-a55e24abe9c9",
   "metadata": {},
   "source": [
    "<a id = \"IDX\"></a>\n",
    "# Class Exercises\n",
    "##### Index\n",
    "- [2. Variables in Python](#2.)\n",
    "- [3. Conditionals](#3.)\n",
    "- [4. Data Structures](#4.)\n",
    "- [5. Loops](#5.)\n",
    "- [6. Functions (I)](#6.)\n",
    "- [7. Modules](#7.)\n",
    "- [8. Functions (II)](#8.)\n",
    "- [9. Classes](#9.)\n",
    "- [Extra](#extra)"
   ]
  },
  {
   "cell_type": "markdown",
   "id": "2d0d028c-b49f-4148-9af9-e0b7e9bc0ab5",
   "metadata": {},
   "source": [
    "<a id = \"2.\"></a>\n",
    "<a href=\"#IDX\"><p style=\"text-align:right;\" href=\"#IDX\">Back To Index</p></a> \n",
    "## 2. Variables in Python"
   ]
  },
  {
   "cell_type": "markdown",
   "id": "e7313e69",
   "metadata": {},
   "source": [
    "#### Exercise 1.\n",
    "1. Write your address (street) in a variable.\n",
    "2. Write your address (number of building) in a variable.\n",
    "3. Write your address (city) in a variable.\n",
    "4. Write your address (postalcode) in a variable.\n",
    "5. Concatenate the previous variables into another one.\n",
    "6. Print it."
   ]
  },
  {
   "cell_type": "markdown",
   "id": "f0a213b1",
   "metadata": {},
   "source": [
    "#### Exercise 2.\n",
    "\n",
    "Which of the following are bad formed? why? and correct them.\n",
    "```python\n",
    "mi_variable = \"Economía\"\n",
    "otra_var = \"Ejercicio\n",
    "True = \"Ejercicio\"\n",
    "mi variab1e = \"Alpha\"\n",
    "exec = True\n",
    "import = 40\n",
    "81mi_variable = \"Agua\"\n",
    "mi_variable10 = 6\n",
    "```"
   ]
  },
  {
   "cell_type": "markdown",
   "id": "147660ab",
   "metadata": {},
   "source": [
    "#### Exercise 3.\n",
    "Calculate the roots of any ecuation of second order with the following expression \\\\( ax^2 + bx + c = 0 \\\\)"
   ]
  },
  {
   "cell_type": "markdown",
   "id": "487368aa",
   "metadata": {},
   "source": [
    "#### Exercise 4.\n",
    "Create a workflow to calculate from farentheit to celsius"
   ]
  },
  {
   "cell_type": "markdown",
   "id": "f54ad63f",
   "metadata": {},
   "source": [
    "#### Exercise 5.\n",
    "Decompose a division of two numbers in its parts and check that the numerator is calculated with the previous values."
   ]
  },
  {
   "cell_type": "markdown",
   "id": "93defe60",
   "metadata": {},
   "source": [
    "#### Exercise 6.\n",
    "Given any word remove extra whitespaces at the beginning and at the end and uppercase the firts letter of the word."
   ]
  },
  {
   "cell_type": "markdown",
   "id": "71d10274-47fb-4ee0-878c-222c6d75ebb1",
   "metadata": {},
   "source": [
    "<a id = \"3.\"></a>\n",
    "<a href=\"#IDX\"><p style=\"text-align:right;\" href=\"#IDX\">Back To Index</p></a> \n",
    "## 3. Conditionals"
   ]
  },
  {
   "cell_type": "markdown",
   "id": "879e55ba",
   "metadata": {},
   "source": [
    "#### Exercise 7.\n",
    "Given a sentence count the number of times that a word appears in the sentence. Previously checks if the word is in the sentence."
   ]
  },
  {
   "cell_type": "markdown",
   "id": "989d4650",
   "metadata": {},
   "source": [
    "#### Exercise 8.\n",
    "Is the following expression correct? Solve it if it is incorrect.\n",
    "```python\n",
    "var_num = 10\n",
    "if var_num <= 100:\n",
    "    print(f\"{var_num} <= 100\")\n",
    "elif var_num <= 10:\n",
    "    print(f\"{var_num} <= 10\")\n",
    "else:\n",
    "    print(\"Big number!\")\n",
    "```"
   ]
  },
  {
   "cell_type": "markdown",
   "id": "120fa20c",
   "metadata": {},
   "source": [
    "#### Exercise 9.\n",
    "What we will get from the following expressions? Try to gigure it out without execute code.\n",
    "1. True and True and False\n",
    "2. not(not (True or False)) or (True or False)\n",
    "3. (False or True or False or True) or False\n",
    "4. not True and True and True"
   ]
  },
  {
   "cell_type": "markdown",
   "id": "44ccd936",
   "metadata": {},
   "source": [
    "#### Exercise 10.\n",
    "Calculate the IRPF steps [see here](https://www.bankinter.com/blog/finanzas-personales/renta-tramos-irpf) for a given salary."
   ]
  },
  {
   "cell_type": "markdown",
   "id": "f084bf17",
   "metadata": {},
   "source": [
    "#### Exercise 11.\n",
    "Write an if statement that asks for the user's name via variable. If the name is \"Bond\" make it print \"Welcome on board 007.\" Otherwise make it print \"Good morning NAME\". (Replace Name with user's name)"
   ]
  },
  {
   "cell_type": "markdown",
   "id": "d4328348",
   "metadata": {},
   "source": [
    "#### Exercise 12.\n",
    "A school has following rules for grading system:\n",
    "1. Below 25 - F\n",
    "2. 25 to 45 - E\n",
    "3. 45 to 50 - D\n",
    "4. 50 to 60 - C\n",
    "5. 60 to 80 - B\n",
    "6. Above 80 - A\n",
    "\n",
    "\n",
    "Ask user to enter marks and print the corresponding grade (via variable)."
   ]
  },
  {
   "cell_type": "markdown",
   "id": "db5d961a",
   "metadata": {},
   "source": [
    "#### Exercies 13.\n",
    "Take values of length and breadth of a rectangle from user and check if it is square or not."
   ]
  },
  {
   "cell_type": "markdown",
   "id": "bb5537f6-129e-4c31-94e8-e26a4193e47a",
   "metadata": {},
   "source": [
    "<a id = \"4.\"></a>\n",
    "<a href=\"#IDX\"><p style=\"text-align:right;\" href=\"#IDX\">Back To Index</p></a> \n",
    "## 4. Data Structures"
   ]
  },
  {
   "cell_type": "markdown",
   "id": "769b600e",
   "metadata": {},
   "source": [
    "#### Exercise 14.\n",
    "1. Create a tuple with 3 elements\n",
    "2. Create a tuple with one element and check its type\n",
    "3. Create a tuple with elements of different types\n",
    "4. Print first and last element from previous tuple.\n",
    "5. Add one more element.\n",
    "6. Delete one element in a tuple.\n",
    "7. Transform the tuple into a list"
   ]
  },
  {
   "cell_type": "markdown",
   "id": "016f3458",
   "metadata": {},
   "source": [
    "#### Exercise 15.\n",
    "Count the unique elements from the following list:\n",
    "```python\n",
    "l = list(\"ahjhsfyajkasbiuashasbuasgbfsakyuasbdiaqwonvbythfppivbad\")\n",
    "```\n",
    "Hint: use `len()`"
   ]
  },
  {
   "cell_type": "markdown",
   "id": "27a584f2",
   "metadata": {},
   "source": [
    "#### Exercise 16.\n",
    "Create a dictionary that maps a number with its corresponding month name."
   ]
  },
  {
   "cell_type": "markdown",
   "id": "c06e8c87",
   "metadata": {},
   "source": [
    "#### Exercise 17.\n",
    "Create two list of the same length and then create a list of tuples with the previous lists.\n",
    "\n",
    "Hint: `zip()`"
   ]
  },
  {
   "cell_type": "markdown",
   "id": "b79cf020",
   "metadata": {},
   "source": [
    "#### Exercise 18.\n",
    "Given the following sets\n",
    "```python\n",
    "first_set  = {57, 83, 29}\n",
    "second_set = {57, 83, 29, 67, 73, 43, 48}\n",
    "```\n",
    "Check if the first one is a subset of the second one"
   ]
  },
  {
   "cell_type": "markdown",
   "id": "4f9bdd6f",
   "metadata": {},
   "source": [
    "#### Exercise 19.\n",
    "1. Create a dictionary where its keys are the days of the week (name) and values all set to 0.\n",
    "2. Change the week days for numbers\n",
    "3. Sum the total of the week\n",
    "4. Calculate the mean of the week and the mean of the weekdays.\n",
    "\n",
    "DO NOT HARDCODE NUMBERS LIKE 5 OR 7!"
   ]
  },
  {
   "cell_type": "markdown",
   "id": "c82bd148-aa5d-408a-9f06-fceac0dd94c2",
   "metadata": {},
   "source": [
    "<a id = \"5.\"></a>\n",
    "<a href=\"#IDX\"><p style=\"text-align:right;\" href=\"#IDX\">Back To Index</p></a> \n",
    "## 5. Loops"
   ]
  },
  {
   "cell_type": "markdown",
   "id": "bc34c76d",
   "metadata": {},
   "source": [
    "#### Exercise 20.\n",
    "Write a Python program to insert items into a list in sorted order."
   ]
  },
  {
   "cell_type": "markdown",
   "id": "27120a3d",
   "metadata": {},
   "source": [
    "#### Exercise 21.\n",
    "Using dict comprehension create other dictionary with the 3 first letter of the month name from the previous one"
   ]
  },
  {
   "cell_type": "markdown",
   "id": "457b3a76",
   "metadata": {},
   "source": [
    "#### Exercise 22.\n",
    "Write a Python program to find those numbers which are divisible by 7 and multiple of 5, between 1500 and 2700 (both included)"
   ]
  },
  {
   "cell_type": "markdown",
   "id": "1a77abe2",
   "metadata": {},
   "source": [
    "#### Exercise 23.\n",
    "Write a Python program to count the number of even and odd numbers from a series of numbers"
   ]
  },
  {
   "cell_type": "markdown",
   "id": "e0b0fd57",
   "metadata": {},
   "source": [
    "#### Exercise 24.\n",
    "Write a Python program that prints each item and its corresponding type from the following list.\n",
    "```python\n",
    "Sample List : datalist = [1452, 11.23, 1+2j, True, 'w3resource', (0, -1), [5, 12], {\"class\":'V', \"section\":'A'}]\n",
    "```"
   ]
  },
  {
   "cell_type": "markdown",
   "id": "42546760",
   "metadata": {},
   "source": [
    "#### Exercise 25.\n",
    "Write a Python program that accepts a string and calculate the number of digits and letters."
   ]
  },
  {
   "cell_type": "markdown",
   "id": "96b9b6e4",
   "metadata": {},
   "source": [
    "#### Exercise 26.\n",
    "Write a Python program to check the validity of password input by users. Validation:\n",
    "\n",
    "- At least 1 letter between [a-z] and 1 letter between [A-Z].\n",
    "- At least 1 number between [0-9].\n",
    "- At least 1 character from [$#@].\n",
    "- Minimum length 6 characters.\n",
    "- Maximum length 16 characters."
   ]
  },
  {
   "cell_type": "markdown",
   "id": "c11dcb68",
   "metadata": {},
   "source": [
    "#### Exercise 27.\n",
    "Write a Python program to create the multiplication table (from 1 to 10) of a number."
   ]
  },
  {
   "cell_type": "markdown",
   "id": "57210090",
   "metadata": {},
   "source": [
    "#### Exercise 28.\n",
    "Using list comprehension create a list of prime numbers less than 1000."
   ]
  },
  {
   "cell_type": "markdown",
   "id": "cf9e73fe",
   "metadata": {},
   "source": [
    "#### Exercise 29.\n",
    "Use a dictionary comprehension to count the length of each word in a sentence"
   ]
  },
  {
   "cell_type": "markdown",
   "id": "21aa90fa",
   "metadata": {},
   "source": [
    "#### Exercise 30.\n",
    "Find all of the words in a string that are less than 5 letters"
   ]
  },
  {
   "cell_type": "markdown",
   "id": "1b610764-75ca-41ba-83b9-a31c74d6572a",
   "metadata": {},
   "source": [
    "<a id = \"6.\"></a>\n",
    "<a href=\"#IDX\"><p style=\"text-align:right;\" href=\"#IDX\">Back To Index</p></a> \n",
    "## 6. Functions (I)"
   ]
  },
  {
   "cell_type": "markdown",
   "id": "cfd15216",
   "metadata": {},
   "source": [
    "#### Exercise 31.\n",
    "Create a function that given a year returns you a True if is a leap year\n",
    "[Hint](https://docs.microsoft.com/en-us/office/troubleshoot/excel/determine-a-leap-year)"
   ]
  },
  {
   "cell_type": "markdown",
   "id": "500d5ea0",
   "metadata": {},
   "source": [
    "#### Exercise 32.\n",
    "Given a sentence count the number of times that a word appears in the sentence."
   ]
  },
  {
   "cell_type": "markdown",
   "id": "53585a5e",
   "metadata": {},
   "source": [
    "#### Exercise 33.\n",
    "Create a function to calculate income/spending between two list with the same length and return a new list with the results. I case there was any problem use try/except statements."
   ]
  },
  {
   "cell_type": "markdown",
   "id": "5d9cb622",
   "metadata": {},
   "source": [
    "#### Exercise 34.\n",
    "1. A function to calculate square/rectangle area.\n",
    "2. A function to calculate triangle area.\n",
    "3. A function to calculate sphere area."
   ]
  },
  {
   "cell_type": "markdown",
   "id": "4474c464",
   "metadata": {},
   "source": [
    "#### Exercise 35.\n",
    "Write a function called return_day. This function takes in one parameter (a number from 1-7) and returns the day of the week (1 is Sunday, 2 is Monday etc.). If the number is less than 1 or greater than 7, the function should return None."
   ]
  },
  {
   "cell_type": "markdown",
   "id": "e3ec2db4",
   "metadata": {},
   "source": [
    "#### Exercise 36.\n",
    "Write a function called sma (Simple Moving Average) to calculate the moving average of a list given two parameters, a list and the moving window. [Hint](https://www.investopedia.com/terms/s/sma.asp)."
   ]
  },
  {
   "cell_type": "markdown",
   "id": "c491e266",
   "metadata": {},
   "source": [
    "#### Exercise 37.\n",
    "Write a function called ema (Exponential Moving Average) to calculate it as the previous exercises. [Hint](https://www.investopedia.com/ask/answers/122314/what-exponential-moving-average-ema-formula-and-how-ema-calculated.asp)."
   ]
  },
  {
   "cell_type": "markdown",
   "id": "156bcf1c-9f46-40fa-ad3a-c819b29905ca",
   "metadata": {},
   "source": [
    "<a id = \"7.\"></a>\n",
    "<a href=\"#IDX\"><p style=\"text-align:right;\" href=\"#IDX\">Back To Index</p></a> \n",
    "## 7. Modules"
   ]
  },
  {
   "cell_type": "markdown",
   "id": "ad9dd22c",
   "metadata": {},
   "source": [
    "#### Exercise 38.\n",
    "Create a function that return a random number between 1 and given integer."
   ]
  },
  {
   "cell_type": "markdown",
   "id": "d1d960a1",
   "metadata": {},
   "source": [
    "#### Exercise 39.\n",
    "Multiply the following matrixes with matrix mutiplication.\n",
    "```python\n",
    "import numpy as np\n",
    "matrix1 = np.array([[1, 0], [0, -1]])\n",
    "matrix2 = np.array([[3, 2], [1, 1]])\n",
    "```"
   ]
  },
  {
   "cell_type": "markdown",
   "id": "ddd3f076",
   "metadata": {},
   "source": [
    "#### Exercise 40.\n",
    "Write a function to select a random element from a given list."
   ]
  },
  {
   "cell_type": "markdown",
   "id": "5d3e7481-7b54-46aa-80da-a8c51c64fe44",
   "metadata": {},
   "source": [
    "<a id = \"8.\"></a>\n",
    "<a href=\"#IDX\"><p style=\"text-align:right;\" href=\"#IDX\">Back To Index</p></a> \n",
    "## 8. Functions (II)"
   ]
  },
  {
   "cell_type": "markdown",
   "id": "dc62b387",
   "metadata": {},
   "source": [
    "#### Exercise 41.\n",
    "Create an anonymous function to check if a string starts with a given argument."
   ]
  },
  {
   "cell_type": "markdown",
   "id": "6c509216",
   "metadata": {},
   "source": [
    "#### Exercise 42.\n",
    "Write a Python program to find palindromes in a given list of strings using Lambda."
   ]
  },
  {
   "cell_type": "markdown",
   "id": "e98e4842-7f5e-4a47-90a9-02a60cad77a0",
   "metadata": {},
   "source": [
    "<a id = \"9.\"></a>\n",
    "<a href=\"#IDX\"><p style=\"text-align:right;\" href=\"#IDX\">Back To Index</p></a> \n",
    "## 9. Classes"
   ]
  },
  {
   "cell_type": "markdown",
   "id": "0f8fb617",
   "metadata": {},
   "source": [
    "#### Exercise 43.\n",
    "Write a Python class named Converter\n",
    "1. Add a method from integer to a roman numeral.\n",
    "2. Add method from roman numeral to integer."
   ]
  },
  {
   "cell_type": "markdown",
   "id": "c98e7473",
   "metadata": {},
   "source": [
    "#### Exercise 44.\n",
    "Write a Python class which has two methods get_string and print_string. get_string accept a string from the user and print_string print the string in upper case."
   ]
  },
  {
   "cell_type": "markdown",
   "id": "0c5bad6e",
   "metadata": {},
   "source": [
    "#### Exercise 45.\n",
    "Create a Vehicle class with max_speed and mileage instance attributes."
   ]
  },
  {
   "cell_type": "markdown",
   "id": "3ba15d95",
   "metadata": {},
   "source": [
    "#### Exercise 46.\n",
    "Create a child class Bus that will inherit all of the variables and methods of the Vehicle class and display it."
   ]
  },
  {
   "cell_type": "markdown",
   "id": "8d367827",
   "metadata": {},
   "source": [
    "#### Exercise 47.\n",
    "Create a Bus class that inherits from the Vehicle class. Give the capacity argument of Bus.seating_capacity() a default value of 50."
   ]
  },
  {
   "cell_type": "markdown",
   "id": "76f2d7c5-d457-43d3-a899-814bde7a8a91",
   "metadata": {},
   "source": [
    "<a id = \"extra\"></a>\n",
    "<a href=\"#IDX\"><p style=\"text-align:right;\" href=\"#IDX\">Back To Index</p></a> \n",
    "## Extra"
   ]
  },
  {
   "cell_type": "markdown",
   "id": "75685af0-48ab-42fa-8aec-77ecc31cb710",
   "metadata": {},
   "source": [
    "Sign in into [Codewars](https://www.codewars.com/) to have a huge amount of different code challenges."
   ]
  }
 ],
 "metadata": {
  "kernelspec": {
   "display_name": "Python 3",
   "language": "python",
   "name": "python3"
  },
  "language_info": {
   "codemirror_mode": {
    "name": "ipython",
    "version": 3
   },
   "file_extension": ".py",
   "mimetype": "text/x-python",
   "name": "python",
   "nbconvert_exporter": "python",
   "pygments_lexer": "ipython3",
   "version": "3.8.10"
  }
 },
 "nbformat": 4,
 "nbformat_minor": 5
}
